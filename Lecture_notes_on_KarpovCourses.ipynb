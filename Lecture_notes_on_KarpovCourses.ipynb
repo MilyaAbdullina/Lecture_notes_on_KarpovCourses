{
 "cells": [
  {
   "cell_type": "markdown",
   "id": "d249b6fb",
   "metadata": {},
   "source": [
    "#### Лекции из  курса \n",
    "\n",
    "## \"Аналитик Данных\"\n",
    "от ***Анатолия Карпова***"
   ]
  },
  {
   "cell_type": "markdown",
   "id": "4b352d32",
   "metadata": {},
   "source": [
    "### Урок 1\n",
    "### Введение в Python и интерфейс Jupyter-Notebook"
   ]
  },
  {
   "cell_type": "markdown",
   "id": "de3d266e",
   "metadata": {},
   "source": [
    "<a name=\"abcde\">\n",
    "    \n",
    "___\n",
    "[Общий TUTORIAL](https://docs.python.org/3/contents.html) \n",
    "\n",
    "_я пользуюсь Ctrl + F_\n"
   ]
  },
  {
   "cell_type": "code",
   "execution_count": 1,
   "id": "bc35790d",
   "metadata": {},
   "outputs": [],
   "source": [
    "analysts = ['A', 'O', 'B'] # лучше не перезаписывать определеннную переменную, т е не сюда  вписывать четвертого члена, \n",
    "# а использовать команды append"
   ]
  },
  {
   "cell_type": "code",
   "execution_count": 2,
   "id": "1ce19197",
   "metadata": {},
   "outputs": [],
   "source": [
    "years = [2, 3, 4]"
   ]
  },
  {
   "cell_type": "code",
   "execution_count": 3,
   "id": "58db6de5",
   "metadata": {},
   "outputs": [],
   "source": [
    "analysts.append('M') # метод append"
   ]
  },
  {
   "cell_type": "code",
   "execution_count": 4,
   "id": "8805f74f",
   "metadata": {},
   "outputs": [
    {
     "data": {
      "text/plain": [
       "['A', 'O', 'B', 'M']"
      ]
     },
     "execution_count": 4,
     "metadata": {},
     "output_type": "execute_result"
    }
   ],
   "source": [
    "analysts"
   ]
  },
  {
   "cell_type": "code",
   "execution_count": 5,
   "id": "ca8ce431",
   "metadata": {},
   "outputs": [
    {
     "data": {
      "text/plain": [
       "4"
      ]
     },
     "execution_count": 5,
     "metadata": {},
     "output_type": "execute_result"
    }
   ],
   "source": [
    "len(analysts) # узнаем длину списка"
   ]
  },
  {
   "cell_type": "code",
   "execution_count": 6,
   "id": "0b15960e",
   "metadata": {},
   "outputs": [
    {
     "data": {
      "text/plain": [
       "'M'"
      ]
     },
     "execution_count": 6,
     "metadata": {},
     "output_type": "execute_result"
    }
   ],
   "source": [
    "analysts.pop(3) # метод pop - убираем третий элемент из списка, третий с учетом того что начинается с 0"
   ]
  },
  {
   "cell_type": "code",
   "execution_count": 7,
   "id": "f7d3325d",
   "metadata": {},
   "outputs": [
    {
     "data": {
      "text/plain": [
       "['A', 'O', 'B']"
      ]
     },
     "execution_count": 7,
     "metadata": {},
     "output_type": "execute_result"
    }
   ],
   "source": [
    "analysts"
   ]
  },
  {
   "cell_type": "markdown",
   "id": "1bb2e15a",
   "metadata": {},
   "source": [
    "___\n",
    "#### Конструкция \n",
    "\n",
    ">***IF:***\n",
    "\n",
    ">***ELSE:***\n",
    "\n",
    "[Tutorial](https://www.tutorialspoint.com/python/python_basic_syntax.htm)"
   ]
  },
  {
   "cell_type": "markdown",
   "id": "a74eb878",
   "metadata": {},
   "source": [
    "_Переменные логического типа **TRUE** и **FALSE** (bool)_ нам потребуются"
   ]
  },
  {
   "cell_type": "code",
   "execution_count": 8,
   "id": "f60ebffa",
   "metadata": {},
   "outputs": [],
   "source": [
    "has_job = False\n"
   ]
  },
  {
   "cell_type": "code",
   "execution_count": 9,
   "id": "da11c4b9",
   "metadata": {},
   "outputs": [
    {
     "name": "stdout",
     "output_type": "stream",
     "text": [
      "Anatoly is sad!\n"
     ]
    }
   ],
   "source": [
    "if has_job:\n",
    "    print('Anatoly is happy!')\n",
    "else:\n",
    "    print('Anatoly is sad!')"
   ]
  },
  {
   "cell_type": "code",
   "execution_count": 10,
   "id": "f6c76dc6",
   "metadata": {},
   "outputs": [
    {
     "data": {
      "text/plain": [
       "False"
      ]
     },
     "execution_count": 10,
     "metadata": {},
     "output_type": "execute_result"
    }
   ],
   "source": [
    "False == True"
   ]
  },
  {
   "cell_type": "markdown",
   "id": "4ffbd048",
   "metadata": {},
   "source": [
    "#### !!!Код должен быть максимально понятен всем читающим, и он должен быть максимально короток!"
   ]
  },
  {
   "cell_type": "code",
   "execution_count": 11,
   "id": "d0e7632e",
   "metadata": {},
   "outputs": [
    {
     "name": "stdout",
     "output_type": "stream",
     "text": [
      "Anatoly is sad!\n"
     ]
    }
   ],
   "source": [
    "if has_job:\n",
    "    message = 'Anatoly is happy!'\n",
    "else:\n",
    "    message = 'Anatoly is sad!'\n",
    "print(message)"
   ]
  },
  {
   "cell_type": "markdown",
   "id": "3a95df55",
   "metadata": {},
   "source": [
    "_Условия не всегда бинарные, если у нас более двух исходов, то используем нижеследующую конструкцию_"
   ]
  },
  {
   "cell_type": "code",
   "execution_count": 12,
   "id": "12627434",
   "metadata": {},
   "outputs": [],
   "source": [
    "job_years = 5"
   ]
  },
  {
   "cell_type": "code",
   "execution_count": 13,
   "id": "95d9d6f4",
   "metadata": {},
   "outputs": [],
   "source": [
    "salary = 200000"
   ]
  },
  {
   "cell_type": "code",
   "execution_count": 14,
   "id": "e28adfbb",
   "metadata": {},
   "outputs": [
    {
     "name": "stdout",
     "output_type": "stream",
     "text": [
      "0.4 addition\n",
      "280000.0\n"
     ]
    }
   ],
   "source": [
    "if job_years < 1:\n",
    "    print('No addition money')\n",
    "    new_salary = salary + salary * 0\n",
    "elif job_years >= 1 and job_years <=2:\n",
    "    print('0.2 addition')\n",
    "    new_salary = salary + salary * 0.2\n",
    "else:\n",
    "    print('0.4 addition')\n",
    "    new_salary = salary + salary * 0.4\n",
    "    \n",
    "print(new_salary)"
   ]
  },
  {
   "cell_type": "markdown",
   "id": "f75bd3ea",
   "metadata": {},
   "source": [
    "___\n",
    "#### Метод строк Format\n",
    "\n",
    ">***FORMAT***\n",
    "\n",
    "_Попробуем усовершенствовать код написанный выше_\n",
    "\n",
    "[Метод format пояснения на русском](https://pythonworld.ru/osnovy/formatirovanie-strok-metod-format.html)"
   ]
  },
  {
   "cell_type": "code",
   "execution_count": 15,
   "id": "11dc1cdc",
   "metadata": {},
   "outputs": [],
   "source": [
    "message = 'Addition is equal ' # заведем заготовку сообщения"
   ]
  },
  {
   "cell_type": "code",
   "execution_count": 16,
   "id": "8864a865",
   "metadata": {},
   "outputs": [
    {
     "name": "stdout",
     "output_type": "stream",
     "text": [
      "Addition is equal 0.4\n",
      "280000.0\n"
     ]
    }
   ],
   "source": [
    "if job_years < 1:\n",
    "    coef = 0\n",
    "elif job_years >= 1 and job_years <=2:\n",
    "    coef = 0.2\n",
    "else:\n",
    "    coef = 0.4\n",
    "    \n",
    "new_salary = salary + salary * coef \n",
    "\n",
    "print(message + str(coef)) # конкетинрование строк (сложение) через + не самое лучшее решение\n",
    "print(new_salary)"
   ]
  },
  {
   "cell_type": "markdown",
   "id": "2c7b9ff0",
   "metadata": {},
   "source": [
    "_Есть специальный FORMAT для такого случая_"
   ]
  },
  {
   "cell_type": "code",
   "execution_count": 17,
   "id": "91ea9342",
   "metadata": {},
   "outputs": [],
   "source": [
    "message = 'Addition is equal {}'.format(coef) # "
   ]
  },
  {
   "cell_type": "code",
   "execution_count": 18,
   "id": "8ea43bd2",
   "metadata": {},
   "outputs": [
    {
     "data": {
      "text/plain": [
       "'Addition is equal 0.4'"
      ]
     },
     "execution_count": 18,
     "metadata": {},
     "output_type": "execute_result"
    }
   ],
   "source": [
    "message"
   ]
  },
  {
   "cell_type": "markdown",
   "id": "2ec72efe",
   "metadata": {},
   "source": [
    "_Но если заранее не известна эта переменная, то лучше делать FORMAT после определения коэффициента_"
   ]
  },
  {
   "cell_type": "code",
   "execution_count": 19,
   "id": "9470a0d8",
   "metadata": {},
   "outputs": [],
   "source": [
    "message = 'Addition is equal {}. New salary is {}.'"
   ]
  },
  {
   "cell_type": "code",
   "execution_count": 20,
   "id": "b827b1c1",
   "metadata": {},
   "outputs": [
    {
     "name": "stdout",
     "output_type": "stream",
     "text": [
      "Addition is equal 0.4. New salary is 280000.0.\n"
     ]
    }
   ],
   "source": [
    "if job_years < 1:\n",
    "    coef = 0\n",
    "elif job_years >= 1 and job_years <=2:\n",
    "    coef = 0.2\n",
    "else:\n",
    "    coef = 0.4\n",
    "    \n",
    "new_salary = salary + salary * coef \n",
    "\n",
    "print(message.format(coef, new_salary)) # через FORMAT\n"
   ]
  },
  {
   "cell_type": "markdown",
   "id": "604b845b",
   "metadata": {},
   "source": [
    "___\n",
    "#### Конструкция \n",
    "\n",
    ">***FOR***\n",
    "\n"
   ]
  },
  {
   "cell_type": "code",
   "execution_count": 21,
   "id": "e122d7a7",
   "metadata": {},
   "outputs": [],
   "source": [
    "analysts = ['Anatoly', 'Olga', 'Beslan'] # так переменную (список) лучше не перезаписывать, лучше обращаться к существующему\n",
    "#списку, мы скопировали, чтоб вспомнить  в рамках лекции"
   ]
  },
  {
   "cell_type": "code",
   "execution_count": 22,
   "id": "d211295b",
   "metadata": {},
   "outputs": [
    {
     "name": "stdout",
     "output_type": "stream",
     "text": [
      "Anatoly\n",
      "Olga\n",
      "Beslan\n"
     ]
    }
   ],
   "source": [
    "for analyst in analysts: # переменную можно называть по любому, но лучше чтоб было понятно, не просто i\n",
    "    print(analyst)"
   ]
  },
  {
   "cell_type": "code",
   "execution_count": 23,
   "id": "fd5e937c",
   "metadata": {},
   "outputs": [
    {
     "name": "stdout",
     "output_type": "stream",
     "text": [
      "Anatoly\n",
      "Olga\n",
      "Beslan\n"
     ]
    }
   ],
   "source": [
    "for _ in analysts: # также допускается прочерк вместо переменной, если мы ее потом не используем нигде\n",
    "    print(_)"
   ]
  },
  {
   "cell_type": "code",
   "execution_count": 24,
   "id": "afbede69",
   "metadata": {},
   "outputs": [
    {
     "name": "stdout",
     "output_type": "stream",
     "text": [
      "Analyst namу is Anatoly\n",
      "Analyst namу is Olga\n",
      "Analyst namу is Beslan\n"
     ]
    }
   ],
   "source": [
    "for _ in analysts: # также допускается прочерк вместо переменной, даже в формате\n",
    "    print('Analyst namу is {}'.format(_))"
   ]
  },
  {
   "cell_type": "markdown",
   "id": "56f20bac",
   "metadata": {},
   "source": [
    "_Цикл for может пробежаться по каждому элементу массива (список, табличные данные, словари)_"
   ]
  },
  {
   "cell_type": "markdown",
   "id": "3606e4b1",
   "metadata": {},
   "source": [
    "___\n",
    "#### Словари\n",
    "\n",
    ">***DICTIONARY***\n",
    "\n",
    "[Tutorial](https://www.tutorialspoint.com/python/python_dictionary.htm)\n",
    "\n",
    "_С использованием ключа_\n",
    "\n",
    "Синтаксис элементов в словаре – ```{key: value}```"
   ]
  },
  {
   "cell_type": "markdown",
   "id": "1aea417d",
   "metadata": {},
   "source": [
    "_Анатолий_ советует тренироваться на Python дома, чтоб набить руку, подойдет [leetcode](https://leetcode.com/)"
   ]
  },
  {
   "cell_type": "code",
   "execution_count": 25,
   "id": "543eeb36",
   "metadata": {},
   "outputs": [],
   "source": [
    "analyst_data = {'Anatoly': 2, 'Olga': 3, 'Beslan': 4} # особенность словаря, что есть ключ (имя в нашем случае) \n",
    "# и значение (опыт работы в нашем случае)"
   ]
  },
  {
   "cell_type": "code",
   "execution_count": 26,
   "id": "e860f3cf",
   "metadata": {},
   "outputs": [
    {
     "data": {
      "text/plain": [
       "4"
      ]
     },
     "execution_count": 26,
     "metadata": {},
     "output_type": "execute_result"
    }
   ],
   "source": [
    "analyst_data['Beslan'] # к значению уже обращаемся не по индексу, а по ключу"
   ]
  },
  {
   "cell_type": "code",
   "execution_count": 27,
   "id": "6f628867",
   "metadata": {},
   "outputs": [],
   "source": [
    "analyst_data['Michael'] = 10 # добавляем аналогично элемент, но уже по ключу"
   ]
  },
  {
   "cell_type": "code",
   "execution_count": 28,
   "id": "3aa87794",
   "metadata": {},
   "outputs": [
    {
     "data": {
      "text/plain": [
       "{'Anatoly': 2, 'Olga': 3, 'Beslan': 4, 'Michael': 10}"
      ]
     },
     "execution_count": 28,
     "metadata": {},
     "output_type": "execute_result"
    }
   ],
   "source": [
    "analyst_data"
   ]
  },
  {
   "cell_type": "code",
   "execution_count": 29,
   "id": "bc903703",
   "metadata": {},
   "outputs": [],
   "source": [
    "# analyst_data[0] # получим ошибку, т к по индексу к словарю обращаться нельзя"
   ]
  },
  {
   "attachments": {
    "%D0%B8%D0%B7%D0%BE%D0%B1%D1%80%D0%B0%D0%B6%D0%B5%D0%BD%D0%B8%D0%B5.png": {
     "image/png": "[encoded data removed]"
    }
   },
   "cell_type": "markdown",
   "id": "98683f0b",
   "metadata": {},
   "source": [
    "![%D0%B8%D0%B7%D0%BE%D0%B1%D1%80%D0%B0%D0%B6%D0%B5%D0%BD%D0%B8%D0%B5.png](attachment:%D0%B8%D0%B7%D0%BE%D0%B1%D1%80%D0%B0%D0%B6%D0%B5%D0%BD%D0%B8%D0%B5.png)"
   ]
  },
  {
   "cell_type": "markdown",
   "id": "f8971e37",
   "metadata": {},
   "source": [
    "_Словарь удобен для хранения связки информации_"
   ]
  },
  {
   "cell_type": "code",
   "execution_count": 30,
   "id": "dd114182",
   "metadata": {},
   "outputs": [],
   "source": [
    "analyst_data = {'Anatoly': [2, 10000], 'Olga': [3, 20000], 'Beslan': [4, 30000]} # можем добавлять list в качестве значения"
   ]
  },
  {
   "cell_type": "code",
   "execution_count": 31,
   "id": "228a3796",
   "metadata": {},
   "outputs": [
    {
     "name": "stdout",
     "output_type": "stream",
     "text": [
      "Analyst name is Anatoly, experience is 2, salary is 10000.\n",
      "Analyst name is Olga, experience is 3, salary is 20000.\n",
      "Analyst name is Beslan, experience is 4, salary is 30000.\n"
     ]
    }
   ],
   "source": [
    "message_data = 'Analyst name is {}, experience is {}, salary is {}.'\n",
    "for i in analyst_data:\n",
    "    name = i\n",
    "    experience = analyst_data[i][0]\n",
    "    salary = analyst_data[i][1]\n",
    "    print(message_data.format(name, experience, salary)) # цикл для печати текста о каждом аналитике"
   ]
  },
  {
   "cell_type": "markdown",
   "id": "f8e1cda5",
   "metadata": {},
   "source": [
    "_Можно внутри цикла накручивать логические операции_"
   ]
  },
  {
   "cell_type": "code",
   "execution_count": 32,
   "id": "19dc4db8",
   "metadata": {},
   "outputs": [
    {
     "name": "stdout",
     "output_type": "stream",
     "text": [
      "C опытом больше или равно 3 года в компании:\n",
      "Olga 3\n",
      "Beslan 4\n"
     ]
    }
   ],
   "source": [
    "print('C опытом больше или равно 3 года в компании:')\n",
    "for i in analyst_data:\n",
    "    if analyst_data[i][0] >= 3:\n",
    "        print(i, analyst_data[i][0])"
   ]
  },
  {
   "cell_type": "markdown",
   "id": "0666580e",
   "metadata": {},
   "source": [
    "### _ДЗ на [Stepic](https://stepik.org/lesson/375661/step/2?unit=363411)_"
   ]
  },
  {
   "cell_type": "markdown",
   "id": "e701c107",
   "metadata": {},
   "source": [
    "Начнём с простого: сохраните в переменную age произвольный возраст, выраженный целым числом, а в переменную name – какое-нибудь имя в виде строки."
   ]
  },
  {
   "cell_type": "code",
   "execution_count": 33,
   "id": "e6b4e92e",
   "metadata": {},
   "outputs": [],
   "source": [
    "age = 15\n",
    "name = 'Sasha'"
   ]
  },
  {
   "cell_type": "markdown",
   "id": "95bca700",
   "metadata": {},
   "source": [
    "Создайте список user_info, содержащий 4 элемента:\n",
    "\n",
    "    - 2 строки (имя и фамилия пользователя)\n",
    "    - 1 дробное число (зарплата)\n",
    "    - 1 целое число (стаж)\n"
   ]
  },
  {
   "cell_type": "code",
   "execution_count": 34,
   "id": "d29d2bbd",
   "metadata": {},
   "outputs": [],
   "source": [
    "user_info = ['Alex', 'Mak', 252525.50, 5]"
   ]
  },
  {
   "cell_type": "markdown",
   "id": "a699955c",
   "metadata": {},
   "source": [
    "Поместите в переменную **firs**t первый (т.е. нулевой) элемент из списка **salaries**. Сам список создавать не нужно, он уже находится в переменной **salaries**."
   ]
  },
  {
   "cell_type": "code",
   "execution_count": 35,
   "id": "a1fac42b",
   "metadata": {},
   "outputs": [],
   "source": [
    "salaries = (252525.50, 252525.50) # в степике не нужно это создавать\n",
    "first = salaries[0]"
   ]
  },
  {
   "cell_type": "markdown",
   "id": "b6448390",
   "metadata": {},
   "source": [
    "Добавьте в уже созданный список users элементы _'Voronov'_ и _42_."
   ]
  },
  {
   "cell_type": "code",
   "execution_count": 36,
   "id": "a6602f0c",
   "metadata": {},
   "outputs": [],
   "source": [
    "users = list() # в степике не нужно это создавать\n",
    "users.append('Voronov')\n",
    "users.append(42)\n"
   ]
  },
  {
   "cell_type": "markdown",
   "id": "b6f87b00",
   "metadata": {},
   "source": [
    "В переменной **user_ages** содержится список возрастов клиентов. Напишите цикл, выводящий на печать элементы больше 18.\n",
    "\n",
    "Пример данных, которые могут быть в user_ages:\n",
    "\n",
    "```\n",
    "user_ages = [10, 18, 21, 35, 42, 27, 12, 16]\n",
    "```\n",
    "\n",
    "Note: в этом задании эти числа нужно печатать."
   ]
  },
  {
   "cell_type": "code",
   "execution_count": 37,
   "id": "f1e73a06",
   "metadata": {},
   "outputs": [
    {
     "name": "stdout",
     "output_type": "stream",
     "text": [
      "21\n",
      "35\n",
      "42\n",
      "27\n"
     ]
    }
   ],
   "source": [
    "user_ages = [10, 18, 21, 35, 42, 27, 12, 16] # эта строчка в степике не нужна\n",
    "for i in user_ages:\n",
    "    if i > 18:\n",
    "        print(i)"
   ]
  },
  {
   "cell_type": "markdown",
   "id": "12521f42",
   "metadata": {},
   "source": [
    "Напишите программу, проверяющую стаж работы сотрудника. В переменной **worker** содержится список, содержащий значения как во 2-м задании (имя, фамилия, зарплата, стаж). Поместите в переменную **status** следующую строку:\n",
    "\n",
    "```\n",
    "user_name user_family is position\n",
    "```\n",
    "\n",
    "где **user_name** и **user_family** — имя и фамилия сотрудника, а **position** — одно из следующих значений:\n",
    "\n",
    "    'junior' — стаж меньше 2 лет\n",
    "    'middle' — стаж больше либо равен 2 лет\n",
    "    'senior' — стаж больше 5 лет \n",
    "\n",
    "Пример данных, которые могут быть в worker:\n",
    "\n",
    "```\n",
    "worker = ['Olya', 'Silyutina', 350000, 3]\n",
    "```\n",
    "\n",
    "Hint: печатать результат не нужно, просто запишите его в переменную status."
   ]
  },
  {
   "cell_type": "code",
   "execution_count": 38,
   "id": "61a200eb",
   "metadata": {},
   "outputs": [
    {
     "data": {
      "text/plain": [
       "'Olya Silyutina is middle'"
      ]
     },
     "execution_count": 38,
     "metadata": {},
     "output_type": "execute_result"
    }
   ],
   "source": [
    "worker = ['Olya', 'Silyutina', 350000, 3] # эта строчка в степике не нужна\n",
    "if worker[3] < 2:\n",
    "    position = 'junior'\n",
    "elif 2 <= worker[3] <= 5:\n",
    "    position = 'middle'\n",
    "else:\n",
    "    position = 'senior'\n",
    "\n",
    "\n",
    "status = worker[0] + ' ' + worker[1] + ' ' + 'is' + ' ' + position # сделали без format, но лучше так не делать!\n",
    "status"
   ]
  },
  {
   "cell_type": "markdown",
   "id": "4cfa2138",
   "metadata": {},
   "source": [
    "В списке **values** содержатся числовые значения. Создайте список **tens** и добавьте в него все числа из **values**, которые делятся на 10 нацело.\n",
    "\n",
    "Пример данных, которые могут быть в values:\n",
    "\n",
    "```\n",
    "values = [12, 134, 10, 47, 100, 20, 50, 160, 210]\n",
    "```"
   ]
  },
  {
   "cell_type": "code",
   "execution_count": 39,
   "id": "40d99755",
   "metadata": {},
   "outputs": [
    {
     "data": {
      "text/plain": [
       "[10, 100, 20, 50, 160, 210]"
      ]
     },
     "execution_count": 39,
     "metadata": {},
     "output_type": "execute_result"
    }
   ],
   "source": [
    "values = [12, 134, 10, 47, 100, 20, 50, 160, 210] # в степике эта строчка не нужна\n",
    "tens = []\n",
    "for i in values:\n",
    "    if i % 10 == 0:\n",
    "        tens.append(i)\n",
    "tens # в степике выводить не нужно, здесь для просмотра "
   ]
  },
  {
   "cell_type": "markdown",
   "id": "04c4ed53",
   "metadata": {},
   "source": [
    "⭐️Задание со звёздочкой!⭐️\n",
    "\n",
    "Реализуйте цикл, который пробегается по уже созданному списку **workers** со значениями как в 2-м и 6-м заданиях и выводит для каждого сотрудника следующую строку (то есть печатает её для каждого элемента списка):\n",
    "\n",
    "```\n",
    "user_name user_family is position\n",
    "```\n",
    "\n",
    "где **user_name** и **user_family** — имя и фамилия сотрудника, а **position** — одна из следующих строк:\n",
    "\n",
    "    'junior' — стаж меньше 2 лет\n",
    "    'middle' — стаж больше либо равен 2\n",
    "    'senior' — стаж строго больше 5 лет \n",
    "\n",
    "Пример данных, которые могут быть в workers:\n",
    "\n",
    "```\n",
    "workers = [['Ivan', 'Ivanov', 100000, 2], ['Petr', 'Petrov', 150000, 2], ['Sidor', 'Sidorov', 200000, 3]]\n",
    "```\n",
    "\n",
    "Note: в этом задании эти строки нужно печатать."
   ]
  },
  {
   "cell_type": "code",
   "execution_count": 40,
   "id": "24b05261",
   "metadata": {},
   "outputs": [
    {
     "name": "stdout",
     "output_type": "stream",
     "text": [
      "Ivan Ivanov is middle\n",
      "Petr Petrov is middle\n",
      "Sidor Sidorov is middle\n"
     ]
    }
   ],
   "source": [
    "workers = [['Ivan', 'Ivanov', 100000, 2], ['Petr', 'Petrov', 150000, 2], ['Sidor', 'Sidorov', 200000, 3]] # в степике эта строка не нужна\n",
    "def text (worker):\n",
    "    if worker[3] > 5:\n",
    "        position ='senior'\n",
    "    elif worker[3] < 2:\n",
    "        position ='junior'\n",
    "    else:\n",
    "        position ='middle'\n",
    "    status = '{} {} is {}'.format(worker[0],worker[1],position)\n",
    "    return status\n",
    "\n",
    "for i in workers:\n",
    "    print(text(i))"
   ]
  },
  {
   "cell_type": "markdown",
   "id": "d12d6621",
   "metadata": {},
   "source": [
    "___\n",
    "___\n",
    "___"
   ]
  },
  {
   "cell_type": "markdown",
   "id": "b0d9cdd3",
   "metadata": {},
   "source": [
    "### Урок 2\n",
    "### Введение в библиотеку pandas"
   ]
  },
  {
   "cell_type": "markdown",
   "id": "77ed6fac",
   "metadata": {},
   "source": [
    "Всегда ```import``` нужно делать в самой первой строке, в начале кода (_здесь мы отклоняемся от этого правила, для сохранения порядка конспекта лекции_)\n",
    "\n",
    "В идеале все ```import```  должны быть [здесь](#abcde)\n",
    "\n",
    "[Общий TUTORIAL](https://pandas.pydata.org/pandas-docs/stable/user_guide/10min.html?highlight=method)"
   ]
  },
  {
   "cell_type": "code",
   "execution_count": 41,
   "id": "c18985c5",
   "metadata": {},
   "outputs": [],
   "source": [
    "import pandas as pd # импортировали библиотеку pandas как pd? далее будем обращаться к библиотеке по сокращению pd"
   ]
  },
  {
   "cell_type": "markdown",
   "id": "610143be",
   "metadata": {},
   "source": [
    "***! После начала набора можем нажать на Tab чтобы выпал список операций***\n",
    "\n",
    "Также стоит обратить внимание, что если наш файл с данными лежит в той же папке, где и наш _jupyter notebook_, то можно к нему обращаться без указания адреса, но если указать полный адрес, будет то же самое, т е оба приведенных варианта работают в нашем случае"
   ]
  },
  {
   "cell_type": "code",
   "execution_count": 42,
   "id": "00599191",
   "metadata": {},
   "outputs": [],
   "source": [
    "df = pd.read_csv('lesson_1_data.csv', encoding = 'windows-1251', sep = ';')"
   ]
  },
  {
   "cell_type": "code",
   "execution_count": 43,
   "id": "dc236869",
   "metadata": {},
   "outputs": [],
   "source": [
    "df = pd.read_csv('/Users/admin/jupyter_notebook/lesson_1_data.csv', encoding = 'windows-1251', sep = ';')"
   ]
  },
  {
   "cell_type": "markdown",
   "id": "a882610c",
   "metadata": {},
   "source": [
    "***!!! Всю информацию по библиотеке pandas берем [тут](https://pandas.pydata.org/pandas-docs/stable/index.html)***"
   ]
  },
  {
   "cell_type": "code",
   "execution_count": 44,
   "id": "d8220302",
   "metadata": {},
   "outputs": [
    {
     "data": {
      "text/html": [
       "<div>\n",
       "<style scoped>\n",
       "    .dataframe tbody tr th:only-of-type {\n",
       "        vertical-align: middle;\n",
       "    }\n",
       "\n",
       "    .dataframe tbody tr th {\n",
       "        vertical-align: top;\n",
       "    }\n",
       "\n",
       "    .dataframe thead th {\n",
       "        text-align: right;\n",
       "    }\n",
       "</style>\n",
       "<table border=\"1\" class=\"dataframe\">\n",
       "  <thead>\n",
       "    <tr style=\"text-align: right;\">\n",
       "      <th></th>\n",
       "      <th>Номер</th>\n",
       "      <th>Дата создания</th>\n",
       "      <th>Дата оплаты</th>\n",
       "      <th>Title</th>\n",
       "      <th>Статус</th>\n",
       "      <th>Заработано</th>\n",
       "      <th>Город</th>\n",
       "      <th>Платежная система</th>\n",
       "    </tr>\n",
       "  </thead>\n",
       "  <tbody>\n",
       "    <tr>\n",
       "      <th>0</th>\n",
       "      <td>1062823</td>\n",
       "      <td>01.12.2019 10:50</td>\n",
       "      <td>01.12.2019 10:52</td>\n",
       "      <td>Курс обучения «Эксперт»</td>\n",
       "      <td>Завершен</td>\n",
       "      <td>29597.50</td>\n",
       "      <td>Чита</td>\n",
       "      <td>Сбербанк эквайринг</td>\n",
       "    </tr>\n",
       "    <tr>\n",
       "      <th>1</th>\n",
       "      <td>1062855</td>\n",
       "      <td>01.12.2019 20:53</td>\n",
       "      <td>01.12.2019 21:27</td>\n",
       "      <td>Курс обучения «Эксперт»</td>\n",
       "      <td>Завершен</td>\n",
       "      <td>17450.30</td>\n",
       "      <td>Краснодар</td>\n",
       "      <td>Яндекс.Касса</td>\n",
       "    </tr>\n",
       "    <tr>\n",
       "      <th>2</th>\n",
       "      <td>1062856</td>\n",
       "      <td>01.12.2019 21:43</td>\n",
       "      <td>NaN</td>\n",
       "      <td>Курс обучения «Специалист»</td>\n",
       "      <td>Отменен</td>\n",
       "      <td>0.00</td>\n",
       "      <td>NaN</td>\n",
       "      <td>NaN</td>\n",
       "    </tr>\n",
       "    <tr>\n",
       "      <th>3</th>\n",
       "      <td>1062880</td>\n",
       "      <td>03.12.2019 0:18</td>\n",
       "      <td>NaN</td>\n",
       "      <td>Курс обучения «Консультант»</td>\n",
       "      <td>Отменен</td>\n",
       "      <td>0.00</td>\n",
       "      <td>г.Москва и Московская область</td>\n",
       "      <td>NaN</td>\n",
       "    </tr>\n",
       "    <tr>\n",
       "      <th>4</th>\n",
       "      <td>1062899</td>\n",
       "      <td>03.12.2019 21:43</td>\n",
       "      <td>NaN</td>\n",
       "      <td>Курс обучения «Эксперт»</td>\n",
       "      <td>Отменен</td>\n",
       "      <td>0.00</td>\n",
       "      <td>г.Москва и Московская область</td>\n",
       "      <td>NaN</td>\n",
       "    </tr>\n",
       "    <tr>\n",
       "      <th>...</th>\n",
       "      <td>...</td>\n",
       "      <td>...</td>\n",
       "      <td>...</td>\n",
       "      <td>...</td>\n",
       "      <td>...</td>\n",
       "      <td>...</td>\n",
       "      <td>...</td>\n",
       "      <td>...</td>\n",
       "    </tr>\n",
       "    <tr>\n",
       "      <th>287</th>\n",
       "      <td>1064720</td>\n",
       "      <td>30.12.2019 9:42</td>\n",
       "      <td>30.12.2019 12:49</td>\n",
       "      <td>Подписка «ОНЛАЙН ДИЕТОЛОГ» с ежемесячным автос...</td>\n",
       "      <td>Завершен</td>\n",
       "      <td>2935.44</td>\n",
       "      <td>Самарская область</td>\n",
       "      <td>Яндекс.Касса</td>\n",
       "    </tr>\n",
       "    <tr>\n",
       "      <th>288</th>\n",
       "      <td>1064724</td>\n",
       "      <td>30.12.2019 11:32</td>\n",
       "      <td>NaN</td>\n",
       "      <td>Курс обучения «Консультант»</td>\n",
       "      <td>Отменен</td>\n",
       "      <td>0.00</td>\n",
       "      <td>NaN</td>\n",
       "      <td>NaN</td>\n",
       "    </tr>\n",
       "    <tr>\n",
       "      <th>289</th>\n",
       "      <td>1064775</td>\n",
       "      <td>31.12.2019 2:17</td>\n",
       "      <td>31.12.2019 2:22</td>\n",
       "      <td>Курс обучения «Консультант»</td>\n",
       "      <td>Завершен</td>\n",
       "      <td>7423.92</td>\n",
       "      <td>NaN</td>\n",
       "      <td>Сбербанк эквайринг,Бонусный счет</td>\n",
       "    </tr>\n",
       "    <tr>\n",
       "      <th>290</th>\n",
       "      <td>1064793</td>\n",
       "      <td>31.12.2019 16:40</td>\n",
       "      <td>01.01.2020 14:29</td>\n",
       "      <td>Подписка «ОНЛАЙН ДИЕТОЛОГ» с ежемесячным автос...</td>\n",
       "      <td>Завершен</td>\n",
       "      <td>2935.44</td>\n",
       "      <td>Республика Карелия</td>\n",
       "      <td>Яндекс.Касса</td>\n",
       "    </tr>\n",
       "    <tr>\n",
       "      <th>291</th>\n",
       "      <td>1064796</td>\n",
       "      <td>31.12.2019 17:29</td>\n",
       "      <td>31.12.2019 17:32</td>\n",
       "      <td>Курс от Школы Диетологов. Повышение квалификац...</td>\n",
       "      <td>Завершен</td>\n",
       "      <td>9898.56</td>\n",
       "      <td>Уфа</td>\n",
       "      <td>Сбербанк эквайринг,Бонусный счет</td>\n",
       "    </tr>\n",
       "  </tbody>\n",
       "</table>\n",
       "<p>292 rows × 8 columns</p>\n",
       "</div>"
      ],
      "text/plain": [
       "       Номер     Дата создания       Дата оплаты  \\\n",
       "0    1062823  01.12.2019 10:50  01.12.2019 10:52   \n",
       "1    1062855  01.12.2019 20:53  01.12.2019 21:27   \n",
       "2    1062856  01.12.2019 21:43               NaN   \n",
       "3    1062880   03.12.2019 0:18               NaN   \n",
       "4    1062899  03.12.2019 21:43               NaN   \n",
       "..       ...               ...               ...   \n",
       "287  1064720   30.12.2019 9:42  30.12.2019 12:49   \n",
       "288  1064724  30.12.2019 11:32               NaN   \n",
       "289  1064775   31.12.2019 2:17   31.12.2019 2:22   \n",
       "290  1064793  31.12.2019 16:40  01.01.2020 14:29   \n",
       "291  1064796  31.12.2019 17:29  31.12.2019 17:32   \n",
       "\n",
       "                                                 Title    Статус  Заработано  \\\n",
       "0                              Курс обучения «Эксперт»  Завершен    29597.50   \n",
       "1                              Курс обучения «Эксперт»  Завершен    17450.30   \n",
       "2                           Курс обучения «Специалист»   Отменен        0.00   \n",
       "3                          Курс обучения «Консультант»   Отменен        0.00   \n",
       "4                              Курс обучения «Эксперт»   Отменен        0.00   \n",
       "..                                                 ...       ...         ...   \n",
       "287  Подписка «ОНЛАЙН ДИЕТОЛОГ» с ежемесячным автос...  Завершен     2935.44   \n",
       "288                        Курс обучения «Консультант»   Отменен        0.00   \n",
       "289                        Курс обучения «Консультант»  Завершен     7423.92   \n",
       "290  Подписка «ОНЛАЙН ДИЕТОЛОГ» с ежемесячным автос...  Завершен     2935.44   \n",
       "291  Курс от Школы Диетологов. Повышение квалификац...  Завершен     9898.56   \n",
       "\n",
       "                             Город                 Платежная система  \n",
       "0                             Чита                Сбербанк эквайринг  \n",
       "1                        Краснодар                      Яндекс.Касса  \n",
       "2                              NaN                               NaN  \n",
       "3    г.Москва и Московская область                               NaN  \n",
       "4    г.Москва и Московская область                               NaN  \n",
       "..                             ...                               ...  \n",
       "287              Самарская область                      Яндекс.Касса  \n",
       "288                            NaN                               NaN  \n",
       "289                            NaN  Сбербанк эквайринг,Бонусный счет  \n",
       "290             Республика Карелия                      Яндекс.Касса  \n",
       "291                            Уфа  Сбербанк эквайринг,Бонусный счет  \n",
       "\n",
       "[292 rows x 8 columns]"
      ]
     },
     "execution_count": 44,
     "metadata": {},
     "output_type": "execute_result"
    }
   ],
   "source": [
    "df\n"
   ]
  },
  {
   "cell_type": "markdown",
   "id": "523ed0b1",
   "metadata": {},
   "source": [
    "___\n",
    "#### Методы и атрибуты DataFrame\n",
    "\n",
    ">***DataFrame***\n",
    "\n",
    ">***Rename***\n",
    "\n"
   ]
  },
  {
   "cell_type": "code",
   "execution_count": 45,
   "id": "575aec79",
   "metadata": {},
   "outputs": [
    {
     "data": {
      "text/html": [
       "<div>\n",
       "<style scoped>\n",
       "    .dataframe tbody tr th:only-of-type {\n",
       "        vertical-align: middle;\n",
       "    }\n",
       "\n",
       "    .dataframe tbody tr th {\n",
       "        vertical-align: top;\n",
       "    }\n",
       "\n",
       "    .dataframe thead th {\n",
       "        text-align: right;\n",
       "    }\n",
       "</style>\n",
       "<table border=\"1\" class=\"dataframe\">\n",
       "  <thead>\n",
       "    <tr style=\"text-align: right;\">\n",
       "      <th></th>\n",
       "      <th>Номер</th>\n",
       "      <th>Дата создания</th>\n",
       "      <th>Дата оплаты</th>\n",
       "      <th>Title</th>\n",
       "      <th>Статус</th>\n",
       "      <th>Заработано</th>\n",
       "      <th>Город</th>\n",
       "      <th>Платежная система</th>\n",
       "    </tr>\n",
       "  </thead>\n",
       "  <tbody>\n",
       "    <tr>\n",
       "      <th>0</th>\n",
       "      <td>1062823</td>\n",
       "      <td>01.12.2019 10:50</td>\n",
       "      <td>01.12.2019 10:52</td>\n",
       "      <td>Курс обучения «Эксперт»</td>\n",
       "      <td>Завершен</td>\n",
       "      <td>29597.5</td>\n",
       "      <td>Чита</td>\n",
       "      <td>Сбербанк эквайринг</td>\n",
       "    </tr>\n",
       "    <tr>\n",
       "      <th>1</th>\n",
       "      <td>1062855</td>\n",
       "      <td>01.12.2019 20:53</td>\n",
       "      <td>01.12.2019 21:27</td>\n",
       "      <td>Курс обучения «Эксперт»</td>\n",
       "      <td>Завершен</td>\n",
       "      <td>17450.3</td>\n",
       "      <td>Краснодар</td>\n",
       "      <td>Яндекс.Касса</td>\n",
       "    </tr>\n",
       "    <tr>\n",
       "      <th>2</th>\n",
       "      <td>1062856</td>\n",
       "      <td>01.12.2019 21:43</td>\n",
       "      <td>NaN</td>\n",
       "      <td>Курс обучения «Специалист»</td>\n",
       "      <td>Отменен</td>\n",
       "      <td>0.0</td>\n",
       "      <td>NaN</td>\n",
       "      <td>NaN</td>\n",
       "    </tr>\n",
       "    <tr>\n",
       "      <th>3</th>\n",
       "      <td>1062880</td>\n",
       "      <td>03.12.2019 0:18</td>\n",
       "      <td>NaN</td>\n",
       "      <td>Курс обучения «Консультант»</td>\n",
       "      <td>Отменен</td>\n",
       "      <td>0.0</td>\n",
       "      <td>г.Москва и Московская область</td>\n",
       "      <td>NaN</td>\n",
       "    </tr>\n",
       "    <tr>\n",
       "      <th>4</th>\n",
       "      <td>1062899</td>\n",
       "      <td>03.12.2019 21:43</td>\n",
       "      <td>NaN</td>\n",
       "      <td>Курс обучения «Эксперт»</td>\n",
       "      <td>Отменен</td>\n",
       "      <td>0.0</td>\n",
       "      <td>г.Москва и Московская область</td>\n",
       "      <td>NaN</td>\n",
       "    </tr>\n",
       "  </tbody>\n",
       "</table>\n",
       "</div>"
      ],
      "text/plain": [
       "     Номер     Дата создания       Дата оплаты                        Title  \\\n",
       "0  1062823  01.12.2019 10:50  01.12.2019 10:52      Курс обучения «Эксперт»   \n",
       "1  1062855  01.12.2019 20:53  01.12.2019 21:27      Курс обучения «Эксперт»   \n",
       "2  1062856  01.12.2019 21:43               NaN   Курс обучения «Специалист»   \n",
       "3  1062880   03.12.2019 0:18               NaN  Курс обучения «Консультант»   \n",
       "4  1062899  03.12.2019 21:43               NaN      Курс обучения «Эксперт»   \n",
       "\n",
       "     Статус  Заработано                          Город   Платежная система  \n",
       "0  Завершен     29597.5                           Чита  Сбербанк эквайринг  \n",
       "1  Завершен     17450.3                      Краснодар        Яндекс.Касса  \n",
       "2   Отменен         0.0                            NaN                 NaN  \n",
       "3   Отменен         0.0  г.Москва и Московская область                 NaN  \n",
       "4   Отменен         0.0  г.Москва и Московская область                 NaN  "
      ]
     },
     "execution_count": 45,
     "metadata": {},
     "output_type": "execute_result"
    }
   ],
   "source": [
    "df.head() # первые 5 наблюдений (можно менять число 5)"
   ]
  },
  {
   "cell_type": "code",
   "execution_count": 46,
   "id": "ed5bf169",
   "metadata": {},
   "outputs": [
    {
     "data": {
      "text/html": [
       "<div>\n",
       "<style scoped>\n",
       "    .dataframe tbody tr th:only-of-type {\n",
       "        vertical-align: middle;\n",
       "    }\n",
       "\n",
       "    .dataframe tbody tr th {\n",
       "        vertical-align: top;\n",
       "    }\n",
       "\n",
       "    .dataframe thead th {\n",
       "        text-align: right;\n",
       "    }\n",
       "</style>\n",
       "<table border=\"1\" class=\"dataframe\">\n",
       "  <thead>\n",
       "    <tr style=\"text-align: right;\">\n",
       "      <th></th>\n",
       "      <th>Номер</th>\n",
       "      <th>Дата создания</th>\n",
       "      <th>Дата оплаты</th>\n",
       "      <th>Title</th>\n",
       "      <th>Статус</th>\n",
       "      <th>Заработано</th>\n",
       "      <th>Город</th>\n",
       "      <th>Платежная система</th>\n",
       "    </tr>\n",
       "  </thead>\n",
       "  <tbody>\n",
       "    <tr>\n",
       "      <th>287</th>\n",
       "      <td>1064720</td>\n",
       "      <td>30.12.2019 9:42</td>\n",
       "      <td>30.12.2019 12:49</td>\n",
       "      <td>Подписка «ОНЛАЙН ДИЕТОЛОГ» с ежемесячным автос...</td>\n",
       "      <td>Завершен</td>\n",
       "      <td>2935.44</td>\n",
       "      <td>Самарская область</td>\n",
       "      <td>Яндекс.Касса</td>\n",
       "    </tr>\n",
       "    <tr>\n",
       "      <th>288</th>\n",
       "      <td>1064724</td>\n",
       "      <td>30.12.2019 11:32</td>\n",
       "      <td>NaN</td>\n",
       "      <td>Курс обучения «Консультант»</td>\n",
       "      <td>Отменен</td>\n",
       "      <td>0.00</td>\n",
       "      <td>NaN</td>\n",
       "      <td>NaN</td>\n",
       "    </tr>\n",
       "    <tr>\n",
       "      <th>289</th>\n",
       "      <td>1064775</td>\n",
       "      <td>31.12.2019 2:17</td>\n",
       "      <td>31.12.2019 2:22</td>\n",
       "      <td>Курс обучения «Консультант»</td>\n",
       "      <td>Завершен</td>\n",
       "      <td>7423.92</td>\n",
       "      <td>NaN</td>\n",
       "      <td>Сбербанк эквайринг,Бонусный счет</td>\n",
       "    </tr>\n",
       "    <tr>\n",
       "      <th>290</th>\n",
       "      <td>1064793</td>\n",
       "      <td>31.12.2019 16:40</td>\n",
       "      <td>01.01.2020 14:29</td>\n",
       "      <td>Подписка «ОНЛАЙН ДИЕТОЛОГ» с ежемесячным автос...</td>\n",
       "      <td>Завершен</td>\n",
       "      <td>2935.44</td>\n",
       "      <td>Республика Карелия</td>\n",
       "      <td>Яндекс.Касса</td>\n",
       "    </tr>\n",
       "    <tr>\n",
       "      <th>291</th>\n",
       "      <td>1064796</td>\n",
       "      <td>31.12.2019 17:29</td>\n",
       "      <td>31.12.2019 17:32</td>\n",
       "      <td>Курс от Школы Диетологов. Повышение квалификац...</td>\n",
       "      <td>Завершен</td>\n",
       "      <td>9898.56</td>\n",
       "      <td>Уфа</td>\n",
       "      <td>Сбербанк эквайринг,Бонусный счет</td>\n",
       "    </tr>\n",
       "  </tbody>\n",
       "</table>\n",
       "</div>"
      ],
      "text/plain": [
       "       Номер     Дата создания       Дата оплаты  \\\n",
       "287  1064720   30.12.2019 9:42  30.12.2019 12:49   \n",
       "288  1064724  30.12.2019 11:32               NaN   \n",
       "289  1064775   31.12.2019 2:17   31.12.2019 2:22   \n",
       "290  1064793  31.12.2019 16:40  01.01.2020 14:29   \n",
       "291  1064796  31.12.2019 17:29  31.12.2019 17:32   \n",
       "\n",
       "                                                 Title    Статус  Заработано  \\\n",
       "287  Подписка «ОНЛАЙН ДИЕТОЛОГ» с ежемесячным автос...  Завершен     2935.44   \n",
       "288                        Курс обучения «Консультант»   Отменен        0.00   \n",
       "289                        Курс обучения «Консультант»  Завершен     7423.92   \n",
       "290  Подписка «ОНЛАЙН ДИЕТОЛОГ» с ежемесячным автос...  Завершен     2935.44   \n",
       "291  Курс от Школы Диетологов. Повышение квалификац...  Завершен     9898.56   \n",
       "\n",
       "                  Город                 Платежная система  \n",
       "287   Самарская область                      Яндекс.Касса  \n",
       "288                 NaN                               NaN  \n",
       "289                 NaN  Сбербанк эквайринг,Бонусный счет  \n",
       "290  Республика Карелия                      Яндекс.Касса  \n",
       "291                 Уфа  Сбербанк эквайринг,Бонусный счет  "
      ]
     },
     "execution_count": 46,
     "metadata": {},
     "output_type": "execute_result"
    }
   ],
   "source": [
    "df.tail() # последние 5 наблюдений (можно менять атрибут 5)"
   ]
  },
  {
   "cell_type": "code",
   "execution_count": 47,
   "id": "bd8d51db",
   "metadata": {},
   "outputs": [
    {
     "data": {
      "text/plain": [
       "(292, 8)"
      ]
     },
     "execution_count": 47,
     "metadata": {},
     "output_type": "execute_result"
    }
   ],
   "source": [
    "df.shape # покажет размеры массива"
   ]
  },
  {
   "cell_type": "markdown",
   "id": "a00baa05",
   "metadata": {},
   "source": [
    "```tail(), head()``` со скобочками - это функции, которые применяются к *DataFrame*\n",
    "\n",
    "```shape``` без скобочек - это методы, которые также могут применяться к *DataFrame*\n",
    "\n",
    "___\n",
    "Вся аналитиака в *Python* это применение различных функций, методов к нашим данным"
   ]
  },
  {
   "cell_type": "code",
   "execution_count": 48,
   "id": "4abf3d28",
   "metadata": {},
   "outputs": [
    {
     "data": {
      "text/plain": [
       "Номер                  int64\n",
       "Дата создания         object\n",
       "Дата оплаты           object\n",
       "Title                 object\n",
       "Статус                object\n",
       "Заработано           float64\n",
       "Город                 object\n",
       "Платежная система     object\n",
       "dtype: object"
      ]
     },
     "execution_count": 48,
     "metadata": {},
     "output_type": "execute_result"
    }
   ],
   "source": [
    "df.dtypes"
   ]
  },
  {
   "cell_type": "code",
   "execution_count": 49,
   "id": "83549e76",
   "metadata": {},
   "outputs": [
    {
     "data": {
      "text/html": [
       "<div>\n",
       "<style scoped>\n",
       "    .dataframe tbody tr th:only-of-type {\n",
       "        vertical-align: middle;\n",
       "    }\n",
       "\n",
       "    .dataframe tbody tr th {\n",
       "        vertical-align: top;\n",
       "    }\n",
       "\n",
       "    .dataframe thead th {\n",
       "        text-align: right;\n",
       "    }\n",
       "</style>\n",
       "<table border=\"1\" class=\"dataframe\">\n",
       "  <thead>\n",
       "    <tr style=\"text-align: right;\">\n",
       "      <th></th>\n",
       "      <th>Номер</th>\n",
       "      <th>Заработано</th>\n",
       "    </tr>\n",
       "  </thead>\n",
       "  <tbody>\n",
       "    <tr>\n",
       "      <th>count</th>\n",
       "      <td>2.920000e+02</td>\n",
       "      <td>292.000000</td>\n",
       "    </tr>\n",
       "    <tr>\n",
       "      <th>mean</th>\n",
       "      <td>1.063745e+06</td>\n",
       "      <td>3397.615034</td>\n",
       "    </tr>\n",
       "    <tr>\n",
       "      <th>std</th>\n",
       "      <td>4.438688e+02</td>\n",
       "      <td>5771.572829</td>\n",
       "    </tr>\n",
       "    <tr>\n",
       "      <th>min</th>\n",
       "      <td>1.062823e+06</td>\n",
       "      <td>0.000000</td>\n",
       "    </tr>\n",
       "    <tr>\n",
       "      <th>25%</th>\n",
       "      <td>1.063608e+06</td>\n",
       "      <td>0.000000</td>\n",
       "    </tr>\n",
       "    <tr>\n",
       "      <th>50%</th>\n",
       "      <td>1.063698e+06</td>\n",
       "      <td>2935.440000</td>\n",
       "    </tr>\n",
       "    <tr>\n",
       "      <th>75%</th>\n",
       "      <td>1.063807e+06</td>\n",
       "      <td>2935.440000</td>\n",
       "    </tr>\n",
       "    <tr>\n",
       "      <th>max</th>\n",
       "      <td>1.064796e+06</td>\n",
       "      <td>42750.000000</td>\n",
       "    </tr>\n",
       "  </tbody>\n",
       "</table>\n",
       "</div>"
      ],
      "text/plain": [
       "              Номер    Заработано\n",
       "count  2.920000e+02    292.000000\n",
       "mean   1.063745e+06   3397.615034\n",
       "std    4.438688e+02   5771.572829\n",
       "min    1.062823e+06      0.000000\n",
       "25%    1.063608e+06      0.000000\n",
       "50%    1.063698e+06   2935.440000\n",
       "75%    1.063807e+06   2935.440000\n",
       "max    1.064796e+06  42750.000000"
      ]
     },
     "execution_count": 49,
     "metadata": {},
     "output_type": "execute_result"
    }
   ],
   "source": [
    "df.describe() # describe будет отличаться если указать со скобками и без"
   ]
  },
  {
   "cell_type": "markdown",
   "id": "12b09644",
   "metadata": {},
   "source": [
    "___! У DataFrame есть набор атрибутов, и набор методов, комбинируя которые мы производим анализ данных___"
   ]
  },
  {
   "cell_type": "markdown",
   "id": "fb35f11f",
   "metadata": {},
   "source": [
    "__Названия колонок с пробелами, кириллицей надо менять, т к иначе мы не сможем обращаться  ним по типу__   ```df.title```"
   ]
  },
  {
   "cell_type": "markdown",
   "id": "9ad0b37c",
   "metadata": {},
   "source": [
    "Переименуем колонки (см [здесь](https://pandas.pydata.org/pandas-docs/stable/reference/api/pandas.DataFrame.rename.html?highlight=rename#pandas.DataFrame.rename) )\n",
    "\n",
    "Это важная часть предобработки данных!"
   ]
  },
  {
   "cell_type": "code",
   "execution_count": 50,
   "id": "2f260823",
   "metadata": {},
   "outputs": [
    {
     "data": {
      "text/plain": [
       "Index(['Номер', 'Дата создания', 'Дата оплаты', 'Title', 'Статус',\n",
       "       'Заработано', 'Город', 'Платежная система'],\n",
       "      dtype='object')"
      ]
     },
     "execution_count": 50,
     "metadata": {},
     "output_type": "execute_result"
    }
   ],
   "source": [
    "df.columns #выдаст колонки, которые сейчас есть в нашем DataFrame"
   ]
  },
  {
   "cell_type": "code",
   "execution_count": 51,
   "id": "09f6cbda",
   "metadata": {},
   "outputs": [],
   "source": [
    "df = df.rename(columns={\"Номер\": \"number\", \n",
    "                   \"Дата создания\": \"create_date\", \n",
    "                   \"Дата оплаты\": \"payment_date\", \n",
    "                   \"Title\": \"title\", \n",
    "                   \"Статус\": \"status\", \n",
    "                   \"Заработано\": \"money\", \n",
    "                   \"Город\": \"city\",\n",
    "                  \"Платежная система\": \"payment_system\"}) # внутри вызова функции можно спокойно переносить"
   ]
  },
  {
   "cell_type": "code",
   "execution_count": 52,
   "id": "1d05999b",
   "metadata": {},
   "outputs": [
    {
     "data": {
      "text/html": [
       "<div>\n",
       "<style scoped>\n",
       "    .dataframe tbody tr th:only-of-type {\n",
       "        vertical-align: middle;\n",
       "    }\n",
       "\n",
       "    .dataframe tbody tr th {\n",
       "        vertical-align: top;\n",
       "    }\n",
       "\n",
       "    .dataframe thead th {\n",
       "        text-align: right;\n",
       "    }\n",
       "</style>\n",
       "<table border=\"1\" class=\"dataframe\">\n",
       "  <thead>\n",
       "    <tr style=\"text-align: right;\">\n",
       "      <th></th>\n",
       "      <th>number</th>\n",
       "      <th>create_date</th>\n",
       "      <th>payment_date</th>\n",
       "      <th>title</th>\n",
       "      <th>status</th>\n",
       "      <th>money</th>\n",
       "      <th>city</th>\n",
       "      <th>payment_system</th>\n",
       "    </tr>\n",
       "  </thead>\n",
       "  <tbody>\n",
       "    <tr>\n",
       "      <th>0</th>\n",
       "      <td>1062823</td>\n",
       "      <td>01.12.2019 10:50</td>\n",
       "      <td>01.12.2019 10:52</td>\n",
       "      <td>Курс обучения «Эксперт»</td>\n",
       "      <td>Завершен</td>\n",
       "      <td>29597.50</td>\n",
       "      <td>Чита</td>\n",
       "      <td>Сбербанк эквайринг</td>\n",
       "    </tr>\n",
       "    <tr>\n",
       "      <th>1</th>\n",
       "      <td>1062855</td>\n",
       "      <td>01.12.2019 20:53</td>\n",
       "      <td>01.12.2019 21:27</td>\n",
       "      <td>Курс обучения «Эксперт»</td>\n",
       "      <td>Завершен</td>\n",
       "      <td>17450.30</td>\n",
       "      <td>Краснодар</td>\n",
       "      <td>Яндекс.Касса</td>\n",
       "    </tr>\n",
       "    <tr>\n",
       "      <th>2</th>\n",
       "      <td>1062856</td>\n",
       "      <td>01.12.2019 21:43</td>\n",
       "      <td>NaN</td>\n",
       "      <td>Курс обучения «Специалист»</td>\n",
       "      <td>Отменен</td>\n",
       "      <td>0.00</td>\n",
       "      <td>NaN</td>\n",
       "      <td>NaN</td>\n",
       "    </tr>\n",
       "    <tr>\n",
       "      <th>3</th>\n",
       "      <td>1062880</td>\n",
       "      <td>03.12.2019 0:18</td>\n",
       "      <td>NaN</td>\n",
       "      <td>Курс обучения «Консультант»</td>\n",
       "      <td>Отменен</td>\n",
       "      <td>0.00</td>\n",
       "      <td>г.Москва и Московская область</td>\n",
       "      <td>NaN</td>\n",
       "    </tr>\n",
       "    <tr>\n",
       "      <th>4</th>\n",
       "      <td>1062899</td>\n",
       "      <td>03.12.2019 21:43</td>\n",
       "      <td>NaN</td>\n",
       "      <td>Курс обучения «Эксперт»</td>\n",
       "      <td>Отменен</td>\n",
       "      <td>0.00</td>\n",
       "      <td>г.Москва и Московская область</td>\n",
       "      <td>NaN</td>\n",
       "    </tr>\n",
       "    <tr>\n",
       "      <th>...</th>\n",
       "      <td>...</td>\n",
       "      <td>...</td>\n",
       "      <td>...</td>\n",
       "      <td>...</td>\n",
       "      <td>...</td>\n",
       "      <td>...</td>\n",
       "      <td>...</td>\n",
       "      <td>...</td>\n",
       "    </tr>\n",
       "    <tr>\n",
       "      <th>287</th>\n",
       "      <td>1064720</td>\n",
       "      <td>30.12.2019 9:42</td>\n",
       "      <td>30.12.2019 12:49</td>\n",
       "      <td>Подписка «ОНЛАЙН ДИЕТОЛОГ» с ежемесячным автос...</td>\n",
       "      <td>Завершен</td>\n",
       "      <td>2935.44</td>\n",
       "      <td>Самарская область</td>\n",
       "      <td>Яндекс.Касса</td>\n",
       "    </tr>\n",
       "    <tr>\n",
       "      <th>288</th>\n",
       "      <td>1064724</td>\n",
       "      <td>30.12.2019 11:32</td>\n",
       "      <td>NaN</td>\n",
       "      <td>Курс обучения «Консультант»</td>\n",
       "      <td>Отменен</td>\n",
       "      <td>0.00</td>\n",
       "      <td>NaN</td>\n",
       "      <td>NaN</td>\n",
       "    </tr>\n",
       "    <tr>\n",
       "      <th>289</th>\n",
       "      <td>1064775</td>\n",
       "      <td>31.12.2019 2:17</td>\n",
       "      <td>31.12.2019 2:22</td>\n",
       "      <td>Курс обучения «Консультант»</td>\n",
       "      <td>Завершен</td>\n",
       "      <td>7423.92</td>\n",
       "      <td>NaN</td>\n",
       "      <td>Сбербанк эквайринг,Бонусный счет</td>\n",
       "    </tr>\n",
       "    <tr>\n",
       "      <th>290</th>\n",
       "      <td>1064793</td>\n",
       "      <td>31.12.2019 16:40</td>\n",
       "      <td>01.01.2020 14:29</td>\n",
       "      <td>Подписка «ОНЛАЙН ДИЕТОЛОГ» с ежемесячным автос...</td>\n",
       "      <td>Завершен</td>\n",
       "      <td>2935.44</td>\n",
       "      <td>Республика Карелия</td>\n",
       "      <td>Яндекс.Касса</td>\n",
       "    </tr>\n",
       "    <tr>\n",
       "      <th>291</th>\n",
       "      <td>1064796</td>\n",
       "      <td>31.12.2019 17:29</td>\n",
       "      <td>31.12.2019 17:32</td>\n",
       "      <td>Курс от Школы Диетологов. Повышение квалификац...</td>\n",
       "      <td>Завершен</td>\n",
       "      <td>9898.56</td>\n",
       "      <td>Уфа</td>\n",
       "      <td>Сбербанк эквайринг,Бонусный счет</td>\n",
       "    </tr>\n",
       "  </tbody>\n",
       "</table>\n",
       "<p>292 rows × 8 columns</p>\n",
       "</div>"
      ],
      "text/plain": [
       "      number       create_date      payment_date  \\\n",
       "0    1062823  01.12.2019 10:50  01.12.2019 10:52   \n",
       "1    1062855  01.12.2019 20:53  01.12.2019 21:27   \n",
       "2    1062856  01.12.2019 21:43               NaN   \n",
       "3    1062880   03.12.2019 0:18               NaN   \n",
       "4    1062899  03.12.2019 21:43               NaN   \n",
       "..       ...               ...               ...   \n",
       "287  1064720   30.12.2019 9:42  30.12.2019 12:49   \n",
       "288  1064724  30.12.2019 11:32               NaN   \n",
       "289  1064775   31.12.2019 2:17   31.12.2019 2:22   \n",
       "290  1064793  31.12.2019 16:40  01.01.2020 14:29   \n",
       "291  1064796  31.12.2019 17:29  31.12.2019 17:32   \n",
       "\n",
       "                                                 title    status     money  \\\n",
       "0                              Курс обучения «Эксперт»  Завершен  29597.50   \n",
       "1                              Курс обучения «Эксперт»  Завершен  17450.30   \n",
       "2                           Курс обучения «Специалист»   Отменен      0.00   \n",
       "3                          Курс обучения «Консультант»   Отменен      0.00   \n",
       "4                              Курс обучения «Эксперт»   Отменен      0.00   \n",
       "..                                                 ...       ...       ...   \n",
       "287  Подписка «ОНЛАЙН ДИЕТОЛОГ» с ежемесячным автос...  Завершен   2935.44   \n",
       "288                        Курс обучения «Консультант»   Отменен      0.00   \n",
       "289                        Курс обучения «Консультант»  Завершен   7423.92   \n",
       "290  Подписка «ОНЛАЙН ДИЕТОЛОГ» с ежемесячным автос...  Завершен   2935.44   \n",
       "291  Курс от Школы Диетологов. Повышение квалификац...  Завершен   9898.56   \n",
       "\n",
       "                              city                    payment_system  \n",
       "0                             Чита                Сбербанк эквайринг  \n",
       "1                        Краснодар                      Яндекс.Касса  \n",
       "2                              NaN                               NaN  \n",
       "3    г.Москва и Московская область                               NaN  \n",
       "4    г.Москва и Московская область                               NaN  \n",
       "..                             ...                               ...  \n",
       "287              Самарская область                      Яндекс.Касса  \n",
       "288                            NaN                               NaN  \n",
       "289                            NaN  Сбербанк эквайринг,Бонусный счет  \n",
       "290             Республика Карелия                      Яндекс.Касса  \n",
       "291                            Уфа  Сбербанк эквайринг,Бонусный счет  \n",
       "\n",
       "[292 rows x 8 columns]"
      ]
     },
     "execution_count": 52,
     "metadata": {},
     "output_type": "execute_result"
    }
   ],
   "source": [
    "df"
   ]
  },
  {
   "cell_type": "markdown",
   "id": "94432d1c",
   "metadata": {},
   "source": [
    "_Удобно обращаться к определенной колонке через точку, когда нет пробелов и русских букв_\n",
    "\n",
    "Если хотим несколько колонок отобрать, то должны писать их в квадратных скобках и в качестве списка, т е 2 пары квадратных скобок получается"
   ]
  },
  {
   "cell_type": "code",
   "execution_count": 53,
   "id": "9bc48fa0",
   "metadata": {},
   "outputs": [
    {
     "data": {
      "text/html": [
       "<div>\n",
       "<style scoped>\n",
       "    .dataframe tbody tr th:only-of-type {\n",
       "        vertical-align: middle;\n",
       "    }\n",
       "\n",
       "    .dataframe tbody tr th {\n",
       "        vertical-align: top;\n",
       "    }\n",
       "\n",
       "    .dataframe thead th {\n",
       "        text-align: right;\n",
       "    }\n",
       "</style>\n",
       "<table border=\"1\" class=\"dataframe\">\n",
       "  <thead>\n",
       "    <tr style=\"text-align: right;\">\n",
       "      <th></th>\n",
       "      <th>title</th>\n",
       "      <th>status</th>\n",
       "    </tr>\n",
       "  </thead>\n",
       "  <tbody>\n",
       "    <tr>\n",
       "      <th>0</th>\n",
       "      <td>Курс обучения «Эксперт»</td>\n",
       "      <td>Завершен</td>\n",
       "    </tr>\n",
       "    <tr>\n",
       "      <th>1</th>\n",
       "      <td>Курс обучения «Эксперт»</td>\n",
       "      <td>Завершен</td>\n",
       "    </tr>\n",
       "    <tr>\n",
       "      <th>2</th>\n",
       "      <td>Курс обучения «Специалист»</td>\n",
       "      <td>Отменен</td>\n",
       "    </tr>\n",
       "    <tr>\n",
       "      <th>3</th>\n",
       "      <td>Курс обучения «Консультант»</td>\n",
       "      <td>Отменен</td>\n",
       "    </tr>\n",
       "    <tr>\n",
       "      <th>4</th>\n",
       "      <td>Курс обучения «Эксперт»</td>\n",
       "      <td>Отменен</td>\n",
       "    </tr>\n",
       "    <tr>\n",
       "      <th>5</th>\n",
       "      <td>Курс обучения «Консультант»</td>\n",
       "      <td>Отменен</td>\n",
       "    </tr>\n",
       "    <tr>\n",
       "      <th>6</th>\n",
       "      <td>Курс обучения «Консультант»</td>\n",
       "      <td>Отменен</td>\n",
       "    </tr>\n",
       "  </tbody>\n",
       "</table>\n",
       "</div>"
      ],
      "text/plain": [
       "                         title    status\n",
       "0      Курс обучения «Эксперт»  Завершен\n",
       "1      Курс обучения «Эксперт»  Завершен\n",
       "2   Курс обучения «Специалист»   Отменен\n",
       "3  Курс обучения «Консультант»   Отменен\n",
       "4      Курс обучения «Эксперт»   Отменен\n",
       "5  Курс обучения «Консультант»   Отменен\n",
       "6  Курс обучения «Консультант»   Отменен"
      ]
     },
     "execution_count": 53,
     "metadata": {},
     "output_type": "execute_result"
    }
   ],
   "source": [
    "df[['title', 'status']].head(7)"
   ]
  },
  {
   "cell_type": "code",
   "execution_count": 54,
   "id": "74acd918",
   "metadata": {},
   "outputs": [
    {
     "data": {
      "text/plain": [
       "0      Завершен\n",
       "1      Завершен\n",
       "2       Отменен\n",
       "3       Отменен\n",
       "4       Отменен\n",
       "         ...   \n",
       "287    Завершен\n",
       "288     Отменен\n",
       "289    Завершен\n",
       "290    Завершен\n",
       "291    Завершен\n",
       "Name: status, Length: 292, dtype: object"
      ]
     },
     "execution_count": 54,
     "metadata": {},
     "output_type": "execute_result"
    }
   ],
   "source": [
    "df.status"
   ]
  },
  {
   "cell_type": "markdown",
   "id": "63b1e95a",
   "metadata": {},
   "source": [
    "___\n",
    "#### Группировка, агрегация, сортировка\n",
    "\n",
    ">***groupby***\n",
    "\n",
    ">***agg***\n",
    "\n",
    ">***sort_values***\n"
   ]
  },
  {
   "cell_type": "markdown",
   "id": "e7fd4d62",
   "metadata": {},
   "source": [
    "Нужно сделать Отчет по тому какие курсы нам принесли как можно больше денег и разбить по городам"
   ]
  },
  {
   "cell_type": "markdown",
   "id": "fed82442",
   "metadata": {},
   "source": [
    "_Важно делать проверки кода, например, до всех изменений в данных сохранить сумму денег, а после группировок и другого,посмотреть выполняется ли равенство суммы_"
   ]
  },
  {
   "cell_type": "code",
   "execution_count": 55,
   "id": "f397052f",
   "metadata": {},
   "outputs": [
    {
     "data": {
      "text/plain": [
       "992103.59"
      ]
     },
     "execution_count": 55,
     "metadata": {},
     "output_type": "execute_result"
    }
   ],
   "source": [
    "all_money = df.money.sum().round(2) #просуммироали все значения в колонке money\n",
    "all_money"
   ]
  },
  {
   "cell_type": "markdown",
   "id": "dcc97237",
   "metadata": {},
   "source": [
    "**!Метод агрегации можно записывать в виде ```agg``` или ```aggregate```**\n",
    "\n",
    "*Внутри agg мы задаем словарь(в фигурных скобках), в качестве ключа название столбца (т е ключ столбца), в качестве значения задаем функцию, например ```sum```, ```mean```, ```median``` и тд, функцию заключаем в кавычки*"
   ]
  },
  {
   "cell_type": "code",
   "execution_count": 56,
   "id": "5f4c70b9",
   "metadata": {},
   "outputs": [
    {
     "data": {
      "text/html": [
       "<div>\n",
       "<style scoped>\n",
       "    .dataframe tbody tr th:only-of-type {\n",
       "        vertical-align: middle;\n",
       "    }\n",
       "\n",
       "    .dataframe tbody tr th {\n",
       "        vertical-align: top;\n",
       "    }\n",
       "\n",
       "    .dataframe thead th {\n",
       "        text-align: right;\n",
       "    }\n",
       "</style>\n",
       "<table border=\"1\" class=\"dataframe\">\n",
       "  <thead>\n",
       "    <tr style=\"text-align: right;\">\n",
       "      <th></th>\n",
       "      <th>money</th>\n",
       "    </tr>\n",
       "    <tr>\n",
       "      <th>title</th>\n",
       "      <th></th>\n",
       "    </tr>\n",
       "  </thead>\n",
       "  <tbody>\n",
       "    <tr>\n",
       "      <th>Курс обучения «Консультант»</th>\n",
       "      <td>208163.49</td>\n",
       "    </tr>\n",
       "    <tr>\n",
       "      <th>Курс обучения «Специалист»</th>\n",
       "      <td>160862.64</td>\n",
       "    </tr>\n",
       "    <tr>\n",
       "      <th>Курс обучения «Эксперт»</th>\n",
       "      <td>148992.80</td>\n",
       "    </tr>\n",
       "    <tr>\n",
       "      <th>Курс от Школы Диетологов. Бизнес</th>\n",
       "      <td>18752.54</td>\n",
       "    </tr>\n",
       "    <tr>\n",
       "      <th>Курс от Школы Диетологов. Повышение квалификации.</th>\n",
       "      <td>88384.92</td>\n",
       "    </tr>\n",
       "    <tr>\n",
       "      <th>Подписка «ОНЛАЙН ДИЕТОЛОГ» с ежемесячным автосписанием</th>\n",
       "      <td>366947.20</td>\n",
       "    </tr>\n",
       "  </tbody>\n",
       "</table>\n",
       "</div>"
      ],
      "text/plain": [
       "                                                        money\n",
       "title                                                        \n",
       "Курс обучения «Консультант»                         208163.49\n",
       "Курс обучения «Специалист»                          160862.64\n",
       "Курс обучения «Эксперт»                             148992.80\n",
       "Курс от Школы Диетологов. Бизнес                     18752.54\n",
       "Курс от Школы Диетологов. Повышение квалификации.    88384.92\n",
       "Подписка «ОНЛАЙН ДИЕТОЛОГ» с ежемесячным автосп...  366947.20"
      ]
     },
     "execution_count": 56,
     "metadata": {},
     "output_type": "execute_result"
    }
   ],
   "source": [
    "df.groupby('title').agg({'money': 'sum'})"
   ]
  },
  {
   "cell_type": "markdown",
   "id": "97e979e6",
   "metadata": {},
   "source": [
    "*Теперь ```title``` уехал вниз, т к стал индексом DataFrame, чтобы это изменить нужно внутри ```groupby``` указать ```as_index=False```*"
   ]
  },
  {
   "cell_type": "code",
   "execution_count": 57,
   "id": "3e63af30",
   "metadata": {},
   "outputs": [
    {
     "data": {
      "text/html": [
       "<div>\n",
       "<style scoped>\n",
       "    .dataframe tbody tr th:only-of-type {\n",
       "        vertical-align: middle;\n",
       "    }\n",
       "\n",
       "    .dataframe tbody tr th {\n",
       "        vertical-align: top;\n",
       "    }\n",
       "\n",
       "    .dataframe thead th {\n",
       "        text-align: right;\n",
       "    }\n",
       "</style>\n",
       "<table border=\"1\" class=\"dataframe\">\n",
       "  <thead>\n",
       "    <tr style=\"text-align: right;\">\n",
       "      <th></th>\n",
       "      <th>title</th>\n",
       "      <th>money</th>\n",
       "    </tr>\n",
       "  </thead>\n",
       "  <tbody>\n",
       "    <tr>\n",
       "      <th>3</th>\n",
       "      <td>Курс от Школы Диетологов. Бизнес</td>\n",
       "      <td>18752.54</td>\n",
       "    </tr>\n",
       "    <tr>\n",
       "      <th>4</th>\n",
       "      <td>Курс от Школы Диетологов. Повышение квалификац...</td>\n",
       "      <td>88384.92</td>\n",
       "    </tr>\n",
       "    <tr>\n",
       "      <th>2</th>\n",
       "      <td>Курс обучения «Эксперт»</td>\n",
       "      <td>148992.80</td>\n",
       "    </tr>\n",
       "    <tr>\n",
       "      <th>1</th>\n",
       "      <td>Курс обучения «Специалист»</td>\n",
       "      <td>160862.64</td>\n",
       "    </tr>\n",
       "    <tr>\n",
       "      <th>0</th>\n",
       "      <td>Курс обучения «Консультант»</td>\n",
       "      <td>208163.49</td>\n",
       "    </tr>\n",
       "    <tr>\n",
       "      <th>5</th>\n",
       "      <td>Подписка «ОНЛАЙН ДИЕТОЛОГ» с ежемесячным автос...</td>\n",
       "      <td>366947.20</td>\n",
       "    </tr>\n",
       "  </tbody>\n",
       "</table>\n",
       "</div>"
      ],
      "text/plain": [
       "                                               title      money\n",
       "3                   Курс от Школы Диетологов. Бизнес   18752.54\n",
       "4  Курс от Школы Диетологов. Повышение квалификац...   88384.92\n",
       "2                            Курс обучения «Эксперт»  148992.80\n",
       "1                         Курс обучения «Специалист»  160862.64\n",
       "0                        Курс обучения «Консультант»  208163.49\n",
       "5  Подписка «ОНЛАЙН ДИЕТОЛОГ» с ежемесячным автос...  366947.20"
      ]
     },
     "execution_count": 57,
     "metadata": {},
     "output_type": "execute_result"
    }
   ],
   "source": [
    "df.groupby('title', as_index=False).agg({'money': 'sum'}).sort_values('money')"
   ]
  },
  {
   "cell_type": "markdown",
   "id": "65f465b6",
   "metadata": {},
   "source": [
    "*Сейчас мы отсортировали, получили значения от наименьшего к наибольшему, если хотим в обратном порядке, то должны в метод ```sort_values``` добавить аргумент ```ascending=False```*"
   ]
  },
  {
   "cell_type": "code",
   "execution_count": 58,
   "id": "13ea337b",
   "metadata": {},
   "outputs": [
    {
     "data": {
      "text/html": [
       "<div>\n",
       "<style scoped>\n",
       "    .dataframe tbody tr th:only-of-type {\n",
       "        vertical-align: middle;\n",
       "    }\n",
       "\n",
       "    .dataframe tbody tr th {\n",
       "        vertical-align: top;\n",
       "    }\n",
       "\n",
       "    .dataframe thead th {\n",
       "        text-align: right;\n",
       "    }\n",
       "</style>\n",
       "<table border=\"1\" class=\"dataframe\">\n",
       "  <thead>\n",
       "    <tr style=\"text-align: right;\">\n",
       "      <th></th>\n",
       "      <th>title</th>\n",
       "      <th>money</th>\n",
       "    </tr>\n",
       "  </thead>\n",
       "  <tbody>\n",
       "    <tr>\n",
       "      <th>5</th>\n",
       "      <td>Подписка «ОНЛАЙН ДИЕТОЛОГ» с ежемесячным автос...</td>\n",
       "      <td>366947.20</td>\n",
       "    </tr>\n",
       "    <tr>\n",
       "      <th>0</th>\n",
       "      <td>Курс обучения «Консультант»</td>\n",
       "      <td>208163.49</td>\n",
       "    </tr>\n",
       "    <tr>\n",
       "      <th>1</th>\n",
       "      <td>Курс обучения «Специалист»</td>\n",
       "      <td>160862.64</td>\n",
       "    </tr>\n",
       "    <tr>\n",
       "      <th>2</th>\n",
       "      <td>Курс обучения «Эксперт»</td>\n",
       "      <td>148992.80</td>\n",
       "    </tr>\n",
       "    <tr>\n",
       "      <th>4</th>\n",
       "      <td>Курс от Школы Диетологов. Повышение квалификац...</td>\n",
       "      <td>88384.92</td>\n",
       "    </tr>\n",
       "    <tr>\n",
       "      <th>3</th>\n",
       "      <td>Курс от Школы Диетологов. Бизнес</td>\n",
       "      <td>18752.54</td>\n",
       "    </tr>\n",
       "  </tbody>\n",
       "</table>\n",
       "</div>"
      ],
      "text/plain": [
       "                                               title      money\n",
       "5  Подписка «ОНЛАЙН ДИЕТОЛОГ» с ежемесячным автос...  366947.20\n",
       "0                        Курс обучения «Консультант»  208163.49\n",
       "1                         Курс обучения «Специалист»  160862.64\n",
       "2                            Курс обучения «Эксперт»  148992.80\n",
       "4  Курс от Школы Диетологов. Повышение квалификац...   88384.92\n",
       "3                   Курс от Школы Диетологов. Бизнес   18752.54"
      ]
     },
     "execution_count": 58,
     "metadata": {},
     "output_type": "execute_result"
    }
   ],
   "source": [
    "df.groupby('title', as_index=False).agg({'money': 'sum'}).sort_values('money', ascending=False)"
   ]
  },
  {
   "cell_type": "markdown",
   "id": "81b58a76",
   "metadata": {},
   "source": [
    "*У нас получился такой аналитический запрос - мы взяли данные, сгруппировали по какой то переменой, применяем агррегацию, и отсортировали по убыванию*"
   ]
  },
  {
   "cell_type": "markdown",
   "id": "dc97fff1",
   "metadata": {},
   "source": [
    "***! Для читабельности кода лучше переносить каждый метод на новую строку следующим образом:***"
   ]
  },
  {
   "cell_type": "code",
   "execution_count": 59,
   "id": "d15a052f",
   "metadata": {},
   "outputs": [
    {
     "data": {
      "text/html": [
       "<div>\n",
       "<style scoped>\n",
       "    .dataframe tbody tr th:only-of-type {\n",
       "        vertical-align: middle;\n",
       "    }\n",
       "\n",
       "    .dataframe tbody tr th {\n",
       "        vertical-align: top;\n",
       "    }\n",
       "\n",
       "    .dataframe thead th {\n",
       "        text-align: right;\n",
       "    }\n",
       "</style>\n",
       "<table border=\"1\" class=\"dataframe\">\n",
       "  <thead>\n",
       "    <tr style=\"text-align: right;\">\n",
       "      <th></th>\n",
       "      <th>title</th>\n",
       "      <th>money</th>\n",
       "    </tr>\n",
       "  </thead>\n",
       "  <tbody>\n",
       "    <tr>\n",
       "      <th>5</th>\n",
       "      <td>Подписка «ОНЛАЙН ДИЕТОЛОГ» с ежемесячным автос...</td>\n",
       "      <td>366947.20</td>\n",
       "    </tr>\n",
       "    <tr>\n",
       "      <th>0</th>\n",
       "      <td>Курс обучения «Консультант»</td>\n",
       "      <td>208163.49</td>\n",
       "    </tr>\n",
       "    <tr>\n",
       "      <th>1</th>\n",
       "      <td>Курс обучения «Специалист»</td>\n",
       "      <td>160862.64</td>\n",
       "    </tr>\n",
       "    <tr>\n",
       "      <th>2</th>\n",
       "      <td>Курс обучения «Эксперт»</td>\n",
       "      <td>148992.80</td>\n",
       "    </tr>\n",
       "    <tr>\n",
       "      <th>4</th>\n",
       "      <td>Курс от Школы Диетологов. Повышение квалификац...</td>\n",
       "      <td>88384.92</td>\n",
       "    </tr>\n",
       "    <tr>\n",
       "      <th>3</th>\n",
       "      <td>Курс от Школы Диетологов. Бизнес</td>\n",
       "      <td>18752.54</td>\n",
       "    </tr>\n",
       "  </tbody>\n",
       "</table>\n",
       "</div>"
      ],
      "text/plain": [
       "                                               title      money\n",
       "5  Подписка «ОНЛАЙН ДИЕТОЛОГ» с ежемесячным автос...  366947.20\n",
       "0                        Курс обучения «Консультант»  208163.49\n",
       "1                         Курс обучения «Специалист»  160862.64\n",
       "2                            Курс обучения «Эксперт»  148992.80\n",
       "4  Курс от Школы Диетологов. Повышение квалификац...   88384.92\n",
       "3                   Курс от Школы Диетологов. Бизнес   18752.54"
      ]
     },
     "execution_count": 59,
     "metadata": {},
     "output_type": "execute_result"
    }
   ],
   "source": [
    "df.groupby('title', as_index=False) \\\n",
    "    .agg({'money': 'sum'}) \\\n",
    "    .sort_values('money', ascending=False)"
   ]
  },
  {
   "cell_type": "markdown",
   "id": "437ad042",
   "metadata": {},
   "source": [
    "Добавим город в качестве группировки добавим город, но при использовании двух колонок при группировке их надо написать в виде списка"
   ]
  },
  {
   "cell_type": "code",
   "execution_count": 60,
   "id": "5ddea78c",
   "metadata": {},
   "outputs": [
    {
     "data": {
      "text/html": [
       "<div>\n",
       "<style scoped>\n",
       "    .dataframe tbody tr th:only-of-type {\n",
       "        vertical-align: middle;\n",
       "    }\n",
       "\n",
       "    .dataframe tbody tr th {\n",
       "        vertical-align: top;\n",
       "    }\n",
       "\n",
       "    .dataframe thead th {\n",
       "        text-align: right;\n",
       "    }\n",
       "</style>\n",
       "<table border=\"1\" class=\"dataframe\">\n",
       "  <thead>\n",
       "    <tr style=\"text-align: right;\">\n",
       "      <th></th>\n",
       "      <th>title</th>\n",
       "      <th>city</th>\n",
       "      <th>money</th>\n",
       "    </tr>\n",
       "  </thead>\n",
       "  <tbody>\n",
       "    <tr>\n",
       "      <th>51</th>\n",
       "      <td>Курс обучения «Эксперт»</td>\n",
       "      <td>г.Санкт-Петербург и Ленинградская область</td>\n",
       "      <td>59195.00</td>\n",
       "    </tr>\n",
       "    <tr>\n",
       "      <th>156</th>\n",
       "      <td>Подписка «ОНЛАЙН ДИЕТОЛОГ» с ежемесячным автос...</td>\n",
       "      <td>г.Москва и Московская область</td>\n",
       "      <td>46967.04</td>\n",
       "    </tr>\n",
       "    <tr>\n",
       "      <th>39</th>\n",
       "      <td>Курс обучения «Эксперт»</td>\n",
       "      <td>Балхаш</td>\n",
       "      <td>42750.00</td>\n",
       "    </tr>\n",
       "    <tr>\n",
       "      <th>95</th>\n",
       "      <td>Подписка «ОНЛАЙН ДИЕТОЛОГ» с ежемесячным автос...</td>\n",
       "      <td>Краснодарский край</td>\n",
       "      <td>38169.78</td>\n",
       "    </tr>\n",
       "    <tr>\n",
       "      <th>30</th>\n",
       "      <td>Курс обучения «Специалист»</td>\n",
       "      <td>Краснодар</td>\n",
       "      <td>29695.70</td>\n",
       "    </tr>\n",
       "    <tr>\n",
       "      <th>...</th>\n",
       "      <td>...</td>\n",
       "      <td>...</td>\n",
       "      <td>...</td>\n",
       "    </tr>\n",
       "    <tr>\n",
       "      <th>63</th>\n",
       "      <td>Курс от Школы Диетологов. Повышение квалификац...</td>\n",
       "      <td>Кемерово</td>\n",
       "      <td>0.00</td>\n",
       "    </tr>\n",
       "    <tr>\n",
       "      <th>61</th>\n",
       "      <td>Курс от Школы Диетологов. Повышение квалификац...</td>\n",
       "      <td>Екатеринбург</td>\n",
       "      <td>0.00</td>\n",
       "    </tr>\n",
       "    <tr>\n",
       "      <th>55</th>\n",
       "      <td>Курс от Школы Диетологов. Бизнес</td>\n",
       "      <td>Крым Советский</td>\n",
       "      <td>0.00</td>\n",
       "    </tr>\n",
       "    <tr>\n",
       "      <th>54</th>\n",
       "      <td>Курс от Школы Диетологов. Бизнес</td>\n",
       "      <td>Киев</td>\n",
       "      <td>0.00</td>\n",
       "    </tr>\n",
       "    <tr>\n",
       "      <th>158</th>\n",
       "      <td>Подписка «ОНЛАЙН ДИЕТОЛОГ» с ежемесячным автос...</td>\n",
       "      <td>нижний Новгород</td>\n",
       "      <td>0.00</td>\n",
       "    </tr>\n",
       "  </tbody>\n",
       "</table>\n",
       "<p>159 rows × 3 columns</p>\n",
       "</div>"
      ],
      "text/plain": [
       "                                                 title  \\\n",
       "51                             Курс обучения «Эксперт»   \n",
       "156  Подписка «ОНЛАЙН ДИЕТОЛОГ» с ежемесячным автос...   \n",
       "39                             Курс обучения «Эксперт»   \n",
       "95   Подписка «ОНЛАЙН ДИЕТОЛОГ» с ежемесячным автос...   \n",
       "30                          Курс обучения «Специалист»   \n",
       "..                                                 ...   \n",
       "63   Курс от Школы Диетологов. Повышение квалификац...   \n",
       "61   Курс от Школы Диетологов. Повышение квалификац...   \n",
       "55                    Курс от Школы Диетологов. Бизнес   \n",
       "54                    Курс от Школы Диетологов. Бизнес   \n",
       "158  Подписка «ОНЛАЙН ДИЕТОЛОГ» с ежемесячным автос...   \n",
       "\n",
       "                                          city     money  \n",
       "51   г.Санкт-Петербург и Ленинградская область  59195.00  \n",
       "156              г.Москва и Московская область  46967.04  \n",
       "39                                      Балхаш  42750.00  \n",
       "95                          Краснодарский край  38169.78  \n",
       "30                                   Краснодар  29695.70  \n",
       "..                                         ...       ...  \n",
       "63                                    Кемерово      0.00  \n",
       "61                               Екатеринбург       0.00  \n",
       "55                              Крым Советский      0.00  \n",
       "54                                        Киев      0.00  \n",
       "158                            нижний Новгород      0.00  \n",
       "\n",
       "[159 rows x 3 columns]"
      ]
     },
     "execution_count": 60,
     "metadata": {},
     "output_type": "execute_result"
    }
   ],
   "source": [
    "df.groupby(['title', 'city'], as_index=False) \\\n",
    "    .agg({'money': 'sum'}) \\\n",
    "    .sort_values('money', ascending=False)"
   ]
  },
  {
   "cell_type": "markdown",
   "id": "faff55fe",
   "metadata": {},
   "source": [
    "Уберем значения, где money = 0, те не принесли денег"
   ]
  },
  {
   "cell_type": "code",
   "execution_count": 61,
   "id": "d8ffb02e",
   "metadata": {},
   "outputs": [
    {
     "data": {
      "text/html": [
       "<div>\n",
       "<style scoped>\n",
       "    .dataframe tbody tr th:only-of-type {\n",
       "        vertical-align: middle;\n",
       "    }\n",
       "\n",
       "    .dataframe tbody tr th {\n",
       "        vertical-align: top;\n",
       "    }\n",
       "\n",
       "    .dataframe thead th {\n",
       "        text-align: right;\n",
       "    }\n",
       "</style>\n",
       "<table border=\"1\" class=\"dataframe\">\n",
       "  <thead>\n",
       "    <tr style=\"text-align: right;\">\n",
       "      <th></th>\n",
       "      <th>title</th>\n",
       "      <th>city</th>\n",
       "      <th>money</th>\n",
       "    </tr>\n",
       "  </thead>\n",
       "  <tbody>\n",
       "    <tr>\n",
       "      <th>51</th>\n",
       "      <td>Курс обучения «Эксперт»</td>\n",
       "      <td>г.Санкт-Петербург и Ленинградская область</td>\n",
       "      <td>59195.00</td>\n",
       "    </tr>\n",
       "    <tr>\n",
       "      <th>156</th>\n",
       "      <td>Подписка «ОНЛАЙН ДИЕТОЛОГ» с ежемесячным автос...</td>\n",
       "      <td>г.Москва и Московская область</td>\n",
       "      <td>46967.04</td>\n",
       "    </tr>\n",
       "    <tr>\n",
       "      <th>39</th>\n",
       "      <td>Курс обучения «Эксперт»</td>\n",
       "      <td>Балхаш</td>\n",
       "      <td>42750.00</td>\n",
       "    </tr>\n",
       "    <tr>\n",
       "      <th>95</th>\n",
       "      <td>Подписка «ОНЛАЙН ДИЕТОЛОГ» с ежемесячным автос...</td>\n",
       "      <td>Краснодарский край</td>\n",
       "      <td>38169.78</td>\n",
       "    </tr>\n",
       "    <tr>\n",
       "      <th>30</th>\n",
       "      <td>Курс обучения «Специалист»</td>\n",
       "      <td>Краснодар</td>\n",
       "      <td>29695.70</td>\n",
       "    </tr>\n",
       "    <tr>\n",
       "      <th>...</th>\n",
       "      <td>...</td>\n",
       "      <td>...</td>\n",
       "      <td>...</td>\n",
       "    </tr>\n",
       "    <tr>\n",
       "      <th>74</th>\n",
       "      <td>Подписка «ОНЛАЙН ДИЕТОЛОГ» с ежемесячным автос...</td>\n",
       "      <td>Алматы</td>\n",
       "      <td>2914.30</td>\n",
       "    </tr>\n",
       "    <tr>\n",
       "      <th>12</th>\n",
       "      <td>Курс обучения «Консультант»</td>\n",
       "      <td>Москва</td>\n",
       "      <td>2.00</td>\n",
       "    </tr>\n",
       "    <tr>\n",
       "      <th>11</th>\n",
       "      <td>Курс обучения «Консультант»</td>\n",
       "      <td>Люберцы</td>\n",
       "      <td>1.00</td>\n",
       "    </tr>\n",
       "    <tr>\n",
       "      <th>21</th>\n",
       "      <td>Курс обучения «Консультант»</td>\n",
       "      <td>София</td>\n",
       "      <td>1.00</td>\n",
       "    </tr>\n",
       "    <tr>\n",
       "      <th>29</th>\n",
       "      <td>Курс обучения «Консультант»</td>\n",
       "      <td>москва</td>\n",
       "      <td>1.00</td>\n",
       "    </tr>\n",
       "  </tbody>\n",
       "</table>\n",
       "<p>109 rows × 3 columns</p>\n",
       "</div>"
      ],
      "text/plain": [
       "                                                 title  \\\n",
       "51                             Курс обучения «Эксперт»   \n",
       "156  Подписка «ОНЛАЙН ДИЕТОЛОГ» с ежемесячным автос...   \n",
       "39                             Курс обучения «Эксперт»   \n",
       "95   Подписка «ОНЛАЙН ДИЕТОЛОГ» с ежемесячным автос...   \n",
       "30                          Курс обучения «Специалист»   \n",
       "..                                                 ...   \n",
       "74   Подписка «ОНЛАЙН ДИЕТОЛОГ» с ежемесячным автос...   \n",
       "12                         Курс обучения «Консультант»   \n",
       "11                         Курс обучения «Консультант»   \n",
       "21                         Курс обучения «Консультант»   \n",
       "29                         Курс обучения «Консультант»   \n",
       "\n",
       "                                          city     money  \n",
       "51   г.Санкт-Петербург и Ленинградская область  59195.00  \n",
       "156              г.Москва и Московская область  46967.04  \n",
       "39                                      Балхаш  42750.00  \n",
       "95                          Краснодарский край  38169.78  \n",
       "30                                   Краснодар  29695.70  \n",
       "..                                         ...       ...  \n",
       "74                                      Алматы   2914.30  \n",
       "12                                      Москва      2.00  \n",
       "11                                     Люберцы      1.00  \n",
       "21                                       София      1.00  \n",
       "29                                      москва      1.00  \n",
       "\n",
       "[109 rows x 3 columns]"
      ]
     },
     "execution_count": 61,
     "metadata": {},
     "output_type": "execute_result"
    }
   ],
   "source": [
    "df.groupby(['title', 'city'], as_index=False) \\\n",
    "    .agg({'money': 'sum'}) \\\n",
    "    .sort_values('money', ascending=False) \\\n",
    "    .query('money != 0')"
   ]
  },
  {
   "cell_type": "markdown",
   "id": "45f1e470",
   "metadata": {},
   "source": [
    "Можем полученный результат сохранить в новой переменной чтоб вернуть данные исходному заказчику"
   ]
  },
  {
   "cell_type": "code",
   "execution_count": 62,
   "id": "ee22bf88",
   "metadata": {},
   "outputs": [],
   "source": [
    "money_by_city = df.groupby(['title', 'city'], as_index=False) \\\n",
    "    .agg({'money': 'sum'}) \\\n",
    "    .sort_values('money', ascending=False) \\\n",
    "    .query('money != 0')"
   ]
  },
  {
   "cell_type": "markdown",
   "id": "c4e0a443",
   "metadata": {},
   "source": [
    "Проверяем не потеряли ли деньги и сохраняем обратно в формат ```csv```"
   ]
  },
  {
   "cell_type": "code",
   "execution_count": 63,
   "id": "4729f391",
   "metadata": {},
   "outputs": [
    {
     "data": {
      "text/plain": [
       "969329.87"
      ]
     },
     "execution_count": 63,
     "metadata": {},
     "output_type": "execute_result"
    }
   ],
   "source": [
    "money_by_city.money.sum().round(2)"
   ]
  },
  {
   "cell_type": "markdown",
   "id": "2a42a4aa",
   "metadata": {},
   "source": [
    "Чтоб csv файл не включал номер (нулевой столбец), можно ```index=False```"
   ]
  },
  {
   "cell_type": "code",
   "execution_count": 64,
   "id": "e938d2cb",
   "metadata": {},
   "outputs": [],
   "source": [
    "money_by_city.to_csv('money_by_city.csv', index=False)"
   ]
  },
  {
   "cell_type": "markdown",
   "id": "35a83cc9",
   "metadata": {},
   "source": [
    "Посчитаем количество заказов для каждого из курсов"
   ]
  },
  {
   "cell_type": "code",
   "execution_count": 65,
   "id": "22f600cf",
   "metadata": {},
   "outputs": [
    {
     "data": {
      "text/html": [
       "<div>\n",
       "<style scoped>\n",
       "    .dataframe tbody tr th:only-of-type {\n",
       "        vertical-align: middle;\n",
       "    }\n",
       "\n",
       "    .dataframe tbody tr th {\n",
       "        vertical-align: top;\n",
       "    }\n",
       "\n",
       "    .dataframe thead th {\n",
       "        text-align: right;\n",
       "    }\n",
       "</style>\n",
       "<table border=\"1\" class=\"dataframe\">\n",
       "  <thead>\n",
       "    <tr style=\"text-align: right;\">\n",
       "      <th></th>\n",
       "      <th>title</th>\n",
       "      <th>money</th>\n",
       "      <th>number</th>\n",
       "    </tr>\n",
       "  </thead>\n",
       "  <tbody>\n",
       "    <tr>\n",
       "      <th>5</th>\n",
       "      <td>Подписка «ОНЛАЙН ДИЕТОЛОГ» с ежемесячным автос...</td>\n",
       "      <td>366947.20</td>\n",
       "      <td>182</td>\n",
       "    </tr>\n",
       "    <tr>\n",
       "      <th>0</th>\n",
       "      <td>Курс обучения «Консультант»</td>\n",
       "      <td>208163.49</td>\n",
       "      <td>52</td>\n",
       "    </tr>\n",
       "    <tr>\n",
       "      <th>1</th>\n",
       "      <td>Курс обучения «Специалист»</td>\n",
       "      <td>160862.64</td>\n",
       "      <td>12</td>\n",
       "    </tr>\n",
       "    <tr>\n",
       "      <th>2</th>\n",
       "      <td>Курс обучения «Эксперт»</td>\n",
       "      <td>148992.80</td>\n",
       "      <td>22</td>\n",
       "    </tr>\n",
       "    <tr>\n",
       "      <th>4</th>\n",
       "      <td>Курс от Школы Диетологов. Повышение квалификац...</td>\n",
       "      <td>88384.92</td>\n",
       "      <td>15</td>\n",
       "    </tr>\n",
       "    <tr>\n",
       "      <th>3</th>\n",
       "      <td>Курс от Школы Диетологов. Бизнес</td>\n",
       "      <td>18752.54</td>\n",
       "      <td>9</td>\n",
       "    </tr>\n",
       "  </tbody>\n",
       "</table>\n",
       "</div>"
      ],
      "text/plain": [
       "                                               title      money  number\n",
       "5  Подписка «ОНЛАЙН ДИЕТОЛОГ» с ежемесячным автос...  366947.20     182\n",
       "0                        Курс обучения «Консультант»  208163.49      52\n",
       "1                         Курс обучения «Специалист»  160862.64      12\n",
       "2                            Курс обучения «Эксперт»  148992.80      22\n",
       "4  Курс от Школы Диетологов. Повышение квалификац...   88384.92      15\n",
       "3                   Курс от Школы Диетологов. Бизнес   18752.54       9"
      ]
     },
     "execution_count": 65,
     "metadata": {},
     "output_type": "execute_result"
    }
   ],
   "source": [
    "df.groupby('title', as_index=False) \\\n",
    "    .agg({'money': 'sum', 'number': 'count'}) \\\n",
    "    .sort_values('money', ascending=False)"
   ]
  },
  {
   "cell_type": "markdown",
   "id": "9298a320",
   "metadata": {},
   "source": [
    "*Добавим запрос на фильтрации ***DataFrame*** с помощью метода quary"
   ]
  },
  {
   "cell_type": "code",
   "execution_count": 66,
   "id": "1c79416e",
   "metadata": {},
   "outputs": [
    {
     "data": {
      "text/html": [
       "<div>\n",
       "<style scoped>\n",
       "    .dataframe tbody tr th:only-of-type {\n",
       "        vertical-align: middle;\n",
       "    }\n",
       "\n",
       "    .dataframe tbody tr th {\n",
       "        vertical-align: top;\n",
       "    }\n",
       "\n",
       "    .dataframe thead th {\n",
       "        text-align: right;\n",
       "    }\n",
       "</style>\n",
       "<table border=\"1\" class=\"dataframe\">\n",
       "  <thead>\n",
       "    <tr style=\"text-align: right;\">\n",
       "      <th></th>\n",
       "      <th>title</th>\n",
       "      <th>money</th>\n",
       "      <th>number</th>\n",
       "    </tr>\n",
       "  </thead>\n",
       "  <tbody>\n",
       "    <tr>\n",
       "      <th>5</th>\n",
       "      <td>Подписка «ОНЛАЙН ДИЕТОЛОГ» с ежемесячным автос...</td>\n",
       "      <td>366947.20</td>\n",
       "      <td>125</td>\n",
       "    </tr>\n",
       "    <tr>\n",
       "      <th>0</th>\n",
       "      <td>Курс обучения «Консультант»</td>\n",
       "      <td>208163.49</td>\n",
       "      <td>31</td>\n",
       "    </tr>\n",
       "    <tr>\n",
       "      <th>1</th>\n",
       "      <td>Курс обучения «Специалист»</td>\n",
       "      <td>160862.64</td>\n",
       "      <td>7</td>\n",
       "    </tr>\n",
       "    <tr>\n",
       "      <th>2</th>\n",
       "      <td>Курс обучения «Эксперт»</td>\n",
       "      <td>148992.80</td>\n",
       "      <td>5</td>\n",
       "    </tr>\n",
       "    <tr>\n",
       "      <th>4</th>\n",
       "      <td>Курс от Школы Диетологов. Повышение квалификац...</td>\n",
       "      <td>88384.92</td>\n",
       "      <td>9</td>\n",
       "    </tr>\n",
       "    <tr>\n",
       "      <th>3</th>\n",
       "      <td>Курс от Школы Диетологов. Бизнес</td>\n",
       "      <td>18752.54</td>\n",
       "      <td>3</td>\n",
       "    </tr>\n",
       "  </tbody>\n",
       "</table>\n",
       "</div>"
      ],
      "text/plain": [
       "                                               title      money  number\n",
       "5  Подписка «ОНЛАЙН ДИЕТОЛОГ» с ежемесячным автос...  366947.20     125\n",
       "0                        Курс обучения «Консультант»  208163.49      31\n",
       "1                         Курс обучения «Специалист»  160862.64       7\n",
       "2                            Курс обучения «Эксперт»  148992.80       5\n",
       "4  Курс от Школы Диетологов. Повышение квалификац...   88384.92       9\n",
       "3                   Курс от Школы Диетологов. Бизнес   18752.54       3"
      ]
     },
     "execution_count": 66,
     "metadata": {},
     "output_type": "execute_result"
    }
   ],
   "source": [
    "df.query('status == \"Завершен\"') \\\n",
    "    .groupby('title', as_index=False) \\\n",
    "    .agg({'money': 'sum', 'number': 'count'}) \\\n",
    "    .sort_values('money', ascending=False)"
   ]
  },
  {
   "cell_type": "markdown",
   "id": "501f19ca",
   "metadata": {},
   "source": [
    "*Получились теперь только количество успешно завершенных заказов*"
   ]
  },
  {
   "cell_type": "markdown",
   "id": "99c009a0",
   "metadata": {},
   "source": [
    "___\n",
    "#### Способы самопроверки при анализе данных\n",
    "\n",
    "\n"
   ]
  },
  {
   "cell_type": "code",
   "execution_count": 67,
   "id": "625f1a74",
   "metadata": {},
   "outputs": [],
   "source": [
    "money_title = df.query('status == \"Завершен\"') \\\n",
    "    .groupby('title', as_index=False) \\\n",
    "    .agg({'money': 'sum', 'number': 'count'}) \\\n",
    "    .sort_values('money', ascending=False) \\\n",
    "    .rename(columns={'number': 'success_orders'})"
   ]
  },
  {
   "cell_type": "markdown",
   "id": "c8ebc858",
   "metadata": {},
   "source": [
    "*Метод ```unique()``` отвечает за количество уникальных значений в наборе*"
   ]
  },
  {
   "cell_type": "code",
   "execution_count": 68,
   "id": "3661faf8",
   "metadata": {},
   "outputs": [
    {
     "data": {
      "text/plain": [
       "array(['Курс обучения «Эксперт»', 'Курс обучения «Специалист»',\n",
       "       'Курс обучения «Консультант»', 'Курс от Школы Диетологов. Бизнес',\n",
       "       'Курс от Школы Диетологов. Повышение квалификации. ',\n",
       "       'Подписка «ОНЛАЙН ДИЕТОЛОГ» с ежемесячным автосписанием'],\n",
       "      dtype=object)"
      ]
     },
     "execution_count": 68,
     "metadata": {},
     "output_type": "execute_result"
    }
   ],
   "source": [
    "df.title.unique()"
   ]
  },
  {
   "cell_type": "code",
   "execution_count": 69,
   "id": "d7d1bb1d",
   "metadata": {},
   "outputs": [],
   "source": [
    "all_money_title = money_title.money.sum().round(2) #просуммироали все значения в колонке money уже в новом агрегированном DataFrame\n"
   ]
  },
  {
   "cell_type": "markdown",
   "id": "02fa7740",
   "metadata": {},
   "source": [
    "Напишем для себя маленькую проверочку"
   ]
  },
  {
   "cell_type": "code",
   "execution_count": 70,
   "id": "98d0fb12",
   "metadata": {},
   "outputs": [
    {
     "name": "stdout",
     "output_type": "stream",
     "text": [
      "Ok!\n"
     ]
    }
   ],
   "source": [
    "if int(all_money) == int(all_money_title):\n",
    "    print('Ok!')\n",
    "else:\n",
    "    print('ERROR!!!!!')"
   ]
  },
  {
   "cell_type": "markdown",
   "id": "283dadbc",
   "metadata": {},
   "source": [
    "***Хорошая манера при анализе данных всегда себя тестировать, проверять свой код на наличие логических ошибок,***\n",
    "\n",
    "***а синтактические ошибки Python са проверит!***"
   ]
  },
  {
   "cell_type": "markdown",
   "id": "cf3d42f5",
   "metadata": {},
   "source": [
    "*Часто свой код даете на ревью другому аналитику, но особенность работы аналитика в том, что очень много так называемых ad hoc задач, это когда Вас просят посчитать прямо здесь и сейчас, и нет времени отправлять код на ревью, здесь можно только сами себе помочь.*\n",
    "\n",
    "*Поэтому ***ВАЖНО*** делать проверки самого себя!*\n",
    "\n",
    "*Проверка может быть разная, смотреть надо на логику поставленной задачи, это не обязательно сумма денег, например может быть  проверка в том, что количество в целом просмотров должно быть больше чем количество просмотров до конца ролика и тд*"
   ]
  },
  {
   "cell_type": "markdown",
   "id": "625fe46f",
   "metadata": {},
   "source": [
    "___\n",
    "#### Автоматизация скучной работы \n",
    "\n",
    "\n"
   ]
  },
  {
   "cell_type": "markdown",
   "id": "cb56023e",
   "metadata": {},
   "source": [
    "Автоматизировать нужно все работы, которые нужно делать больше 1 раза)"
   ]
  },
  {
   "cell_type": "markdown",
   "id": "6fec3890",
   "metadata": {},
   "source": [
    "Давайте напишем скрипт, который получает на вход данные, считает все что нужно, и возвращает результат с добавлением даты обработки"
   ]
  },
  {
   "cell_type": "markdown",
   "id": "fd951593",
   "metadata": {},
   "source": [
    "***!!! Stack overflow наш новый лучший друг на ближайшее время )))***"
   ]
  },
  {
   "cell_type": "markdown",
   "id": "68d05364",
   "metadata": {},
   "source": [
    "Добавляем импорт библиотеки```from datetime import datetime``` , в идеале [здесь](#abcde)\n",
    "\n",
    "Опять отклоняемся от правила только для сохранения порядка изложения, а так все ```import``` в самом начале кода"
   ]
  },
  {
   "cell_type": "code",
   "execution_count": 71,
   "id": "5e90e5f7",
   "metadata": {},
   "outputs": [],
   "source": [
    "from datetime import datetime"
   ]
  },
  {
   "cell_type": "markdown",
   "id": "b09fb852",
   "metadata": {},
   "source": [
    "Смотрим [здесь](https://stackoverflow.com/questions/32490629/getting-todays-date-in-yyyy-mm-dd-in-python) и находим как написать код для того чтоб прсваивалась текущая дата"
   ]
  },
  {
   "cell_type": "code",
   "execution_count": 72,
   "id": "d910866b",
   "metadata": {},
   "outputs": [
    {
     "data": {
      "text/plain": [
       "'2022-04-05'"
      ]
     },
     "execution_count": 72,
     "metadata": {},
     "output_type": "execute_result"
    }
   ],
   "source": [
    "datetime.today().strftime('%Y-%m-%d')\n"
   ]
  },
  {
   "cell_type": "markdown",
   "id": "187dfd81",
   "metadata": {},
   "source": [
    "Зделаем заготовку с названием файла для последующего сохранения с указанием даты, чтоб у получающих файл был идентификатор файла и чтоб файлы не путались, необходимо стараться в выгрузки добавлять уникальность названия, например, дату выгрузки"
   ]
  },
  {
   "cell_type": "code",
   "execution_count": 73,
   "id": "415964db",
   "metadata": {},
   "outputs": [
    {
     "data": {
      "text/plain": [
       "'money_title_2022-04-05.csv'"
      ]
     },
     "execution_count": 73,
     "metadata": {},
     "output_type": "execute_result"
    }
   ],
   "source": [
    "today_day = datetime.today().strftime('%Y-%m-%d')\n",
    "file_name = 'money_title_{}.csv'\n",
    "file_name = file_name.format(today_day)\n",
    "file_name"
   ]
  },
  {
   "cell_type": "code",
   "execution_count": 74,
   "id": "4c970891",
   "metadata": {},
   "outputs": [
    {
     "name": "stdout",
     "output_type": "stream",
     "text": [
      "Ok! File money_title_2022-04-05.csv is written.\n"
     ]
    }
   ],
   "source": [
    "if int(all_money) == int(all_money_title):\n",
    "    print('Ok! File {} is written.'.format(file_name))\n",
    "    money_title.to_csv(file_name, index=False)\n",
    "else:\n",
    "    print('ERROR!!!!!')"
   ]
  },
  {
   "cell_type": "markdown",
   "id": "4c129dd0",
   "metadata": {},
   "source": [
    "Если была бы ошибка, то файл не сохранился бы"
   ]
  },
  {
   "cell_type": "markdown",
   "id": "a6edea60",
   "metadata": {},
   "source": [
    "___\n",
    "#### Дополнительные аргументы функции read_csv\n",
    "\n",
    "*encoding* — параметр в *read_csv*, отвечает за кодировку текста, которая может быть различной. Самая распространённая — *utf-8*. Пример указания кодировки: \n",
    "\n",
    "```pd.read_csv('path_to_your.csv', encoding='Windows-1251')```\n",
    "\n",
    "*sep* — разделитель между ячейками в строке (по умолчанию ,)\n",
    "\n",
    "```pd.read_csv('path_to_your.csv', encoding='Windows-1251', sep=';')```\n",
    "\n",
    "*parse_dates* — указывает, стоит ли воспринимать даты как даты? (по умолчанию они воспринимаются пандасом как строки)\n",
    "Параметр с датами может принимать несколько значений:\n",
    "       *True* — пытается перевести в дату первую колонку\n",
    "       *список колонок* — пытается перевести в дату указанные в списке колонки\n",
    "       \n",
    "```pd.read_csv('path_to_your.csv', encoding='Windows-1251', sep=';', parse_dates=['create_data', 'payment_data'])```\n"
   ]
  },
  {
   "cell_type": "markdown",
   "id": "bbe794b8",
   "metadata": {},
   "source": [
    "---\n",
    "\n",
    "#### Типы колонок\n",
    "\n",
    "Чтобы узнать типы колонок в вашем *DataFrame*, воспользуйтесь атрибутом *dtypes* — он возвращает серию с описанием типа каждой колонки. Типы более-менее совпадают с типами в *python*, однако есть и различия:\n",
    "\n",
    " - здесь у типов присутствует описание размера (числа битов)\n",
    " - все сложные типы (не числа или логические значения) отображаются как *object*\n",
    "\n",
    "Информация о типе важна для дальнейшей работы с *DataFrame* (например, чтобы не произвести сложение строк, думая, что это числа)."
   ]
  },
  {
   "cell_type": "markdown",
   "id": "2c02036d",
   "metadata": {},
   "source": [
    "---\n",
    "#### Применение вычислительных методов\n",
    "\n",
    "Существует набор методов, доступных для колонок *DataFrame*. Например, есть колонка *money* в *DataFrame*, содержащая полученные объёмы денег. Применив метод *sum*, можно посчитать их сумму.\n",
    "\n",
    "```\n",
    "df.money.sum()\n",
    "69120\n",
    "```\n",
    "\n",
    "Ещё несколько примеров:\n",
    "\n",
    "    product – перемножение\n",
    "    std – среднеквадратичное отклонение\n",
    "    var – дисперсия\n",
    "\n",
    "    \n",
    "Цепочка методов (***method chaining***)\n",
    "\n",
    "Приём для объединения нескольких действий в одно. Большинство методов *DataFrame* возвращают вам результат, который довольно часто тоже является *DataFrame*. Следовательно, от него тоже можно вызвать метод."
   ]
  },
  {
   "cell_type": "markdown",
   "id": "0784787a",
   "metadata": {},
   "source": [
    "```value_counts```\n",
    "\n",
    "Метод, который считает, сколько раз встречается каждое уникальное значение переменной. \n",
    "\n",
    "Посчитать, сколько раз встречается каждое имя (*name*), можно с помощью следующей команды:\n",
    "\n",
    "```\n",
    "df['name'].value_counts()\n",
    "\n",
    "```\n",
    "\n",
    "\n",
    "Также метод *value_counts* принимает на вход несколько параметров:\n",
    "\n",
    "*normalize* – показать относительные частоты уникальных значений (по умолчанию равен False). \n",
    "\n",
    "*dropna* – не включать количество NaN (по умолчанию равен True)\n",
    "\n",
    "*bins* – сгруппировать количественную переменную (например, разбить возраст на возрастные группы); для использования данного параметра нужно указать, на сколько групп разбить переменную\n",
    "\n",
    "Несколько примеров:\n",
    "\n",
    "1) Получаем частоту встречаемости (напр. Persik – в 40% наблюдений),  также не удаляем из результата NaN:\n",
    "\n",
    "```\n",
    "df['name'].value_counts(normalize=True, dropna=False)\n",
    "```\n",
    "\n",
    "2) Разбиваем year на 2 промежутка:\n",
    "\n",
    "```\n",
    "df['year'].value_counts(bins=2)\n",
    "```\n"
   ]
  },
  {
   "cell_type": "markdown",
   "id": "a1279469",
   "metadata": {},
   "source": [
    "---\n",
    "\n",
    "#### Еще функции\n",
    "\n",
    "*replace* – применяется к строкам, принимает 2 строки: что заменить и на что\n",
    "\n",
    "*strip* – применяется к строкам, по умолчанию убирает пробелы слева и справа\n",
    "\n",
    "*round* – применяется к дробным числам, округляет их, можно передать дополнительный аргумент, который означает число знаков после запятой"
   ]
  },
  {
   "cell_type": "markdown",
   "id": "e5dbdabb",
   "metadata": {},
   "source": [
    "---\n",
    "#### Векторизация\n",
    "\n",
    "*Векторизация* — это специальная техника, позволяющая в пандасе быстро выполнять в одну строчку операции, которые в чистом питоне требуют как минимум одного цикла. Быстрота связана с тем, что код пандаса реализован на более быстром языке, а в питоне просто представлены функции. Благодаря векторизации мы можем делать различные операции со всеми колонками целиком, не отвлекаясь на итерирование по элементам\n",
    "\n",
    "Пример: \n",
    "\n",
    "*умножение на число всего столбца*\n",
    "\n",
    "*сравнение с числом*\n",
    "\n",
    "\n",
    "#### None\n",
    "\n",
    "*None* это специальный тип данных в питоне, который имеет только одно одноимённое значение – *None*. Используется в тех случаях, когда нужно обозначить ничто. Обычно (но совсем необязательно) его возвращают функции, которые как-то изменяют данные\n",
    "\n",
    "```\n",
    "xs = [1, 2, 3]\n",
    "a = xs.append(4)\n",
    "\n",
    "print(xs)\n",
    "[1, 2, 3, 4]\n",
    "\n",
    "print(a)\n",
    "None\n",
    "\n",
    "```\n",
    "Толку от присвоения выше ```a = xs.append(4)``` нет, просто постепенно запоминайте такие функции, и не перезаписывайте ваши данные вызовами типа: \n",
    "\n",
    "```\n",
    "xs = xs.append(4)\n",
    "```"
   ]
  },
  {
   "cell_type": "markdown",
   "id": "67b7e1e3",
   "metadata": {},
   "source": [
    "---\n",
    "#### Свои функции\n",
    "\n",
    "Служат для переиспользования кода – вы написали изумительный скрипт, который решает 20% вашей работы. Теперь вам нужно использовать его каждый день на новых данных. Чтобы это упростить, существуют функции. Они позволяют свести весь код к 1-ой строке и менять название поступающих файлов и других параметров только в 1-ом месте.\n",
    "\n",
    "```\n",
    "def function(parameter):\n",
    "   what to do\n",
    "   return\n",
    "```\n"
   ]
  },
  {
   "cell_type": "markdown",
   "id": "d7f26114",
   "metadata": {},
   "source": [
    "---\n",
    "***strftime*** форматирует дату по переданному ему формату:\n",
    "\n",
    "    % – обозначает что дальше будет часть даты\n",
    "    Y – год 4-мя знаками\n",
    "    m – месяц 2-мя знаками\n",
    "    d – день\n",
    "    H – час\n",
    "    M – минуты\n",
    "    S – секунды\n",
    "\n",
    "Можно использовать только часть фрагментов даты, разделители между ними – на ваше усмотрение (в примере это - и :). \n",
    "\n",
    "Немного примеров:\n",
    "\n",
    "*Текущее время*\n",
    "```\n",
    "now = datetime.now() \n",
    "print(f'Full time format of now is {now}')\n",
    "Full time format of now is 2020-06-01 17:54:40.010540\n",
    "```\n",
    "\n",
    "*Год*\n",
    "```\n",
    "year = now.strftime(\"%Y\")\n",
    "print(\"year:\", year)\n",
    "year: 2020\n",
    "```\n",
    "\n",
    "*Текущая дата и время*\n",
    "```\n",
    "date_time = now.strftime(\"%m/%d/%Y, %H:%M:%S\")\n",
    "print(\"date and time:\",date_time)\n",
    "date and time: 06/04/2020, 17:54:40\n",
    "```\n",
    "\n"
   ]
  },
  {
   "cell_type": "markdown",
   "id": "47bb1b37",
   "metadata": {},
   "source": [
    "### _ДЗ на [Stepic](https://stepik.org/lesson/375664/step/1?unit=363414)_"
   ]
  },
  {
   "attachments": {
    "%D0%B8%D0%B7%D0%BE%D0%B1%D1%80%D0%B0%D0%B6%D0%B5%D0%BD%D0%B8%D0%B5.png": {
     "image/png": "[encoded data removed]"
    }
   },
   "cell_type": "markdown",
   "id": "fe019798",
   "metadata": {},
   "source": [
    "В следующих степах потренируемся использовать изученные функции! Если возникнут трудности, не забывайте о наличии конспектов.\n",
    "\n",
    "Начнём с простого вопроса: что произойдёт в результате выполнения следующей команды?\n",
    "\n",
    "```\n",
    "import pandas as pnds\n",
    "```\n",
    "\n",
    "![%D0%B8%D0%B7%D0%BE%D0%B1%D1%80%D0%B0%D0%B6%D0%B5%D0%BD%D0%B8%D0%B5.png](attachment:%D0%B8%D0%B7%D0%BE%D0%B1%D1%80%D0%B0%D0%B6%D0%B5%D0%BD%D0%B8%D0%B5.png)"
   ]
  },
  {
   "cell_type": "markdown",
   "id": "bfe92280",
   "metadata": {},
   "source": [
    "Отлично! Теперь поработаем с данными о поездках на такси в Нью-Йорке, в которых также имеется информация о погодных условиях и выходных днях.  \n",
    "\n",
    "    pickup_dt – период с точностью до часа\n",
    "    pickup_month – месяц\n",
    "    borough – район Нью-Йорка, из которого был сделан заказ (5 районов + аэропорт)\n",
    "    pickups – число поездок за период (час)\n",
    "    hday – является ли день праздничным/выходным; Y – да, N – нет\n",
    "    spd – скорость ветра в милях в час\n",
    "    vsb – видимость\n",
    "    temp – температура в градусах Фаренгейта\n",
    "    dewp – точка росы по Фаренгейту\n",
    "    slp – давление\n",
    "    pcp_01 – количество осадков за час\n",
    "    pcp_06 – количество осадков за 6 часов\n",
    "    pcp_24 – количество осадков за 24 часа\n",
    "    sd – глубина снега в дюймах\n",
    "\n",
    "Импортируйте библиотеку pandas, а затем загрузите датасет 2_taxi_nyc, находящийся здесь. Результат сохраните в переменную taxi."
   ]
  },
  {
   "cell_type": "code",
   "execution_count": 75,
   "id": "ec4a32a2",
   "metadata": {},
   "outputs": [
    {
     "data": {
      "text/html": [
       "<div>\n",
       "<style scoped>\n",
       "    .dataframe tbody tr th:only-of-type {\n",
       "        vertical-align: middle;\n",
       "    }\n",
       "\n",
       "    .dataframe tbody tr th {\n",
       "        vertical-align: top;\n",
       "    }\n",
       "\n",
       "    .dataframe thead th {\n",
       "        text-align: right;\n",
       "    }\n",
       "</style>\n",
       "<table border=\"1\" class=\"dataframe\">\n",
       "  <thead>\n",
       "    <tr style=\"text-align: right;\">\n",
       "      <th></th>\n",
       "      <th>pickup_dt</th>\n",
       "      <th>pickup_month</th>\n",
       "      <th>borough</th>\n",
       "      <th>pickups</th>\n",
       "      <th>hday</th>\n",
       "      <th>spd</th>\n",
       "      <th>vsb</th>\n",
       "      <th>temp</th>\n",
       "      <th>dewp</th>\n",
       "      <th>slp</th>\n",
       "      <th>pcp 01</th>\n",
       "      <th>pcp 06</th>\n",
       "      <th>pcp 24</th>\n",
       "      <th>sd</th>\n",
       "    </tr>\n",
       "  </thead>\n",
       "  <tbody>\n",
       "    <tr>\n",
       "      <th>0</th>\n",
       "      <td>2015-01-01 01:00:00</td>\n",
       "      <td>Jan</td>\n",
       "      <td>Bronx</td>\n",
       "      <td>152</td>\n",
       "      <td>Y</td>\n",
       "      <td>5.0</td>\n",
       "      <td>10.0</td>\n",
       "      <td>30.0</td>\n",
       "      <td>7.0</td>\n",
       "      <td>1023.5</td>\n",
       "      <td>0.0</td>\n",
       "      <td>0.0</td>\n",
       "      <td>0.0</td>\n",
       "      <td>0.0</td>\n",
       "    </tr>\n",
       "    <tr>\n",
       "      <th>1</th>\n",
       "      <td>2015-01-01 01:00:00</td>\n",
       "      <td>Jan</td>\n",
       "      <td>Brooklyn</td>\n",
       "      <td>1519</td>\n",
       "      <td>Y</td>\n",
       "      <td>5.0</td>\n",
       "      <td>10.0</td>\n",
       "      <td>30.0</td>\n",
       "      <td>7.0</td>\n",
       "      <td>1023.5</td>\n",
       "      <td>0.0</td>\n",
       "      <td>0.0</td>\n",
       "      <td>0.0</td>\n",
       "      <td>0.0</td>\n",
       "    </tr>\n",
       "    <tr>\n",
       "      <th>2</th>\n",
       "      <td>2015-01-01 01:00:00</td>\n",
       "      <td>Jan</td>\n",
       "      <td>EWR</td>\n",
       "      <td>0</td>\n",
       "      <td>Y</td>\n",
       "      <td>5.0</td>\n",
       "      <td>10.0</td>\n",
       "      <td>30.0</td>\n",
       "      <td>7.0</td>\n",
       "      <td>1023.5</td>\n",
       "      <td>0.0</td>\n",
       "      <td>0.0</td>\n",
       "      <td>0.0</td>\n",
       "      <td>0.0</td>\n",
       "    </tr>\n",
       "    <tr>\n",
       "      <th>3</th>\n",
       "      <td>2015-01-01 01:00:00</td>\n",
       "      <td>Jan</td>\n",
       "      <td>Manhattan</td>\n",
       "      <td>5258</td>\n",
       "      <td>Y</td>\n",
       "      <td>5.0</td>\n",
       "      <td>10.0</td>\n",
       "      <td>30.0</td>\n",
       "      <td>7.0</td>\n",
       "      <td>1023.5</td>\n",
       "      <td>0.0</td>\n",
       "      <td>0.0</td>\n",
       "      <td>0.0</td>\n",
       "      <td>0.0</td>\n",
       "    </tr>\n",
       "    <tr>\n",
       "      <th>4</th>\n",
       "      <td>2015-01-01 01:00:00</td>\n",
       "      <td>Jan</td>\n",
       "      <td>Queens</td>\n",
       "      <td>405</td>\n",
       "      <td>Y</td>\n",
       "      <td>5.0</td>\n",
       "      <td>10.0</td>\n",
       "      <td>30.0</td>\n",
       "      <td>7.0</td>\n",
       "      <td>1023.5</td>\n",
       "      <td>0.0</td>\n",
       "      <td>0.0</td>\n",
       "      <td>0.0</td>\n",
       "      <td>0.0</td>\n",
       "    </tr>\n",
       "    <tr>\n",
       "      <th>...</th>\n",
       "      <td>...</td>\n",
       "      <td>...</td>\n",
       "      <td>...</td>\n",
       "      <td>...</td>\n",
       "      <td>...</td>\n",
       "      <td>...</td>\n",
       "      <td>...</td>\n",
       "      <td>...</td>\n",
       "      <td>...</td>\n",
       "      <td>...</td>\n",
       "      <td>...</td>\n",
       "      <td>...</td>\n",
       "      <td>...</td>\n",
       "      <td>...</td>\n",
       "    </tr>\n",
       "    <tr>\n",
       "      <th>29096</th>\n",
       "      <td>2015-06-30 23:00:00</td>\n",
       "      <td>Jun</td>\n",
       "      <td>EWR</td>\n",
       "      <td>0</td>\n",
       "      <td>N</td>\n",
       "      <td>7.0</td>\n",
       "      <td>10.0</td>\n",
       "      <td>75.0</td>\n",
       "      <td>65.0</td>\n",
       "      <td>1011.8</td>\n",
       "      <td>0.0</td>\n",
       "      <td>0.0</td>\n",
       "      <td>0.0</td>\n",
       "      <td>0.0</td>\n",
       "    </tr>\n",
       "    <tr>\n",
       "      <th>29097</th>\n",
       "      <td>2015-06-30 23:00:00</td>\n",
       "      <td>Jun</td>\n",
       "      <td>Manhattan</td>\n",
       "      <td>3828</td>\n",
       "      <td>N</td>\n",
       "      <td>7.0</td>\n",
       "      <td>10.0</td>\n",
       "      <td>75.0</td>\n",
       "      <td>65.0</td>\n",
       "      <td>1011.8</td>\n",
       "      <td>0.0</td>\n",
       "      <td>0.0</td>\n",
       "      <td>0.0</td>\n",
       "      <td>0.0</td>\n",
       "    </tr>\n",
       "    <tr>\n",
       "      <th>29098</th>\n",
       "      <td>2015-06-30 23:00:00</td>\n",
       "      <td>Jun</td>\n",
       "      <td>Queens</td>\n",
       "      <td>580</td>\n",
       "      <td>N</td>\n",
       "      <td>7.0</td>\n",
       "      <td>10.0</td>\n",
       "      <td>75.0</td>\n",
       "      <td>65.0</td>\n",
       "      <td>1011.8</td>\n",
       "      <td>0.0</td>\n",
       "      <td>0.0</td>\n",
       "      <td>0.0</td>\n",
       "      <td>0.0</td>\n",
       "    </tr>\n",
       "    <tr>\n",
       "      <th>29099</th>\n",
       "      <td>2015-06-30 23:00:00</td>\n",
       "      <td>Jun</td>\n",
       "      <td>Staten Island</td>\n",
       "      <td>0</td>\n",
       "      <td>N</td>\n",
       "      <td>7.0</td>\n",
       "      <td>10.0</td>\n",
       "      <td>75.0</td>\n",
       "      <td>65.0</td>\n",
       "      <td>1011.8</td>\n",
       "      <td>0.0</td>\n",
       "      <td>0.0</td>\n",
       "      <td>0.0</td>\n",
       "      <td>0.0</td>\n",
       "    </tr>\n",
       "    <tr>\n",
       "      <th>29100</th>\n",
       "      <td>2015-06-30 23:00:00</td>\n",
       "      <td>Jun</td>\n",
       "      <td>NaN</td>\n",
       "      <td>3</td>\n",
       "      <td>N</td>\n",
       "      <td>7.0</td>\n",
       "      <td>10.0</td>\n",
       "      <td>75.0</td>\n",
       "      <td>65.0</td>\n",
       "      <td>1011.8</td>\n",
       "      <td>0.0</td>\n",
       "      <td>0.0</td>\n",
       "      <td>0.0</td>\n",
       "      <td>0.0</td>\n",
       "    </tr>\n",
       "  </tbody>\n",
       "</table>\n",
       "<p>29101 rows × 14 columns</p>\n",
       "</div>"
      ],
      "text/plain": [
       "                 pickup_dt pickup_month        borough  pickups hday  spd  \\\n",
       "0      2015-01-01 01:00:00          Jan          Bronx      152    Y  5.0   \n",
       "1      2015-01-01 01:00:00          Jan       Brooklyn     1519    Y  5.0   \n",
       "2      2015-01-01 01:00:00          Jan            EWR        0    Y  5.0   \n",
       "3      2015-01-01 01:00:00          Jan      Manhattan     5258    Y  5.0   \n",
       "4      2015-01-01 01:00:00          Jan         Queens      405    Y  5.0   \n",
       "...                    ...          ...            ...      ...  ...  ...   \n",
       "29096  2015-06-30 23:00:00          Jun            EWR        0    N  7.0   \n",
       "29097  2015-06-30 23:00:00          Jun      Manhattan     3828    N  7.0   \n",
       "29098  2015-06-30 23:00:00          Jun         Queens      580    N  7.0   \n",
       "29099  2015-06-30 23:00:00          Jun  Staten Island        0    N  7.0   \n",
       "29100  2015-06-30 23:00:00          Jun            NaN        3    N  7.0   \n",
       "\n",
       "        vsb  temp  dewp     slp  pcp 01  pcp 06  pcp 24   sd  \n",
       "0      10.0  30.0   7.0  1023.5     0.0     0.0     0.0  0.0  \n",
       "1      10.0  30.0   7.0  1023.5     0.0     0.0     0.0  0.0  \n",
       "2      10.0  30.0   7.0  1023.5     0.0     0.0     0.0  0.0  \n",
       "3      10.0  30.0   7.0  1023.5     0.0     0.0     0.0  0.0  \n",
       "4      10.0  30.0   7.0  1023.5     0.0     0.0     0.0  0.0  \n",
       "...     ...   ...   ...     ...     ...     ...     ...  ...  \n",
       "29096  10.0  75.0  65.0  1011.8     0.0     0.0     0.0  0.0  \n",
       "29097  10.0  75.0  65.0  1011.8     0.0     0.0     0.0  0.0  \n",
       "29098  10.0  75.0  65.0  1011.8     0.0     0.0     0.0  0.0  \n",
       "29099  10.0  75.0  65.0  1011.8     0.0     0.0     0.0  0.0  \n",
       "29100  10.0  75.0  65.0  1011.8     0.0     0.0     0.0  0.0  \n",
       "\n",
       "[29101 rows x 14 columns]"
      ]
     },
     "execution_count": 75,
     "metadata": {},
     "output_type": "execute_result"
    }
   ],
   "source": [
    "import pandas as pd\n",
    "taxi = pd.read_csv('https://stepik.org/media/attachments/lesson/360340/2_taxi_nyc.csv')\n",
    "taxi"
   ]
  },
  {
   "cell_type": "markdown",
   "id": "505072d8",
   "metadata": {},
   "source": [
    "Проверьте, сколько всего строк и столбцов имеется в датасете."
   ]
  },
  {
   "cell_type": "code",
   "execution_count": 76,
   "id": "4f30f90b",
   "metadata": {},
   "outputs": [
    {
     "data": {
      "text/plain": [
       "(29101, 14)"
      ]
     },
     "execution_count": 76,
     "metadata": {},
     "output_type": "execute_result"
    }
   ],
   "source": [
    "taxi.shape"
   ]
  },
  {
   "attachments": {
    "%D0%B8%D0%B7%D0%BE%D0%B1%D1%80%D0%B0%D0%B6%D0%B5%D0%BD%D0%B8%D0%B5.png": {
     "image/png": "[encoded data removed]"
    }
   },
   "cell_type": "markdown",
   "id": "94bff412",
   "metadata": {},
   "source": [
    "![%D0%B8%D0%B7%D0%BE%D0%B1%D1%80%D0%B0%D0%B6%D0%B5%D0%BD%D0%B8%D0%B5.png](attachment:%D0%B8%D0%B7%D0%BE%D0%B1%D1%80%D0%B0%D0%B6%D0%B5%D0%BD%D0%B8%D0%B5.png)"
   ]
  },
  {
   "cell_type": "markdown",
   "id": "a0bcba6e",
   "metadata": {},
   "source": [
    "Давайте посмотрим на типы колонок. Все ли из них считались правильно? В качестве ответа выберите тип, преобладающий в датасете."
   ]
  },
  {
   "cell_type": "code",
   "execution_count": 77,
   "id": "5846dcf5",
   "metadata": {},
   "outputs": [
    {
     "data": {
      "text/plain": [
       "pickup_dt        object\n",
       "pickup_month     object\n",
       "borough          object\n",
       "pickups           int64\n",
       "hday             object\n",
       "spd             float64\n",
       "vsb             float64\n",
       "temp            float64\n",
       "dewp            float64\n",
       "slp             float64\n",
       "pcp 01          float64\n",
       "pcp 06          float64\n",
       "pcp 24          float64\n",
       "sd              float64\n",
       "dtype: object"
      ]
     },
     "execution_count": 77,
     "metadata": {},
     "output_type": "execute_result"
    }
   ],
   "source": [
    "taxi.dtypes"
   ]
  },
  {
   "attachments": {
    "%D0%B8%D0%B7%D0%BE%D0%B1%D1%80%D0%B0%D0%B6%D0%B5%D0%BD%D0%B8%D0%B5.png": {
     "image/png": "[encoded data removed]"
    }
   },
   "cell_type": "markdown",
   "id": "9b1edd96",
   "metadata": {},
   "source": [
    "![%D0%B8%D0%B7%D0%BE%D0%B1%D1%80%D0%B0%D0%B6%D0%B5%D0%BD%D0%B8%D0%B5.png](attachment:%D0%B8%D0%B7%D0%BE%D0%B1%D1%80%D0%B0%D0%B6%D0%B5%D0%BD%D0%B8%D0%B5.png)"
   ]
  },
  {
   "cell_type": "markdown",
   "id": "dd8abe35",
   "metadata": {},
   "source": [
    "В названиях столбцов pcp 01, pcp 06, pcp 24 встречается пробел. Это не очень удобно, если в дальнейшем вы планируете обращаться к колонкам через точку, без использования кавычек и скобочек. \n",
    "\n",
    "Замените пробел в названиях на знак нижнего подчёркивания. \n",
    "\n",
    "Данные уже загружены в taxi."
   ]
  },
  {
   "cell_type": "code",
   "execution_count": 78,
   "id": "82a79d89",
   "metadata": {},
   "outputs": [],
   "source": [
    "taxi = taxi.rename(columns={\"pcp 01\": \"pcp_01\", \n",
    "                        \"pcp 06\": \"pcp_06\", \n",
    "                        \"pcp 24\": \"pcp_24\"})"
   ]
  },
  {
   "cell_type": "markdown",
   "id": "46bb71e9",
   "metadata": {},
   "source": [
    "***! Не забываем что внутри*** *columns* ***должен быть словарь, где ключами являются старые названия, а значения это новые названия***"
   ]
  },
  {
   "cell_type": "markdown",
   "id": "0ccbf2c6",
   "metadata": {},
   "source": [
    "Вас попросили узнать, сколько записей (строк) в *DataFrame* относятся к району Манхэттен (Manhattan). Получить ответ на данный вопрос можно было бы, например, с помощью следующей команды:\n",
    "\n",
    "```\n",
    "taxi.query(\"borough == 'Manhattan'\").shape[0]\n",
    "```\n",
    "\n",
    "А если мы хотим посмотреть, сколько раз встречается каждый из районов? Неужели придётся использовать подобную конструкцию для каждого уровня переменной? Здесь на помощь приходит метод *value_counts()*, подробнее о котором можно почитать в конспекте! \n",
    "\n",
    "А теперь вопрос: сколько раз в данных встречается район Бруклин (Brooklyn)?"
   ]
  },
  {
   "cell_type": "markdown",
   "id": "434c62cc",
   "metadata": {},
   "source": [
    "Первый вариант решения"
   ]
  },
  {
   "cell_type": "code",
   "execution_count": 79,
   "id": "942c4ec7",
   "metadata": {},
   "outputs": [
    {
     "data": {
      "text/plain": [
       "4343"
      ]
     },
     "execution_count": 79,
     "metadata": {},
     "output_type": "execute_result"
    }
   ],
   "source": [
    "taxi.query(\"borough =='Brooklyn'\").shape[0] #сколько записей (строк) относятся к району Manhattan"
   ]
  },
  {
   "cell_type": "markdown",
   "id": "fcaf3aa1",
   "metadata": {},
   "source": [
    "Второй вариант решения"
   ]
  },
  {
   "cell_type": "markdown",
   "id": "e1df6a00",
   "metadata": {},
   "source": [
    "*На русском сначала сгруппируем строки по районам? выберем нужный район, а затем агрегируем методом* ***count*** *любую строку*\n"
   ]
  },
  {
   "cell_type": "code",
   "execution_count": 80,
   "id": "68ddc2d2",
   "metadata": {},
   "outputs": [
    {
     "data": {
      "text/html": [
       "<div>\n",
       "<style scoped>\n",
       "    .dataframe tbody tr th:only-of-type {\n",
       "        vertical-align: middle;\n",
       "    }\n",
       "\n",
       "    .dataframe tbody tr th {\n",
       "        vertical-align: top;\n",
       "    }\n",
       "\n",
       "    .dataframe thead th {\n",
       "        text-align: right;\n",
       "    }\n",
       "</style>\n",
       "<table border=\"1\" class=\"dataframe\">\n",
       "  <thead>\n",
       "    <tr style=\"text-align: right;\">\n",
       "      <th></th>\n",
       "      <th>borough</th>\n",
       "      <th>pickups</th>\n",
       "    </tr>\n",
       "  </thead>\n",
       "  <tbody>\n",
       "    <tr>\n",
       "      <th>3</th>\n",
       "      <td>Manhattan</td>\n",
       "      <td>4343</td>\n",
       "    </tr>\n",
       "  </tbody>\n",
       "</table>\n",
       "</div>"
      ],
      "text/plain": [
       "     borough  pickups\n",
       "3  Manhattan     4343"
      ]
     },
     "execution_count": 80,
     "metadata": {},
     "output_type": "execute_result"
    }
   ],
   "source": [
    "taxi.groupby('borough', as_index=False) \\\n",
    "    .agg({'pickups': 'count'}) \\\n",
    "    .query('borough == \"Manhattan\"')"
   ]
  },
  {
   "cell_type": "markdown",
   "id": "14606a6a",
   "metadata": {},
   "source": [
    "Третий вариант решения"
   ]
  },
  {
   "cell_type": "code",
   "execution_count": 81,
   "id": "0e0253fc",
   "metadata": {},
   "outputs": [
    {
     "data": {
      "text/plain": [
       "Bronx            4343\n",
       "Brooklyn         4343\n",
       "EWR              4343\n",
       "Manhattan        4343\n",
       "Queens           4343\n",
       "Staten Island    4343\n",
       "Name: borough, dtype: int64"
      ]
     },
     "execution_count": 81,
     "metadata": {},
     "output_type": "execute_result"
    }
   ],
   "source": [
    "taxi.borough.value_counts() # метод для series"
   ]
  },
  {
   "cell_type": "markdown",
   "id": "5e975544",
   "metadata": {},
   "source": [
    "Ответ: 4343"
   ]
  },
  {
   "cell_type": "markdown",
   "id": "a9f7ef5e",
   "metadata": {},
   "source": [
    "Следующая задача: выяснить, из какого района было совершено наибольшее количество поездок за весь период. \n",
    "\n",
    "Для начала посчитайте общее количество поездок (pickups) без группировки."
   ]
  },
  {
   "cell_type": "code",
   "execution_count": 82,
   "id": "ab763496",
   "metadata": {},
   "outputs": [
    {
     "data": {
      "text/plain": [
       "14265773"
      ]
     },
     "execution_count": 82,
     "metadata": {},
     "output_type": "execute_result"
    }
   ],
   "source": [
    "taxi.pickups.sum()"
   ]
  },
  {
   "cell_type": "markdown",
   "id": "9fad8b6b",
   "metadata": {},
   "source": [
    "А теперь сгруппируйте данные по району (borough) и укажите, из какого пункта было совершено больше всего поездок."
   ]
  },
  {
   "cell_type": "code",
   "execution_count": 83,
   "id": "71d5de3e",
   "metadata": {},
   "outputs": [
    {
     "data": {
      "text/html": [
       "<div>\n",
       "<style scoped>\n",
       "    .dataframe tbody tr th:only-of-type {\n",
       "        vertical-align: middle;\n",
       "    }\n",
       "\n",
       "    .dataframe tbody tr th {\n",
       "        vertical-align: top;\n",
       "    }\n",
       "\n",
       "    .dataframe thead th {\n",
       "        text-align: right;\n",
       "    }\n",
       "</style>\n",
       "<table border=\"1\" class=\"dataframe\">\n",
       "  <thead>\n",
       "    <tr style=\"text-align: right;\">\n",
       "      <th></th>\n",
       "      <th>pickups</th>\n",
       "    </tr>\n",
       "    <tr>\n",
       "      <th>borough</th>\n",
       "      <th></th>\n",
       "    </tr>\n",
       "  </thead>\n",
       "  <tbody>\n",
       "    <tr>\n",
       "      <th>Manhattan</th>\n",
       "      <td>10367841</td>\n",
       "    </tr>\n",
       "    <tr>\n",
       "      <th>Brooklyn</th>\n",
       "      <td>2321035</td>\n",
       "    </tr>\n",
       "    <tr>\n",
       "      <th>Queens</th>\n",
       "      <td>1343528</td>\n",
       "    </tr>\n",
       "    <tr>\n",
       "      <th>Bronx</th>\n",
       "      <td>220047</td>\n",
       "    </tr>\n",
       "    <tr>\n",
       "      <th>Staten Island</th>\n",
       "      <td>6957</td>\n",
       "    </tr>\n",
       "    <tr>\n",
       "      <th>EWR</th>\n",
       "      <td>105</td>\n",
       "    </tr>\n",
       "  </tbody>\n",
       "</table>\n",
       "</div>"
      ],
      "text/plain": [
       "                pickups\n",
       "borough                \n",
       "Manhattan      10367841\n",
       "Brooklyn        2321035\n",
       "Queens          1343528\n",
       "Bronx            220047\n",
       "Staten Island      6957\n",
       "EWR                 105"
      ]
     },
     "execution_count": 83,
     "metadata": {},
     "output_type": "execute_result"
    }
   ],
   "source": [
    "taxi.groupby('borough').agg({'pickups': 'sum'}).sort_values('pickups', ascending=False)"
   ]
  },
  {
   "attachments": {
    "%D0%B8%D0%B7%D0%BE%D0%B1%D1%80%D0%B0%D0%B6%D0%B5%D0%BD%D0%B8%D0%B5.png": {
     "image/png": "[encoded data removed]"
    }
   },
   "cell_type": "markdown",
   "id": "3d0ad63a",
   "metadata": {},
   "source": [
    "![%D0%B8%D0%B7%D0%BE%D0%B1%D1%80%D0%B0%D0%B6%D0%B5%D0%BD%D0%B8%D0%B5.png](attachment:%D0%B8%D0%B7%D0%BE%D0%B1%D1%80%D0%B0%D0%B6%D0%B5%D0%BD%D0%B8%D0%B5.png)"
   ]
  },
  {
   "cell_type": "markdown",
   "id": "9fa32941",
   "metadata": {},
   "source": [
    "⭐️Задание со звёздочкой!⭐️\n",
    "\n",
    "Ещё несколько полезных методов в *pandas*! Возможно, в предыдущем степе вы просто посмотрели на данные или отсортировали значения. Ускорить данный процесс в дальнейшем помогут методы *idxmin()* и *idxmax()*, которые возвращают индекс минимального или максимального значения.\n",
    "\n",
    "    idxmin – индекс минимального значения\n",
    "    idxmax – индекс максимального значения\n",
    "\n",
    "Сохраните название района с наименьшим числом поездок в переменную *min_pickups*, применив подходящий метод."
   ]
  },
  {
   "cell_type": "code",
   "execution_count": 84,
   "id": "03dc5b5c",
   "metadata": {},
   "outputs": [],
   "source": [
    "min_pickups = taxi.groupby('borough').agg({'pickups': 'sum'}).idxmin()"
   ]
  },
  {
   "cell_type": "code",
   "execution_count": 85,
   "id": "06ffe338",
   "metadata": {},
   "outputs": [
    {
     "data": {
      "text/plain": [
       "pickups    EWR\n",
       "dtype: object"
      ]
     },
     "execution_count": 85,
     "metadata": {},
     "output_type": "execute_result"
    }
   ],
   "source": [
    "min_pickups"
   ]
  },
  {
   "cell_type": "markdown",
   "id": "438433a5",
   "metadata": {},
   "source": [
    "Продолжим изучение данных и посмотрим на число поездок в выходные дни. Сгруппируйте данные по двум признакам: району города и является ли день выходным (колонки *borough* и *hday*). Сравните среднее число поездок, и выберите районы, из которых по праздникам в среднем поступает больше заказов, чем в обычные дни. "
   ]
  },
  {
   "cell_type": "code",
   "execution_count": 86,
   "id": "10d0d8f5",
   "metadata": {},
   "outputs": [
    {
     "name": "stdout",
     "output_type": "stream",
     "text": [
      "EWR\n",
      "Queens\n"
     ]
    }
   ],
   "source": [
    "holiday = taxi.query('hday == \"Y\"').groupby(['borough'], as_index = False).agg({'pickups':'mean'})\n",
    "weekday = taxi.query('hday == \"N\"').groupby(['borough'], as_index = False).agg({'pickups':'mean'})\n",
    "\n",
    "for i in range(len(holiday)):\n",
    "    if holiday.pickups[i] > weekday.pickups[i]:\n",
    "        print(holiday.borough[i]) "
   ]
  },
  {
   "attachments": {
    "%D0%B8%D0%B7%D0%BE%D0%B1%D1%80%D0%B0%D0%B6%D0%B5%D0%BD%D0%B8%D0%B5.png": {
     "image/png": "[encoded data removed]"
    }
   },
   "cell_type": "markdown",
   "id": "987f00b5",
   "metadata": {},
   "source": [
    "![%D0%B8%D0%B7%D0%BE%D0%B1%D1%80%D0%B0%D0%B6%D0%B5%D0%BD%D0%B8%D0%B5.png](attachment:%D0%B8%D0%B7%D0%BE%D0%B1%D1%80%D0%B0%D0%B6%D0%B5%D0%BD%D0%B8%D0%B5.png)"
   ]
  },
  {
   "cell_type": "markdown",
   "id": "d724e622",
   "metadata": {},
   "source": [
    "***! Обратите внимание что ответ в Stepik отличается от ответа на LMS***"
   ]
  },
  {
   "cell_type": "markdown",
   "id": "c082a733",
   "metadata": {},
   "source": [
    "Для каждого района посчитайте число поездок по месяцам. Отсортируйте полученные значения по убыванию и сохраните результирующий DataFrame в *pickups_by_mon_bor*. Обратите внимание, что итоговый датасет должен состоять из трёх колонок: *pickup_month*, *borough*, *pickups*."
   ]
  },
  {
   "cell_type": "code",
   "execution_count": 87,
   "id": "228bed90",
   "metadata": {},
   "outputs": [
    {
     "data": {
      "text/html": [
       "<div>\n",
       "<style scoped>\n",
       "    .dataframe tbody tr th:only-of-type {\n",
       "        vertical-align: middle;\n",
       "    }\n",
       "\n",
       "    .dataframe tbody tr th {\n",
       "        vertical-align: top;\n",
       "    }\n",
       "\n",
       "    .dataframe thead th {\n",
       "        text-align: right;\n",
       "    }\n",
       "</style>\n",
       "<table border=\"1\" class=\"dataframe\">\n",
       "  <thead>\n",
       "    <tr style=\"text-align: right;\">\n",
       "      <th></th>\n",
       "      <th>pickup_month</th>\n",
       "      <th>borough</th>\n",
       "      <th>pickups</th>\n",
       "    </tr>\n",
       "  </thead>\n",
       "  <tbody>\n",
       "    <tr>\n",
       "      <th>21</th>\n",
       "      <td>Jun</td>\n",
       "      <td>Manhattan</td>\n",
       "      <td>1995388</td>\n",
       "    </tr>\n",
       "    <tr>\n",
       "      <th>33</th>\n",
       "      <td>May</td>\n",
       "      <td>Manhattan</td>\n",
       "      <td>1888800</td>\n",
       "    </tr>\n",
       "    <tr>\n",
       "      <th>9</th>\n",
       "      <td>Feb</td>\n",
       "      <td>Manhattan</td>\n",
       "      <td>1718571</td>\n",
       "    </tr>\n",
       "    <tr>\n",
       "      <th>27</th>\n",
       "      <td>Mar</td>\n",
       "      <td>Manhattan</td>\n",
       "      <td>1661261</td>\n",
       "    </tr>\n",
       "    <tr>\n",
       "      <th>3</th>\n",
       "      <td>Apr</td>\n",
       "      <td>Manhattan</td>\n",
       "      <td>1648278</td>\n",
       "    </tr>\n",
       "  </tbody>\n",
       "</table>\n",
       "</div>"
      ],
      "text/plain": [
       "   pickup_month    borough  pickups\n",
       "21          Jun  Manhattan  1995388\n",
       "33          May  Manhattan  1888800\n",
       "9           Feb  Manhattan  1718571\n",
       "27          Mar  Manhattan  1661261\n",
       "3           Apr  Manhattan  1648278"
      ]
     },
     "execution_count": 87,
     "metadata": {},
     "output_type": "execute_result"
    }
   ],
   "source": [
    "pickups_by_mon_bor = taxi \\\n",
    "    .groupby(['pickup_month', 'borough'], as_index=False) \\\n",
    "    .agg({'pickups': 'sum'}) \\\n",
    "    .sort_values('pickups', ascending=False)\n",
    "\n",
    "pickups_by_mon_bor.head()"
   ]
  },
  {
   "cell_type": "markdown",
   "id": "9e36a48b",
   "metadata": {},
   "source": [
    "💀 Сложное задание! 💀\n",
    "\n",
    "Теперь задача посложнее! Попрактикуемся в написании собственных функций и их применении к DataFrame. Поскольку данные о поездках в Нью-Йорке, температура представлена в градусах Фаренгейта. \n",
    "\n",
    "Напишите функцию *temp_to_celcius*, которая получает на вход колонку с температурой в °F и возвращает значения, переведённые в градусы Цельсия.\n"
   ]
  },
  {
   "cell_type": "code",
   "execution_count": 88,
   "id": "158011c5",
   "metadata": {},
   "outputs": [],
   "source": [
    "def temp_to_celcius(t):\n",
    "    C = ((t - 32) * 5) / 9\n",
    "    return C"
   ]
  },
  {
   "cell_type": "code",
   "execution_count": 89,
   "id": "3284dc68",
   "metadata": {},
   "outputs": [
    {
     "data": {
      "text/plain": [
       "0        -1.111111\n",
       "1        -1.111111\n",
       "2        -1.111111\n",
       "3        -1.111111\n",
       "4        -1.111111\n",
       "           ...    \n",
       "29096    23.888889\n",
       "29097    23.888889\n",
       "29098    23.888889\n",
       "29099    23.888889\n",
       "29100    23.888889\n",
       "Name: temp, Length: 29101, dtype: float64"
      ]
     },
     "execution_count": 89,
     "metadata": {},
     "output_type": "execute_result"
    }
   ],
   "source": [
    "temp_to_celcius(taxi['temp'])"
   ]
  },
  {
   "cell_type": "markdown",
   "id": "b25fdf4a",
   "metadata": {},
   "source": [
    "___\n",
    "---\n",
    "---\n",
    "### А вот и наш первый минипроект!\n",
    "\n",
    "***В первом мини-проекте вам предстоит проанализировать данные о бронировании отелей.***\n",
    "\n",
    "---\n",
    "#### Задачи\n",
    "\n",
    "Импортируйте библиотеку *pandas* как *pd*. \n",
    "\n",
    "Загрузите датасет *bookings.csv* с разделителем ;. \n",
    "\n",
    "Проверьте размер таблицы, типы переменных, а затем выведите первые 7 строк, чтобы посмотреть на данные. \n",
    "\n",
    "Приведите названия колонок к нижнему регистру и замените пробелы на знак нижнего подчеркивания.\n",
    "\n",
    "Пользователи из каких стран совершили наибольшее число успешных бронирований? Укажите топ-5.\n",
    "\n",
    "На сколько ночей в среднем бронируют отели разных типов?\n",
    "\n",
    "Иногда тип номера, полученного клиентом *(assigned_room_type)*, отличается от изначально забронированного *(reserved_room_type)*. Такое может произойти, например, по причине овербукинга. Сколько подобных наблюдений встретилось в датасете?\n",
    "\n",
    "Проанализируйте даты запланированного прибытия. – На какой месяц чаще всего успешно оформляли бронь в 2016? \n",
    "\n",
    "Изменился ли самый популярный месяц в 2017?– Сгруппируйте данные по годам и проверьте, на какой месяц бронирования отеля типа *City Hotel* отменялись чаще всего в каждый из периодов\n",
    "\n",
    "Посмотрите на числовые характеристики трёх переменных: *adults*, *children* и *babies*. Какая из них имеет наибольшее среднее значение?\n",
    "\n",
    "Создайте колонку *total_kids*, объединив *children* и *babies*. Для отелей какого типа среднее значение переменной оказалось наибольшим?\n",
    "\n",
    "Создайте переменную *has_kids*, которая принимает значение *True*, если клиент при бронировании указал хотя бы одного ребенка *(total_kids)*, в противном случае – *False*. Посчитайте отношение количества ушедших пользователей к общему количеству клиентов, выраженное в процентах *(churn rate)*. Укажите, среди какой группы показатель выше.\n",
    "\n",
    "---\n",
    "#### Описание данных\n",
    "\n",
    "***Hotel*** – тип отеля (City Hotel или Resort Hotel)\n",
    "\n",
    "***Is canceled*** – бронирование было отменено (1) или нет (0); не отмененное считается успешным\n",
    "\n",
    "***Lead time*** – количество дней, прошедших между датой бронирования и датой прибытия  \n",
    "\n",
    "***Arrival full date*** – полная дата прибытия\n",
    "\n",
    "***Arrival date year*** – год прибытия  \n",
    "\n",
    "***Arrival date month*** – месяц прибытия  \n",
    "\n",
    "***Arrival date week number*** – номер недели прибытия\n",
    "\n",
    "***Arrival date day of month*** – день прибытия\n",
    "\n",
    "***Stays in weekend nights*** – количество выходных (суббота или воскресенье), которые гость забронировал для проживания в отеле\n",
    "\n",
    "***Stays in week nights*** – количество дней (с понедельника по пятницу), которые гость забронировал для проживания в отеле\n",
    "\n",
    "***Stays total nights*** – общее число забронированных ночей (сумма двух предыдущих колонок)\n",
    "\n",
    "***Adults*** – число взрослых\n",
    "\n",
    "***Children*** – число детей\n",
    "\n",
    "***Babies*** – число младенцев \n",
    "\n",
    "***Meal*** – выбранный тип питания\n",
    "\n",
    "***Country*** – страна происхождения клиента\n",
    "\n",
    "***Reserved room type*** – тип зарезервированного номера\n",
    "\n",
    "***Assigned room type*** – тип полученного номера (может отличаться от забронированного)\n",
    "\n",
    "***Customer type*** – тип бронирования\n",
    "\n",
    "***Reservation status*** – значение последнего статуса брони: Canceled - было отменено клиентом; Check-Out - клиент зарегистрировался, но уже покинул отель; No-Show - клиент не зарегистрировался и сообщил администрации отеля причину\n",
    "\n",
    "***Reservation status date*** – дата обновления статуса"
   ]
  },
  {
   "cell_type": "code",
   "execution_count": 90,
   "id": "677027b4",
   "metadata": {},
   "outputs": [],
   "source": [
    "bookings = pd.read_csv('https://stepik.org/media/attachments/lesson/360344/bookings.csv', sep=';')"
   ]
  },
  {
   "cell_type": "code",
   "execution_count": 91,
   "id": "e6b695b2",
   "metadata": {},
   "outputs": [],
   "source": [
    "bookings_head = bookings.head(7)"
   ]
  },
  {
   "cell_type": "markdown",
   "id": "a84f3d68",
   "metadata": {},
   "source": [
    "Количество столбцов в DataFrame"
   ]
  },
  {
   "cell_type": "code",
   "execution_count": 92,
   "id": "5b003bf7",
   "metadata": {},
   "outputs": [
    {
     "data": {
      "text/plain": [
       "21"
      ]
     },
     "execution_count": 92,
     "metadata": {},
     "output_type": "execute_result"
    }
   ],
   "source": [
    "bookings.shape[1] "
   ]
  },
  {
   "cell_type": "markdown",
   "id": "4bad6a8b",
   "metadata": {},
   "source": [
    "Типы данных по столбцам"
   ]
  },
  {
   "cell_type": "code",
   "execution_count": 93,
   "id": "ff0fca29",
   "metadata": {},
   "outputs": [
    {
     "data": {
      "text/plain": [
       "Hotel                         object\n",
       "Is Canceled                    int64\n",
       "Lead Time                      int64\n",
       "arrival full date             object\n",
       "Arrival Date Year              int64\n",
       "Arrival Date Month            object\n",
       "Arrival Date Week Number       int64\n",
       "Arrival Date Day of Month      int64\n",
       "Stays in Weekend nights        int64\n",
       "Stays in week nights           int64\n",
       "stays total nights             int64\n",
       "Adults                         int64\n",
       "Children                     float64\n",
       "Babies                         int64\n",
       "Meal                          object\n",
       "Country                       object\n",
       "Reserved Room Type            object\n",
       "Assigned room type            object\n",
       "customer type                 object\n",
       "Reservation Status            object\n",
       "Reservation status_date       object\n",
       "dtype: object"
      ]
     },
     "execution_count": 93,
     "metadata": {},
     "output_type": "execute_result"
    }
   ],
   "source": [
    "bookings.dtypes"
   ]
  },
  {
   "cell_type": "markdown",
   "id": "e72fa048",
   "metadata": {},
   "source": [
    "Попробуем переименовать названия столбцов в более удобный вид без пробелов и в змеином стиле"
   ]
  },
  {
   "cell_type": "code",
   "execution_count": 94,
   "id": "2e0bde58",
   "metadata": {},
   "outputs": [
    {
     "data": {
      "text/plain": [
       "Index(['Hotel', 'Is Canceled', 'Lead Time', 'arrival full date',\n",
       "       'Arrival Date Year', 'Arrival Date Month', 'Arrival Date Week Number',\n",
       "       'Arrival Date Day of Month', 'Stays in Weekend nights',\n",
       "       'Stays in week nights', 'stays total nights', 'Adults', 'Children',\n",
       "       'Babies', 'Meal', 'Country', 'Reserved Room Type', 'Assigned room type',\n",
       "       'customer type', 'Reservation Status', 'Reservation status_date'],\n",
       "      dtype='object')"
      ]
     },
     "execution_count": 94,
     "metadata": {},
     "output_type": "execute_result"
    }
   ],
   "source": [
    "bookings.columns"
   ]
  },
  {
   "cell_type": "code",
   "execution_count": 95,
   "id": "8a07defa",
   "metadata": {},
   "outputs": [
    {
     "data": {
      "text/plain": [
       "Index(['hotel', 'is_canceled', 'lead_time', 'arrival_full_date',\n",
       "       'arrival_date_year', 'arrival_date_month', 'arrival_date_week_number',\n",
       "       'arrival_date_day_of_month', 'stays_in_weekend_nights',\n",
       "       'stays_in_week_nights', 'stays_total_nights', 'adults', 'children',\n",
       "       'babies', 'meal', 'country', 'reserved_room_type', 'assigned_room_type',\n",
       "       'customer_type', 'reservation_status', 'reservation_status_date'],\n",
       "      dtype='object')"
      ]
     },
     "execution_count": 95,
     "metadata": {},
     "output_type": "execute_result"
    }
   ],
   "source": [
    "bookings.columns.str.lower().str.replace(' ', '_')"
   ]
  },
  {
   "cell_type": "code",
   "execution_count": 96,
   "id": "7ea9f84f",
   "metadata": {},
   "outputs": [],
   "source": [
    "bookings = bookings.rename(columns={'Hotel': 'hotel', \n",
    "                         'Is Canceled': 'is_canceled', \n",
    "                         'Lead Time': 'lead_time', \n",
    "                         'arrival full date': 'arrival_full_date',\n",
    "                         'Arrival Date Year': 'arrival_date_year',  \n",
    "                         'Arrival Date Month': 'arrival_date_month', \n",
    "                         'Arrival Date Week Number': 'arrival_date_week_number',\n",
    "                         'Arrival Date Day of Month': 'arrival_date_day_of_month', \n",
    "                         'Stays in Weekend nights': 'stays_in_weekend_nights',\n",
    "                         'Stays in week nights': 'stays_in_week_nights', \n",
    "                         'stays total nights': 'stays_total_nights', \n",
    "                         'Adults': 'adults', \n",
    "                         'Children': 'children',\n",
    "                         'Meal': 'meal', \n",
    "                         'Babies': 'babies', \n",
    "                         'Country': 'country', \n",
    "                         'Reserved Room Type': 'reserved_room_type',  \n",
    "                         'Assigned room type': 'assigned_room_type',\n",
    "                         'customer type': 'customer_type', \n",
    "                         'Reservation Status': 'reservation_status', \n",
    "                         'Reservation status_date': 'reservation_status_date'})"
   ]
  },
  {
   "cell_type": "code",
   "execution_count": 97,
   "id": "a1ecb5da",
   "metadata": {},
   "outputs": [
    {
     "data": {
      "text/html": [
       "<div>\n",
       "<style scoped>\n",
       "    .dataframe tbody tr th:only-of-type {\n",
       "        vertical-align: middle;\n",
       "    }\n",
       "\n",
       "    .dataframe tbody tr th {\n",
       "        vertical-align: top;\n",
       "    }\n",
       "\n",
       "    .dataframe thead th {\n",
       "        text-align: right;\n",
       "    }\n",
       "</style>\n",
       "<table border=\"1\" class=\"dataframe\">\n",
       "  <thead>\n",
       "    <tr style=\"text-align: right;\">\n",
       "      <th></th>\n",
       "      <th>hotel</th>\n",
       "      <th>is_canceled</th>\n",
       "      <th>lead_time</th>\n",
       "      <th>arrival_full_date</th>\n",
       "      <th>arrival_date_year</th>\n",
       "      <th>arrival_date_month</th>\n",
       "      <th>arrival_date_week_number</th>\n",
       "      <th>arrival_date_day_of_month</th>\n",
       "      <th>stays_in_weekend_nights</th>\n",
       "      <th>stays_in_week_nights</th>\n",
       "      <th>...</th>\n",
       "      <th>adults</th>\n",
       "      <th>children</th>\n",
       "      <th>babies</th>\n",
       "      <th>meal</th>\n",
       "      <th>country</th>\n",
       "      <th>reserved_room_type</th>\n",
       "      <th>assigned_room_type</th>\n",
       "      <th>customer_type</th>\n",
       "      <th>reservation_status</th>\n",
       "      <th>reservation_status_date</th>\n",
       "    </tr>\n",
       "  </thead>\n",
       "  <tbody>\n",
       "    <tr>\n",
       "      <th>0</th>\n",
       "      <td>Resort Hotel</td>\n",
       "      <td>0</td>\n",
       "      <td>342</td>\n",
       "      <td>2015-07-01</td>\n",
       "      <td>2015</td>\n",
       "      <td>July</td>\n",
       "      <td>27</td>\n",
       "      <td>1</td>\n",
       "      <td>0</td>\n",
       "      <td>0</td>\n",
       "      <td>...</td>\n",
       "      <td>2</td>\n",
       "      <td>0.0</td>\n",
       "      <td>0</td>\n",
       "      <td>BB</td>\n",
       "      <td>PRT</td>\n",
       "      <td>C</td>\n",
       "      <td>C</td>\n",
       "      <td>Transient</td>\n",
       "      <td>Check-Out</td>\n",
       "      <td>2015-07-01</td>\n",
       "    </tr>\n",
       "    <tr>\n",
       "      <th>1</th>\n",
       "      <td>Resort Hotel</td>\n",
       "      <td>0</td>\n",
       "      <td>737</td>\n",
       "      <td>2015-07-01</td>\n",
       "      <td>2015</td>\n",
       "      <td>July</td>\n",
       "      <td>27</td>\n",
       "      <td>1</td>\n",
       "      <td>0</td>\n",
       "      <td>0</td>\n",
       "      <td>...</td>\n",
       "      <td>2</td>\n",
       "      <td>0.0</td>\n",
       "      <td>0</td>\n",
       "      <td>BB</td>\n",
       "      <td>PRT</td>\n",
       "      <td>C</td>\n",
       "      <td>C</td>\n",
       "      <td>Transient</td>\n",
       "      <td>Check-Out</td>\n",
       "      <td>2015-07-01</td>\n",
       "    </tr>\n",
       "    <tr>\n",
       "      <th>2</th>\n",
       "      <td>Resort Hotel</td>\n",
       "      <td>0</td>\n",
       "      <td>7</td>\n",
       "      <td>2015-07-01</td>\n",
       "      <td>2015</td>\n",
       "      <td>July</td>\n",
       "      <td>27</td>\n",
       "      <td>1</td>\n",
       "      <td>0</td>\n",
       "      <td>1</td>\n",
       "      <td>...</td>\n",
       "      <td>1</td>\n",
       "      <td>0.0</td>\n",
       "      <td>0</td>\n",
       "      <td>BB</td>\n",
       "      <td>GBR</td>\n",
       "      <td>A</td>\n",
       "      <td>C</td>\n",
       "      <td>Transient</td>\n",
       "      <td>Check-Out</td>\n",
       "      <td>2015-07-02</td>\n",
       "    </tr>\n",
       "    <tr>\n",
       "      <th>3</th>\n",
       "      <td>Resort Hotel</td>\n",
       "      <td>0</td>\n",
       "      <td>13</td>\n",
       "      <td>2015-07-01</td>\n",
       "      <td>2015</td>\n",
       "      <td>July</td>\n",
       "      <td>27</td>\n",
       "      <td>1</td>\n",
       "      <td>0</td>\n",
       "      <td>1</td>\n",
       "      <td>...</td>\n",
       "      <td>1</td>\n",
       "      <td>0.0</td>\n",
       "      <td>0</td>\n",
       "      <td>BB</td>\n",
       "      <td>GBR</td>\n",
       "      <td>A</td>\n",
       "      <td>A</td>\n",
       "      <td>Transient</td>\n",
       "      <td>Check-Out</td>\n",
       "      <td>2015-07-02</td>\n",
       "    </tr>\n",
       "    <tr>\n",
       "      <th>4</th>\n",
       "      <td>Resort Hotel</td>\n",
       "      <td>0</td>\n",
       "      <td>14</td>\n",
       "      <td>2015-07-01</td>\n",
       "      <td>2015</td>\n",
       "      <td>July</td>\n",
       "      <td>27</td>\n",
       "      <td>1</td>\n",
       "      <td>0</td>\n",
       "      <td>2</td>\n",
       "      <td>...</td>\n",
       "      <td>2</td>\n",
       "      <td>0.0</td>\n",
       "      <td>0</td>\n",
       "      <td>BB</td>\n",
       "      <td>GBR</td>\n",
       "      <td>A</td>\n",
       "      <td>A</td>\n",
       "      <td>Transient</td>\n",
       "      <td>Check-Out</td>\n",
       "      <td>2015-07-03</td>\n",
       "    </tr>\n",
       "  </tbody>\n",
       "</table>\n",
       "<p>5 rows × 21 columns</p>\n",
       "</div>"
      ],
      "text/plain": [
       "          hotel  is_canceled  lead_time arrival_full_date  arrival_date_year  \\\n",
       "0  Resort Hotel            0        342        2015-07-01               2015   \n",
       "1  Resort Hotel            0        737        2015-07-01               2015   \n",
       "2  Resort Hotel            0          7        2015-07-01               2015   \n",
       "3  Resort Hotel            0         13        2015-07-01               2015   \n",
       "4  Resort Hotel            0         14        2015-07-01               2015   \n",
       "\n",
       "  arrival_date_month  arrival_date_week_number  arrival_date_day_of_month  \\\n",
       "0               July                        27                          1   \n",
       "1               July                        27                          1   \n",
       "2               July                        27                          1   \n",
       "3               July                        27                          1   \n",
       "4               July                        27                          1   \n",
       "\n",
       "   stays_in_weekend_nights  stays_in_week_nights  ...  adults  children  \\\n",
       "0                        0                     0  ...       2       0.0   \n",
       "1                        0                     0  ...       2       0.0   \n",
       "2                        0                     1  ...       1       0.0   \n",
       "3                        0                     1  ...       1       0.0   \n",
       "4                        0                     2  ...       2       0.0   \n",
       "\n",
       "   babies  meal country reserved_room_type assigned_room_type customer_type  \\\n",
       "0       0    BB     PRT                  C                  C     Transient   \n",
       "1       0    BB     PRT                  C                  C     Transient   \n",
       "2       0    BB     GBR                  A                  C     Transient   \n",
       "3       0    BB     GBR                  A                  A     Transient   \n",
       "4       0    BB     GBR                  A                  A     Transient   \n",
       "\n",
       "  reservation_status reservation_status_date  \n",
       "0          Check-Out              2015-07-01  \n",
       "1          Check-Out              2015-07-01  \n",
       "2          Check-Out              2015-07-02  \n",
       "3          Check-Out              2015-07-02  \n",
       "4          Check-Out              2015-07-03  \n",
       "\n",
       "[5 rows x 21 columns]"
      ]
     },
     "execution_count": 97,
     "metadata": {},
     "output_type": "execute_result"
    }
   ],
   "source": [
    "bookings.head()"
   ]
  },
  {
   "cell_type": "markdown",
   "id": "8895d295",
   "metadata": {},
   "source": [
    "💀 Сложное задание! 💀\n",
    "\n",
    "Перейдем к исследованию данных! Пользователи из каких стран совершили наибольшее число успешных бронирований? Бронирование считается успешным, если в дальнейшем не было отменено (переменная is_canceled). В качестве ответа выберите страны, входящие в топ-5."
   ]
  },
  {
   "cell_type": "code",
   "execution_count": 98,
   "id": "892e4f8f",
   "metadata": {},
   "outputs": [
    {
     "data": {
      "text/html": [
       "<div>\n",
       "<style scoped>\n",
       "    .dataframe tbody tr th:only-of-type {\n",
       "        vertical-align: middle;\n",
       "    }\n",
       "\n",
       "    .dataframe tbody tr th {\n",
       "        vertical-align: top;\n",
       "    }\n",
       "\n",
       "    .dataframe thead th {\n",
       "        text-align: right;\n",
       "    }\n",
       "</style>\n",
       "<table border=\"1\" class=\"dataframe\">\n",
       "  <thead>\n",
       "    <tr style=\"text-align: right;\">\n",
       "      <th></th>\n",
       "      <th>country</th>\n",
       "      <th>hotel</th>\n",
       "    </tr>\n",
       "  </thead>\n",
       "  <tbody>\n",
       "    <tr>\n",
       "      <th>125</th>\n",
       "      <td>PRT</td>\n",
       "      <td>21071</td>\n",
       "    </tr>\n",
       "    <tr>\n",
       "      <th>57</th>\n",
       "      <td>GBR</td>\n",
       "      <td>9676</td>\n",
       "    </tr>\n",
       "    <tr>\n",
       "      <th>54</th>\n",
       "      <td>FRA</td>\n",
       "      <td>8481</td>\n",
       "    </tr>\n",
       "    <tr>\n",
       "      <th>50</th>\n",
       "      <td>ESP</td>\n",
       "      <td>6391</td>\n",
       "    </tr>\n",
       "    <tr>\n",
       "      <th>42</th>\n",
       "      <td>DEU</td>\n",
       "      <td>6069</td>\n",
       "    </tr>\n",
       "  </tbody>\n",
       "</table>\n",
       "</div>"
      ],
      "text/plain": [
       "    country  hotel\n",
       "125     PRT  21071\n",
       "57      GBR   9676\n",
       "54      FRA   8481\n",
       "50      ESP   6391\n",
       "42      DEU   6069"
      ]
     },
     "execution_count": 98,
     "metadata": {},
     "output_type": "execute_result"
    }
   ],
   "source": [
    "bookings.query('is_canceled == 0') \\\n",
    "    .groupby('country', as_index=False) \\\n",
    "    .agg({'hotel': 'count'}) \\\n",
    "    .sort_values('hotel', ascending=False) \\\n",
    "    .head()"
   ]
  },
  {
   "cell_type": "markdown",
   "id": "79dfd415",
   "metadata": {},
   "source": [
    " На сколько ночей (stays_total_nights)  в среднем бронируют отели типа City Hotel? Resort Hotel? Запишите полученные значения в пропуски с точностью до 2 знаков после точки."
   ]
  },
  {
   "cell_type": "code",
   "execution_count": 99,
   "id": "7b3e667d",
   "metadata": {},
   "outputs": [],
   "source": [
    "bookings['stays_total_nights'] = bookings['stays_in_weekend_nights'] + bookings['stays_in_week_nights']"
   ]
  },
  {
   "cell_type": "code",
   "execution_count": 100,
   "id": "6c9f477d",
   "metadata": {},
   "outputs": [
    {
     "data": {
      "text/plain": [
       "0         0\n",
       "1         0\n",
       "2         1\n",
       "3         1\n",
       "4         2\n",
       "         ..\n",
       "119385    7\n",
       "119386    7\n",
       "119387    7\n",
       "119388    7\n",
       "119389    9\n",
       "Name: stays_total_nights, Length: 119390, dtype: int64"
      ]
     },
     "execution_count": 100,
     "metadata": {},
     "output_type": "execute_result"
    }
   ],
   "source": [
    "bookings.stays_total_nights"
   ]
  },
  {
   "cell_type": "code",
   "execution_count": 101,
   "id": "2897257e",
   "metadata": {},
   "outputs": [
    {
     "data": {
      "text/html": [
       "<div>\n",
       "<style scoped>\n",
       "    .dataframe tbody tr th:only-of-type {\n",
       "        vertical-align: middle;\n",
       "    }\n",
       "\n",
       "    .dataframe tbody tr th {\n",
       "        vertical-align: top;\n",
       "    }\n",
       "\n",
       "    .dataframe thead th {\n",
       "        text-align: right;\n",
       "    }\n",
       "</style>\n",
       "<table border=\"1\" class=\"dataframe\">\n",
       "  <thead>\n",
       "    <tr style=\"text-align: right;\">\n",
       "      <th></th>\n",
       "      <th>hotel</th>\n",
       "      <th>stays_total_nights</th>\n",
       "    </tr>\n",
       "  </thead>\n",
       "  <tbody>\n",
       "    <tr>\n",
       "      <th>0</th>\n",
       "      <td>City Hotel</td>\n",
       "      <td>2.978142</td>\n",
       "    </tr>\n",
       "    <tr>\n",
       "      <th>1</th>\n",
       "      <td>Resort Hotel</td>\n",
       "      <td>4.318547</td>\n",
       "    </tr>\n",
       "  </tbody>\n",
       "</table>\n",
       "</div>"
      ],
      "text/plain": [
       "          hotel  stays_total_nights\n",
       "0    City Hotel            2.978142\n",
       "1  Resort Hotel            4.318547"
      ]
     },
     "execution_count": 101,
     "metadata": {},
     "output_type": "execute_result"
    }
   ],
   "source": [
    "bookings \\\n",
    "    .groupby('hotel', as_index=False) \\\n",
    "    .agg({'stays_total_nights': 'mean'}) "
   ]
  },
  {
   "cell_type": "code",
   "execution_count": 102,
   "id": "bdeca4f2",
   "metadata": {},
   "outputs": [],
   "source": [
    "bookings_city_hotel = bookings \\\n",
    "    .groupby('hotel', as_index=False) \\\n",
    "    .agg({'stays_total_nights': 'mean'}) \\\n",
    "    .query('hotel == \"City Hotel\"')"
   ]
  },
  {
   "cell_type": "code",
   "execution_count": 103,
   "id": "99d1aecf",
   "metadata": {},
   "outputs": [
    {
     "data": {
      "text/plain": [
       "0    2.98\n",
       "Name: stays_total_nights, dtype: float64"
      ]
     },
     "execution_count": 103,
     "metadata": {},
     "output_type": "execute_result"
    }
   ],
   "source": [
    "bookings_city_hotel.stays_total_nights.round(2)"
   ]
  },
  {
   "cell_type": "code",
   "execution_count": 104,
   "id": "44c54789",
   "metadata": {},
   "outputs": [],
   "source": [
    "bookings_resor_hotel = bookings \\\n",
    "    .groupby('hotel', as_index=False) \\\n",
    "    .agg({'stays_total_nights': 'mean'}) \\\n",
    "    .query('hotel == \"Resort Hotel\"')"
   ]
  },
  {
   "cell_type": "code",
   "execution_count": 105,
   "id": "cf93d3f0",
   "metadata": {},
   "outputs": [
    {
     "data": {
      "text/plain": [
       "1    4.32\n",
       "Name: stays_total_nights, dtype: float64"
      ]
     },
     "execution_count": 105,
     "metadata": {},
     "output_type": "execute_result"
    }
   ],
   "source": [
    "bookings_resor_hotel.stays_total_nights.round(2)"
   ]
  },
  {
   "cell_type": "markdown",
   "id": "8997fc79",
   "metadata": {},
   "source": [
    "Иногда тип номера, полученного клиентом (assigned_room_type), отличается от изначально забронированного (reserved_room_type). Такое может произойти, например, по причине овербукинга.\n",
    "\n",
    "Сколько подобных наблюдений встретилось в датасете?"
   ]
  },
  {
   "cell_type": "code",
   "execution_count": 106,
   "id": "47983565",
   "metadata": {},
   "outputs": [
    {
     "data": {
      "text/plain": [
       "stays_total_nights    14917\n",
       "dtype: int64"
      ]
     },
     "execution_count": 106,
     "metadata": {},
     "output_type": "execute_result"
    }
   ],
   "source": [
    "bookings \\\n",
    "    .query('assigned_room_type != reserved_room_type') \\\n",
    "    .agg({'stays_total_nights': 'count'}) "
   ]
  },
  {
   "cell_type": "markdown",
   "id": "64ecfd4d",
   "metadata": {},
   "source": [
    "Теперь проанализируйте даты запланированного прибытия *(arrival_date_year)*.\n",
    "\n",
    "На какой месяц чаще всего оформляли бронь в 2016 году? Изменился ли самый популярный месяц в 2017?"
   ]
  },
  {
   "cell_type": "code",
   "execution_count": 107,
   "id": "a2d546e4",
   "metadata": {},
   "outputs": [
    {
     "data": {
      "text/html": [
       "<div>\n",
       "<style scoped>\n",
       "    .dataframe tbody tr th:only-of-type {\n",
       "        vertical-align: middle;\n",
       "    }\n",
       "\n",
       "    .dataframe tbody tr th {\n",
       "        vertical-align: top;\n",
       "    }\n",
       "\n",
       "    .dataframe thead th {\n",
       "        text-align: right;\n",
       "    }\n",
       "</style>\n",
       "<table border=\"1\" class=\"dataframe\">\n",
       "  <thead>\n",
       "    <tr style=\"text-align: right;\">\n",
       "      <th></th>\n",
       "      <th>hotel</th>\n",
       "      <th>is_canceled</th>\n",
       "      <th>lead_time</th>\n",
       "      <th>arrival_full_date</th>\n",
       "      <th>arrival_date_year</th>\n",
       "      <th>arrival_date_month</th>\n",
       "      <th>arrival_date_week_number</th>\n",
       "      <th>arrival_date_day_of_month</th>\n",
       "      <th>stays_in_weekend_nights</th>\n",
       "      <th>stays_in_week_nights</th>\n",
       "      <th>...</th>\n",
       "      <th>adults</th>\n",
       "      <th>children</th>\n",
       "      <th>babies</th>\n",
       "      <th>meal</th>\n",
       "      <th>country</th>\n",
       "      <th>reserved_room_type</th>\n",
       "      <th>assigned_room_type</th>\n",
       "      <th>customer_type</th>\n",
       "      <th>reservation_status</th>\n",
       "      <th>reservation_status_date</th>\n",
       "    </tr>\n",
       "  </thead>\n",
       "  <tbody>\n",
       "    <tr>\n",
       "      <th>0</th>\n",
       "      <td>Resort Hotel</td>\n",
       "      <td>0</td>\n",
       "      <td>342</td>\n",
       "      <td>2015-07-01</td>\n",
       "      <td>2015</td>\n",
       "      <td>July</td>\n",
       "      <td>27</td>\n",
       "      <td>1</td>\n",
       "      <td>0</td>\n",
       "      <td>0</td>\n",
       "      <td>...</td>\n",
       "      <td>2</td>\n",
       "      <td>0.0</td>\n",
       "      <td>0</td>\n",
       "      <td>BB</td>\n",
       "      <td>PRT</td>\n",
       "      <td>C</td>\n",
       "      <td>C</td>\n",
       "      <td>Transient</td>\n",
       "      <td>Check-Out</td>\n",
       "      <td>2015-07-01</td>\n",
       "    </tr>\n",
       "    <tr>\n",
       "      <th>1</th>\n",
       "      <td>Resort Hotel</td>\n",
       "      <td>0</td>\n",
       "      <td>737</td>\n",
       "      <td>2015-07-01</td>\n",
       "      <td>2015</td>\n",
       "      <td>July</td>\n",
       "      <td>27</td>\n",
       "      <td>1</td>\n",
       "      <td>0</td>\n",
       "      <td>0</td>\n",
       "      <td>...</td>\n",
       "      <td>2</td>\n",
       "      <td>0.0</td>\n",
       "      <td>0</td>\n",
       "      <td>BB</td>\n",
       "      <td>PRT</td>\n",
       "      <td>C</td>\n",
       "      <td>C</td>\n",
       "      <td>Transient</td>\n",
       "      <td>Check-Out</td>\n",
       "      <td>2015-07-01</td>\n",
       "    </tr>\n",
       "    <tr>\n",
       "      <th>2</th>\n",
       "      <td>Resort Hotel</td>\n",
       "      <td>0</td>\n",
       "      <td>7</td>\n",
       "      <td>2015-07-01</td>\n",
       "      <td>2015</td>\n",
       "      <td>July</td>\n",
       "      <td>27</td>\n",
       "      <td>1</td>\n",
       "      <td>0</td>\n",
       "      <td>1</td>\n",
       "      <td>...</td>\n",
       "      <td>1</td>\n",
       "      <td>0.0</td>\n",
       "      <td>0</td>\n",
       "      <td>BB</td>\n",
       "      <td>GBR</td>\n",
       "      <td>A</td>\n",
       "      <td>C</td>\n",
       "      <td>Transient</td>\n",
       "      <td>Check-Out</td>\n",
       "      <td>2015-07-02</td>\n",
       "    </tr>\n",
       "  </tbody>\n",
       "</table>\n",
       "<p>3 rows × 21 columns</p>\n",
       "</div>"
      ],
      "text/plain": [
       "          hotel  is_canceled  lead_time arrival_full_date  arrival_date_year  \\\n",
       "0  Resort Hotel            0        342        2015-07-01               2015   \n",
       "1  Resort Hotel            0        737        2015-07-01               2015   \n",
       "2  Resort Hotel            0          7        2015-07-01               2015   \n",
       "\n",
       "  arrival_date_month  arrival_date_week_number  arrival_date_day_of_month  \\\n",
       "0               July                        27                          1   \n",
       "1               July                        27                          1   \n",
       "2               July                        27                          1   \n",
       "\n",
       "   stays_in_weekend_nights  stays_in_week_nights  ...  adults  children  \\\n",
       "0                        0                     0  ...       2       0.0   \n",
       "1                        0                     0  ...       2       0.0   \n",
       "2                        0                     1  ...       1       0.0   \n",
       "\n",
       "   babies  meal country reserved_room_type assigned_room_type customer_type  \\\n",
       "0       0    BB     PRT                  C                  C     Transient   \n",
       "1       0    BB     PRT                  C                  C     Transient   \n",
       "2       0    BB     GBR                  A                  C     Transient   \n",
       "\n",
       "  reservation_status reservation_status_date  \n",
       "0          Check-Out              2015-07-01  \n",
       "1          Check-Out              2015-07-01  \n",
       "2          Check-Out              2015-07-02  \n",
       "\n",
       "[3 rows x 21 columns]"
      ]
     },
     "execution_count": 107,
     "metadata": {},
     "output_type": "execute_result"
    }
   ],
   "source": [
    "bookings.head(3)"
   ]
  },
  {
   "cell_type": "code",
   "execution_count": 108,
   "id": "2f8aa437",
   "metadata": {},
   "outputs": [
    {
     "data": {
      "text/html": [
       "<div>\n",
       "<style scoped>\n",
       "    .dataframe tbody tr th:only-of-type {\n",
       "        vertical-align: middle;\n",
       "    }\n",
       "\n",
       "    .dataframe tbody tr th {\n",
       "        vertical-align: top;\n",
       "    }\n",
       "\n",
       "    .dataframe thead th {\n",
       "        text-align: right;\n",
       "    }\n",
       "</style>\n",
       "<table border=\"1\" class=\"dataframe\">\n",
       "  <thead>\n",
       "    <tr style=\"text-align: right;\">\n",
       "      <th></th>\n",
       "      <th>hotel</th>\n",
       "    </tr>\n",
       "    <tr>\n",
       "      <th>arrival_date_month</th>\n",
       "      <th></th>\n",
       "    </tr>\n",
       "  </thead>\n",
       "  <tbody>\n",
       "    <tr>\n",
       "      <th>October</th>\n",
       "      <td>6203</td>\n",
       "    </tr>\n",
       "    <tr>\n",
       "      <th>May</th>\n",
       "      <td>5478</td>\n",
       "    </tr>\n",
       "    <tr>\n",
       "      <th>April</th>\n",
       "      <td>5428</td>\n",
       "    </tr>\n",
       "    <tr>\n",
       "      <th>September</th>\n",
       "      <td>5394</td>\n",
       "    </tr>\n",
       "    <tr>\n",
       "      <th>June</th>\n",
       "      <td>5292</td>\n",
       "    </tr>\n",
       "    <tr>\n",
       "      <th>August</th>\n",
       "      <td>5063</td>\n",
       "    </tr>\n",
       "    <tr>\n",
       "      <th>March</th>\n",
       "      <td>4824</td>\n",
       "    </tr>\n",
       "    <tr>\n",
       "      <th>July</th>\n",
       "      <td>4572</td>\n",
       "    </tr>\n",
       "    <tr>\n",
       "      <th>November</th>\n",
       "      <td>4454</td>\n",
       "    </tr>\n",
       "    <tr>\n",
       "      <th>February</th>\n",
       "      <td>3891</td>\n",
       "    </tr>\n",
       "    <tr>\n",
       "      <th>December</th>\n",
       "      <td>3860</td>\n",
       "    </tr>\n",
       "    <tr>\n",
       "      <th>January</th>\n",
       "      <td>2248</td>\n",
       "    </tr>\n",
       "  </tbody>\n",
       "</table>\n",
       "</div>"
      ],
      "text/plain": [
       "                    hotel\n",
       "arrival_date_month       \n",
       "October              6203\n",
       "May                  5478\n",
       "April                5428\n",
       "September            5394\n",
       "June                 5292\n",
       "August               5063\n",
       "March                4824\n",
       "July                 4572\n",
       "November             4454\n",
       "February             3891\n",
       "December             3860\n",
       "January              2248"
      ]
     },
     "execution_count": 108,
     "metadata": {},
     "output_type": "execute_result"
    }
   ],
   "source": [
    "bookings.query('arrival_date_year == 2016') \\\n",
    "    .groupby('arrival_date_month') \\\n",
    "    .agg({'hotel': 'count'}) \\\n",
    "    .sort_values('hotel', ascending=False)"
   ]
  },
  {
   "cell_type": "code",
   "execution_count": 109,
   "id": "91921d17",
   "metadata": {
    "scrolled": true
   },
   "outputs": [
    {
     "data": {
      "text/html": [
       "<div>\n",
       "<style scoped>\n",
       "    .dataframe tbody tr th:only-of-type {\n",
       "        vertical-align: middle;\n",
       "    }\n",
       "\n",
       "    .dataframe tbody tr th {\n",
       "        vertical-align: top;\n",
       "    }\n",
       "\n",
       "    .dataframe thead th {\n",
       "        text-align: right;\n",
       "    }\n",
       "</style>\n",
       "<table border=\"1\" class=\"dataframe\">\n",
       "  <thead>\n",
       "    <tr style=\"text-align: right;\">\n",
       "      <th></th>\n",
       "      <th>hotel</th>\n",
       "    </tr>\n",
       "    <tr>\n",
       "      <th>arrival_date_month</th>\n",
       "      <th></th>\n",
       "    </tr>\n",
       "  </thead>\n",
       "  <tbody>\n",
       "    <tr>\n",
       "      <th>May</th>\n",
       "      <td>6313</td>\n",
       "    </tr>\n",
       "    <tr>\n",
       "      <th>April</th>\n",
       "      <td>5661</td>\n",
       "    </tr>\n",
       "    <tr>\n",
       "      <th>June</th>\n",
       "      <td>5647</td>\n",
       "    </tr>\n",
       "    <tr>\n",
       "      <th>July</th>\n",
       "      <td>5313</td>\n",
       "    </tr>\n",
       "    <tr>\n",
       "      <th>March</th>\n",
       "      <td>4970</td>\n",
       "    </tr>\n",
       "    <tr>\n",
       "      <th>August</th>\n",
       "      <td>4925</td>\n",
       "    </tr>\n",
       "    <tr>\n",
       "      <th>February</th>\n",
       "      <td>4177</td>\n",
       "    </tr>\n",
       "    <tr>\n",
       "      <th>January</th>\n",
       "      <td>3681</td>\n",
       "    </tr>\n",
       "  </tbody>\n",
       "</table>\n",
       "</div>"
      ],
      "text/plain": [
       "                    hotel\n",
       "arrival_date_month       \n",
       "May                  6313\n",
       "April                5661\n",
       "June                 5647\n",
       "July                 5313\n",
       "March                4970\n",
       "August               4925\n",
       "February             4177\n",
       "January              3681"
      ]
     },
     "execution_count": 109,
     "metadata": {},
     "output_type": "execute_result"
    }
   ],
   "source": [
    "bookings.query('arrival_date_year == 2017') \\\n",
    "    .groupby('arrival_date_month') \\\n",
    "    .agg({'hotel': 'count'}) \\\n",
    "    .sort_values('hotel', ascending=False)"
   ]
  },
  {
   "attachments": {
    "%D0%B8%D0%B7%D0%BE%D0%B1%D1%80%D0%B0%D0%B6%D0%B5%D0%BD%D0%B8%D0%B5.png": {
     "image/png": "[encoded data removed]"
    }
   },
   "cell_type": "markdown",
   "id": "fbe7826d",
   "metadata": {},
   "source": [
    "![%D0%B8%D0%B7%D0%BE%D0%B1%D1%80%D0%B0%D0%B6%D0%B5%D0%BD%D0%B8%D0%B5.png](attachment:%D0%B8%D0%B7%D0%BE%D0%B1%D1%80%D0%B0%D0%B6%D0%B5%D0%BD%D0%B8%D0%B5.png)"
   ]
  },
  {
   "cell_type": "markdown",
   "id": "554e0a1a",
   "metadata": {},
   "source": [
    "Сгруппируйте данные по годам, а затем проверьте, на какой месяц (arrival_date_month) бронирования отеля типа City Hotel отменялись чаще всего в 2015? 2016? 2017? \n",
    "\n",
    "Hint: для этого сначала примените метод groupby, после чего выберите нужную колонку для дальнейших действий :) Например:\n",
    "\n",
    "```\n",
    "df.groupby('column_1')['column_2'].what_to_do()\n",
    "```"
   ]
  },
  {
   "cell_type": "code",
   "execution_count": 110,
   "id": "44ea132f",
   "metadata": {},
   "outputs": [
    {
     "data": {
      "text/plain": [
       "arrival_date_year  arrival_date_month\n",
       "2015               September             1543\n",
       "                   October               1321\n",
       "                   August                1232\n",
       "                   July                   939\n",
       "                   December               668\n",
       "                   November               301\n",
       "2016               October               1947\n",
       "                   June                  1720\n",
       "                   September             1567\n",
       "                   April                 1539\n",
       "                   May                   1436\n",
       "                   November              1360\n",
       "                   August                1247\n",
       "                   March                 1108\n",
       "                   December              1072\n",
       "                   July                  1043\n",
       "                   February               930\n",
       "                   January                438\n",
       "2017               May                   2217\n",
       "                   April                 1926\n",
       "                   June                  1808\n",
       "                   July                  1324\n",
       "                   March                 1278\n",
       "                   August                1123\n",
       "                   January               1044\n",
       "                   February               971\n",
       "Name: arrival_date_month, dtype: int64"
      ]
     },
     "execution_count": 110,
     "metadata": {},
     "output_type": "execute_result"
    }
   ],
   "source": [
    "bookings.query('hotel == \"City Hotel\" and is_canceled == 1') \\\n",
    "    .groupby('arrival_date_year')['arrival_date_month'].value_counts()"
   ]
  },
  {
   "attachments": {
    "%D0%B8%D0%B7%D0%BE%D0%B1%D1%80%D0%B0%D0%B6%D0%B5%D0%BD%D0%B8%D0%B5.png": {
     "image/png": "[encoded data removed]"
    }
   },
   "cell_type": "markdown",
   "id": "cb203ed1",
   "metadata": {},
   "source": [
    "![%D0%B8%D0%B7%D0%BE%D0%B1%D1%80%D0%B0%D0%B6%D0%B5%D0%BD%D0%B8%D0%B5.png](attachment:%D0%B8%D0%B7%D0%BE%D0%B1%D1%80%D0%B0%D0%B6%D0%B5%D0%BD%D0%B8%D0%B5.png)"
   ]
  },
  {
   "cell_type": "markdown",
   "id": "b155b98d",
   "metadata": {},
   "source": [
    "Посмотрите на числовые характеристики трёх колонок: *adults, children и babies*. Какая из них имеет наибольшее среднее значение?"
   ]
  },
  {
   "cell_type": "code",
   "execution_count": 111,
   "id": "ecc5cb7d",
   "metadata": {},
   "outputs": [
    {
     "data": {
      "text/plain": [
       "1.8564033838679956"
      ]
     },
     "execution_count": 111,
     "metadata": {},
     "output_type": "execute_result"
    }
   ],
   "source": [
    "bookings.adults.mean()"
   ]
  },
  {
   "cell_type": "code",
   "execution_count": 112,
   "id": "299a3d82",
   "metadata": {},
   "outputs": [
    {
     "data": {
      "text/plain": [
       "0.10388990333874994"
      ]
     },
     "execution_count": 112,
     "metadata": {},
     "output_type": "execute_result"
    }
   ],
   "source": [
    "bookings.children.mean()"
   ]
  },
  {
   "cell_type": "code",
   "execution_count": 113,
   "id": "2376efb2",
   "metadata": {},
   "outputs": [
    {
     "data": {
      "text/plain": [
       "0.007948739425412514"
      ]
     },
     "execution_count": 113,
     "metadata": {},
     "output_type": "execute_result"
    }
   ],
   "source": [
    "bookings.babies.mean()"
   ]
  },
  {
   "cell_type": "markdown",
   "id": "3b5e1d44",
   "metadata": {},
   "source": [
    "Создайте колонку total_kids, объединив столбцы children и babies. Для отелей какого типа среднее значение переменной оказалось наибольшим?\n",
    "\n",
    "    City hotel – отель находится в городе\n",
    "    Resort hotel – отель курортный\n",
    "\n",
    "В качестве ответа укажите наибольшее среднее total_kids, округлив до 2 знаков после точки."
   ]
  },
  {
   "cell_type": "code",
   "execution_count": 114,
   "id": "710aeca8",
   "metadata": {},
   "outputs": [],
   "source": [
    "bookings['total_kids'] = bookings['children'] + bookings['babies']"
   ]
  },
  {
   "cell_type": "code",
   "execution_count": 119,
   "id": "285965b3",
   "metadata": {},
   "outputs": [
    {
     "data": {
      "text/html": [
       "<div>\n",
       "<style scoped>\n",
       "    .dataframe tbody tr th:only-of-type {\n",
       "        vertical-align: middle;\n",
       "    }\n",
       "\n",
       "    .dataframe tbody tr th {\n",
       "        vertical-align: top;\n",
       "    }\n",
       "\n",
       "    .dataframe thead th {\n",
       "        text-align: right;\n",
       "    }\n",
       "</style>\n",
       "<table border=\"1\" class=\"dataframe\">\n",
       "  <thead>\n",
       "    <tr style=\"text-align: right;\">\n",
       "      <th></th>\n",
       "      <th>hotel</th>\n",
       "      <th>is_canceled</th>\n",
       "      <th>lead_time</th>\n",
       "      <th>arrival_full_date</th>\n",
       "      <th>arrival_date_year</th>\n",
       "      <th>arrival_date_month</th>\n",
       "      <th>arrival_date_week_number</th>\n",
       "      <th>arrival_date_day_of_month</th>\n",
       "      <th>stays_in_weekend_nights</th>\n",
       "      <th>stays_in_week_nights</th>\n",
       "      <th>...</th>\n",
       "      <th>children</th>\n",
       "      <th>babies</th>\n",
       "      <th>meal</th>\n",
       "      <th>country</th>\n",
       "      <th>reserved_room_type</th>\n",
       "      <th>assigned_room_type</th>\n",
       "      <th>customer_type</th>\n",
       "      <th>reservation_status</th>\n",
       "      <th>reservation_status_date</th>\n",
       "      <th>total_kids</th>\n",
       "    </tr>\n",
       "  </thead>\n",
       "  <tbody>\n",
       "    <tr>\n",
       "      <th>0</th>\n",
       "      <td>Resort Hotel</td>\n",
       "      <td>0</td>\n",
       "      <td>342</td>\n",
       "      <td>2015-07-01</td>\n",
       "      <td>2015</td>\n",
       "      <td>July</td>\n",
       "      <td>27</td>\n",
       "      <td>1</td>\n",
       "      <td>0</td>\n",
       "      <td>0</td>\n",
       "      <td>...</td>\n",
       "      <td>0.0</td>\n",
       "      <td>0</td>\n",
       "      <td>BB</td>\n",
       "      <td>PRT</td>\n",
       "      <td>C</td>\n",
       "      <td>C</td>\n",
       "      <td>Transient</td>\n",
       "      <td>Check-Out</td>\n",
       "      <td>2015-07-01</td>\n",
       "      <td>0.0</td>\n",
       "    </tr>\n",
       "    <tr>\n",
       "      <th>1</th>\n",
       "      <td>Resort Hotel</td>\n",
       "      <td>0</td>\n",
       "      <td>737</td>\n",
       "      <td>2015-07-01</td>\n",
       "      <td>2015</td>\n",
       "      <td>July</td>\n",
       "      <td>27</td>\n",
       "      <td>1</td>\n",
       "      <td>0</td>\n",
       "      <td>0</td>\n",
       "      <td>...</td>\n",
       "      <td>0.0</td>\n",
       "      <td>0</td>\n",
       "      <td>BB</td>\n",
       "      <td>PRT</td>\n",
       "      <td>C</td>\n",
       "      <td>C</td>\n",
       "      <td>Transient</td>\n",
       "      <td>Check-Out</td>\n",
       "      <td>2015-07-01</td>\n",
       "      <td>0.0</td>\n",
       "    </tr>\n",
       "    <tr>\n",
       "      <th>2</th>\n",
       "      <td>Resort Hotel</td>\n",
       "      <td>0</td>\n",
       "      <td>7</td>\n",
       "      <td>2015-07-01</td>\n",
       "      <td>2015</td>\n",
       "      <td>July</td>\n",
       "      <td>27</td>\n",
       "      <td>1</td>\n",
       "      <td>0</td>\n",
       "      <td>1</td>\n",
       "      <td>...</td>\n",
       "      <td>0.0</td>\n",
       "      <td>0</td>\n",
       "      <td>BB</td>\n",
       "      <td>GBR</td>\n",
       "      <td>A</td>\n",
       "      <td>C</td>\n",
       "      <td>Transient</td>\n",
       "      <td>Check-Out</td>\n",
       "      <td>2015-07-02</td>\n",
       "      <td>0.0</td>\n",
       "    </tr>\n",
       "    <tr>\n",
       "      <th>3</th>\n",
       "      <td>Resort Hotel</td>\n",
       "      <td>0</td>\n",
       "      <td>13</td>\n",
       "      <td>2015-07-01</td>\n",
       "      <td>2015</td>\n",
       "      <td>July</td>\n",
       "      <td>27</td>\n",
       "      <td>1</td>\n",
       "      <td>0</td>\n",
       "      <td>1</td>\n",
       "      <td>...</td>\n",
       "      <td>0.0</td>\n",
       "      <td>0</td>\n",
       "      <td>BB</td>\n",
       "      <td>GBR</td>\n",
       "      <td>A</td>\n",
       "      <td>A</td>\n",
       "      <td>Transient</td>\n",
       "      <td>Check-Out</td>\n",
       "      <td>2015-07-02</td>\n",
       "      <td>0.0</td>\n",
       "    </tr>\n",
       "    <tr>\n",
       "      <th>4</th>\n",
       "      <td>Resort Hotel</td>\n",
       "      <td>0</td>\n",
       "      <td>14</td>\n",
       "      <td>2015-07-01</td>\n",
       "      <td>2015</td>\n",
       "      <td>July</td>\n",
       "      <td>27</td>\n",
       "      <td>1</td>\n",
       "      <td>0</td>\n",
       "      <td>2</td>\n",
       "      <td>...</td>\n",
       "      <td>0.0</td>\n",
       "      <td>0</td>\n",
       "      <td>BB</td>\n",
       "      <td>GBR</td>\n",
       "      <td>A</td>\n",
       "      <td>A</td>\n",
       "      <td>Transient</td>\n",
       "      <td>Check-Out</td>\n",
       "      <td>2015-07-03</td>\n",
       "      <td>0.0</td>\n",
       "    </tr>\n",
       "    <tr>\n",
       "      <th>...</th>\n",
       "      <td>...</td>\n",
       "      <td>...</td>\n",
       "      <td>...</td>\n",
       "      <td>...</td>\n",
       "      <td>...</td>\n",
       "      <td>...</td>\n",
       "      <td>...</td>\n",
       "      <td>...</td>\n",
       "      <td>...</td>\n",
       "      <td>...</td>\n",
       "      <td>...</td>\n",
       "      <td>...</td>\n",
       "      <td>...</td>\n",
       "      <td>...</td>\n",
       "      <td>...</td>\n",
       "      <td>...</td>\n",
       "      <td>...</td>\n",
       "      <td>...</td>\n",
       "      <td>...</td>\n",
       "      <td>...</td>\n",
       "      <td>...</td>\n",
       "    </tr>\n",
       "    <tr>\n",
       "      <th>119385</th>\n",
       "      <td>City Hotel</td>\n",
       "      <td>0</td>\n",
       "      <td>23</td>\n",
       "      <td>2017-08-30</td>\n",
       "      <td>2017</td>\n",
       "      <td>August</td>\n",
       "      <td>35</td>\n",
       "      <td>30</td>\n",
       "      <td>2</td>\n",
       "      <td>5</td>\n",
       "      <td>...</td>\n",
       "      <td>0.0</td>\n",
       "      <td>0</td>\n",
       "      <td>BB</td>\n",
       "      <td>BEL</td>\n",
       "      <td>A</td>\n",
       "      <td>A</td>\n",
       "      <td>Transient</td>\n",
       "      <td>Check-Out</td>\n",
       "      <td>2017-09-06</td>\n",
       "      <td>0.0</td>\n",
       "    </tr>\n",
       "    <tr>\n",
       "      <th>119386</th>\n",
       "      <td>City Hotel</td>\n",
       "      <td>0</td>\n",
       "      <td>102</td>\n",
       "      <td>2017-08-31</td>\n",
       "      <td>2017</td>\n",
       "      <td>August</td>\n",
       "      <td>35</td>\n",
       "      <td>31</td>\n",
       "      <td>2</td>\n",
       "      <td>5</td>\n",
       "      <td>...</td>\n",
       "      <td>0.0</td>\n",
       "      <td>0</td>\n",
       "      <td>BB</td>\n",
       "      <td>FRA</td>\n",
       "      <td>E</td>\n",
       "      <td>E</td>\n",
       "      <td>Transient</td>\n",
       "      <td>Check-Out</td>\n",
       "      <td>2017-09-07</td>\n",
       "      <td>0.0</td>\n",
       "    </tr>\n",
       "    <tr>\n",
       "      <th>119387</th>\n",
       "      <td>City Hotel</td>\n",
       "      <td>0</td>\n",
       "      <td>34</td>\n",
       "      <td>2017-08-31</td>\n",
       "      <td>2017</td>\n",
       "      <td>August</td>\n",
       "      <td>35</td>\n",
       "      <td>31</td>\n",
       "      <td>2</td>\n",
       "      <td>5</td>\n",
       "      <td>...</td>\n",
       "      <td>0.0</td>\n",
       "      <td>0</td>\n",
       "      <td>BB</td>\n",
       "      <td>DEU</td>\n",
       "      <td>D</td>\n",
       "      <td>D</td>\n",
       "      <td>Transient</td>\n",
       "      <td>Check-Out</td>\n",
       "      <td>2017-09-07</td>\n",
       "      <td>0.0</td>\n",
       "    </tr>\n",
       "    <tr>\n",
       "      <th>119388</th>\n",
       "      <td>City Hotel</td>\n",
       "      <td>0</td>\n",
       "      <td>109</td>\n",
       "      <td>2017-08-31</td>\n",
       "      <td>2017</td>\n",
       "      <td>August</td>\n",
       "      <td>35</td>\n",
       "      <td>31</td>\n",
       "      <td>2</td>\n",
       "      <td>5</td>\n",
       "      <td>...</td>\n",
       "      <td>0.0</td>\n",
       "      <td>0</td>\n",
       "      <td>BB</td>\n",
       "      <td>GBR</td>\n",
       "      <td>A</td>\n",
       "      <td>A</td>\n",
       "      <td>Transient</td>\n",
       "      <td>Check-Out</td>\n",
       "      <td>2017-09-07</td>\n",
       "      <td>0.0</td>\n",
       "    </tr>\n",
       "    <tr>\n",
       "      <th>119389</th>\n",
       "      <td>City Hotel</td>\n",
       "      <td>0</td>\n",
       "      <td>205</td>\n",
       "      <td>2017-08-29</td>\n",
       "      <td>2017</td>\n",
       "      <td>August</td>\n",
       "      <td>35</td>\n",
       "      <td>29</td>\n",
       "      <td>2</td>\n",
       "      <td>7</td>\n",
       "      <td>...</td>\n",
       "      <td>0.0</td>\n",
       "      <td>0</td>\n",
       "      <td>HB</td>\n",
       "      <td>DEU</td>\n",
       "      <td>A</td>\n",
       "      <td>A</td>\n",
       "      <td>Transient</td>\n",
       "      <td>Check-Out</td>\n",
       "      <td>2017-09-07</td>\n",
       "      <td>0.0</td>\n",
       "    </tr>\n",
       "  </tbody>\n",
       "</table>\n",
       "<p>119390 rows × 22 columns</p>\n",
       "</div>"
      ],
      "text/plain": [
       "               hotel  is_canceled  lead_time arrival_full_date  \\\n",
       "0       Resort Hotel            0        342        2015-07-01   \n",
       "1       Resort Hotel            0        737        2015-07-01   \n",
       "2       Resort Hotel            0          7        2015-07-01   \n",
       "3       Resort Hotel            0         13        2015-07-01   \n",
       "4       Resort Hotel            0         14        2015-07-01   \n",
       "...              ...          ...        ...               ...   \n",
       "119385    City Hotel            0         23        2017-08-30   \n",
       "119386    City Hotel            0        102        2017-08-31   \n",
       "119387    City Hotel            0         34        2017-08-31   \n",
       "119388    City Hotel            0        109        2017-08-31   \n",
       "119389    City Hotel            0        205        2017-08-29   \n",
       "\n",
       "        arrival_date_year arrival_date_month  arrival_date_week_number  \\\n",
       "0                    2015               July                        27   \n",
       "1                    2015               July                        27   \n",
       "2                    2015               July                        27   \n",
       "3                    2015               July                        27   \n",
       "4                    2015               July                        27   \n",
       "...                   ...                ...                       ...   \n",
       "119385               2017             August                        35   \n",
       "119386               2017             August                        35   \n",
       "119387               2017             August                        35   \n",
       "119388               2017             August                        35   \n",
       "119389               2017             August                        35   \n",
       "\n",
       "        arrival_date_day_of_month  stays_in_weekend_nights  \\\n",
       "0                               1                        0   \n",
       "1                               1                        0   \n",
       "2                               1                        0   \n",
       "3                               1                        0   \n",
       "4                               1                        0   \n",
       "...                           ...                      ...   \n",
       "119385                         30                        2   \n",
       "119386                         31                        2   \n",
       "119387                         31                        2   \n",
       "119388                         31                        2   \n",
       "119389                         29                        2   \n",
       "\n",
       "        stays_in_week_nights  ...  children  babies  meal  country  \\\n",
       "0                          0  ...       0.0       0    BB      PRT   \n",
       "1                          0  ...       0.0       0    BB      PRT   \n",
       "2                          1  ...       0.0       0    BB      GBR   \n",
       "3                          1  ...       0.0       0    BB      GBR   \n",
       "4                          2  ...       0.0       0    BB      GBR   \n",
       "...                      ...  ...       ...     ...   ...      ...   \n",
       "119385                     5  ...       0.0       0    BB      BEL   \n",
       "119386                     5  ...       0.0       0    BB      FRA   \n",
       "119387                     5  ...       0.0       0    BB      DEU   \n",
       "119388                     5  ...       0.0       0    BB      GBR   \n",
       "119389                     7  ...       0.0       0    HB      DEU   \n",
       "\n",
       "       reserved_room_type assigned_room_type customer_type reservation_status  \\\n",
       "0                       C                  C     Transient          Check-Out   \n",
       "1                       C                  C     Transient          Check-Out   \n",
       "2                       A                  C     Transient          Check-Out   \n",
       "3                       A                  A     Transient          Check-Out   \n",
       "4                       A                  A     Transient          Check-Out   \n",
       "...                   ...                ...           ...                ...   \n",
       "119385                  A                  A     Transient          Check-Out   \n",
       "119386                  E                  E     Transient          Check-Out   \n",
       "119387                  D                  D     Transient          Check-Out   \n",
       "119388                  A                  A     Transient          Check-Out   \n",
       "119389                  A                  A     Transient          Check-Out   \n",
       "\n",
       "       reservation_status_date total_kids  \n",
       "0                   2015-07-01        0.0  \n",
       "1                   2015-07-01        0.0  \n",
       "2                   2015-07-02        0.0  \n",
       "3                   2015-07-02        0.0  \n",
       "4                   2015-07-03        0.0  \n",
       "...                        ...        ...  \n",
       "119385              2017-09-06        0.0  \n",
       "119386              2017-09-07        0.0  \n",
       "119387              2017-09-07        0.0  \n",
       "119388              2017-09-07        0.0  \n",
       "119389              2017-09-07        0.0  \n",
       "\n",
       "[119390 rows x 22 columns]"
      ]
     },
     "execution_count": 119,
     "metadata": {},
     "output_type": "execute_result"
    }
   ],
   "source": [
    "bookings"
   ]
  },
  {
   "cell_type": "code",
   "execution_count": 122,
   "id": "636aa081",
   "metadata": {},
   "outputs": [
    {
     "data": {
      "text/html": [
       "<div>\n",
       "<style scoped>\n",
       "    .dataframe tbody tr th:only-of-type {\n",
       "        vertical-align: middle;\n",
       "    }\n",
       "\n",
       "    .dataframe tbody tr th {\n",
       "        vertical-align: top;\n",
       "    }\n",
       "\n",
       "    .dataframe thead th {\n",
       "        text-align: right;\n",
       "    }\n",
       "</style>\n",
       "<table border=\"1\" class=\"dataframe\">\n",
       "  <thead>\n",
       "    <tr style=\"text-align: right;\">\n",
       "      <th></th>\n",
       "      <th>total_kids</th>\n",
       "    </tr>\n",
       "    <tr>\n",
       "      <th>hotel</th>\n",
       "      <th></th>\n",
       "    </tr>\n",
       "  </thead>\n",
       "  <tbody>\n",
       "    <tr>\n",
       "      <th>City Hotel</th>\n",
       "      <td>0.10</td>\n",
       "    </tr>\n",
       "    <tr>\n",
       "      <th>Resort Hotel</th>\n",
       "      <td>0.14</td>\n",
       "    </tr>\n",
       "  </tbody>\n",
       "</table>\n",
       "</div>"
      ],
      "text/plain": [
       "              total_kids\n",
       "hotel                   \n",
       "City Hotel          0.10\n",
       "Resort Hotel        0.14"
      ]
     },
     "execution_count": 122,
     "metadata": {},
     "output_type": "execute_result"
    }
   ],
   "source": [
    "bookings.groupby('hotel') \\\n",
    "    .agg({'total_kids': 'mean'}) \\\n",
    "    .round(decimals=2)"
   ]
  },
  {
   "cell_type": "markdown",
   "id": "67425b69",
   "metadata": {},
   "source": [
    "Создайте переменную *has_kids*, которая принимает значение ***True***, если клиент при бронировании указал хотя бы одного ребенка *(total_kids)*, в противном случае – ***False***"
   ]
  },
  {
   "cell_type": "code",
   "execution_count": 123,
   "id": "154ecb7a",
   "metadata": {},
   "outputs": [
    {
     "data": {
      "text/html": [
       "<div>\n",
       "<style scoped>\n",
       "    .dataframe tbody tr th:only-of-type {\n",
       "        vertical-align: middle;\n",
       "    }\n",
       "\n",
       "    .dataframe tbody tr th {\n",
       "        vertical-align: top;\n",
       "    }\n",
       "\n",
       "    .dataframe thead th {\n",
       "        text-align: right;\n",
       "    }\n",
       "</style>\n",
       "<table border=\"1\" class=\"dataframe\">\n",
       "  <thead>\n",
       "    <tr style=\"text-align: right;\">\n",
       "      <th></th>\n",
       "      <th>hotel</th>\n",
       "      <th>is_canceled</th>\n",
       "      <th>lead_time</th>\n",
       "      <th>arrival_full_date</th>\n",
       "      <th>arrival_date_year</th>\n",
       "      <th>arrival_date_month</th>\n",
       "      <th>arrival_date_week_number</th>\n",
       "      <th>arrival_date_day_of_month</th>\n",
       "      <th>stays_in_weekend_nights</th>\n",
       "      <th>stays_in_week_nights</th>\n",
       "      <th>...</th>\n",
       "      <th>babies</th>\n",
       "      <th>meal</th>\n",
       "      <th>country</th>\n",
       "      <th>reserved_room_type</th>\n",
       "      <th>assigned_room_type</th>\n",
       "      <th>customer_type</th>\n",
       "      <th>reservation_status</th>\n",
       "      <th>reservation_status_date</th>\n",
       "      <th>total_kids</th>\n",
       "      <th>has_kids</th>\n",
       "    </tr>\n",
       "  </thead>\n",
       "  <tbody>\n",
       "    <tr>\n",
       "      <th>0</th>\n",
       "      <td>Resort Hotel</td>\n",
       "      <td>0</td>\n",
       "      <td>342</td>\n",
       "      <td>2015-07-01</td>\n",
       "      <td>2015</td>\n",
       "      <td>July</td>\n",
       "      <td>27</td>\n",
       "      <td>1</td>\n",
       "      <td>0</td>\n",
       "      <td>0</td>\n",
       "      <td>...</td>\n",
       "      <td>0</td>\n",
       "      <td>BB</td>\n",
       "      <td>PRT</td>\n",
       "      <td>C</td>\n",
       "      <td>C</td>\n",
       "      <td>Transient</td>\n",
       "      <td>Check-Out</td>\n",
       "      <td>2015-07-01</td>\n",
       "      <td>0.0</td>\n",
       "      <td>False</td>\n",
       "    </tr>\n",
       "    <tr>\n",
       "      <th>1</th>\n",
       "      <td>Resort Hotel</td>\n",
       "      <td>0</td>\n",
       "      <td>737</td>\n",
       "      <td>2015-07-01</td>\n",
       "      <td>2015</td>\n",
       "      <td>July</td>\n",
       "      <td>27</td>\n",
       "      <td>1</td>\n",
       "      <td>0</td>\n",
       "      <td>0</td>\n",
       "      <td>...</td>\n",
       "      <td>0</td>\n",
       "      <td>BB</td>\n",
       "      <td>PRT</td>\n",
       "      <td>C</td>\n",
       "      <td>C</td>\n",
       "      <td>Transient</td>\n",
       "      <td>Check-Out</td>\n",
       "      <td>2015-07-01</td>\n",
       "      <td>0.0</td>\n",
       "      <td>False</td>\n",
       "    </tr>\n",
       "    <tr>\n",
       "      <th>2</th>\n",
       "      <td>Resort Hotel</td>\n",
       "      <td>0</td>\n",
       "      <td>7</td>\n",
       "      <td>2015-07-01</td>\n",
       "      <td>2015</td>\n",
       "      <td>July</td>\n",
       "      <td>27</td>\n",
       "      <td>1</td>\n",
       "      <td>0</td>\n",
       "      <td>1</td>\n",
       "      <td>...</td>\n",
       "      <td>0</td>\n",
       "      <td>BB</td>\n",
       "      <td>GBR</td>\n",
       "      <td>A</td>\n",
       "      <td>C</td>\n",
       "      <td>Transient</td>\n",
       "      <td>Check-Out</td>\n",
       "      <td>2015-07-02</td>\n",
       "      <td>0.0</td>\n",
       "      <td>False</td>\n",
       "    </tr>\n",
       "    <tr>\n",
       "      <th>3</th>\n",
       "      <td>Resort Hotel</td>\n",
       "      <td>0</td>\n",
       "      <td>13</td>\n",
       "      <td>2015-07-01</td>\n",
       "      <td>2015</td>\n",
       "      <td>July</td>\n",
       "      <td>27</td>\n",
       "      <td>1</td>\n",
       "      <td>0</td>\n",
       "      <td>1</td>\n",
       "      <td>...</td>\n",
       "      <td>0</td>\n",
       "      <td>BB</td>\n",
       "      <td>GBR</td>\n",
       "      <td>A</td>\n",
       "      <td>A</td>\n",
       "      <td>Transient</td>\n",
       "      <td>Check-Out</td>\n",
       "      <td>2015-07-02</td>\n",
       "      <td>0.0</td>\n",
       "      <td>False</td>\n",
       "    </tr>\n",
       "    <tr>\n",
       "      <th>4</th>\n",
       "      <td>Resort Hotel</td>\n",
       "      <td>0</td>\n",
       "      <td>14</td>\n",
       "      <td>2015-07-01</td>\n",
       "      <td>2015</td>\n",
       "      <td>July</td>\n",
       "      <td>27</td>\n",
       "      <td>1</td>\n",
       "      <td>0</td>\n",
       "      <td>2</td>\n",
       "      <td>...</td>\n",
       "      <td>0</td>\n",
       "      <td>BB</td>\n",
       "      <td>GBR</td>\n",
       "      <td>A</td>\n",
       "      <td>A</td>\n",
       "      <td>Transient</td>\n",
       "      <td>Check-Out</td>\n",
       "      <td>2015-07-03</td>\n",
       "      <td>0.0</td>\n",
       "      <td>False</td>\n",
       "    </tr>\n",
       "    <tr>\n",
       "      <th>...</th>\n",
       "      <td>...</td>\n",
       "      <td>...</td>\n",
       "      <td>...</td>\n",
       "      <td>...</td>\n",
       "      <td>...</td>\n",
       "      <td>...</td>\n",
       "      <td>...</td>\n",
       "      <td>...</td>\n",
       "      <td>...</td>\n",
       "      <td>...</td>\n",
       "      <td>...</td>\n",
       "      <td>...</td>\n",
       "      <td>...</td>\n",
       "      <td>...</td>\n",
       "      <td>...</td>\n",
       "      <td>...</td>\n",
       "      <td>...</td>\n",
       "      <td>...</td>\n",
       "      <td>...</td>\n",
       "      <td>...</td>\n",
       "      <td>...</td>\n",
       "    </tr>\n",
       "    <tr>\n",
       "      <th>119385</th>\n",
       "      <td>City Hotel</td>\n",
       "      <td>0</td>\n",
       "      <td>23</td>\n",
       "      <td>2017-08-30</td>\n",
       "      <td>2017</td>\n",
       "      <td>August</td>\n",
       "      <td>35</td>\n",
       "      <td>30</td>\n",
       "      <td>2</td>\n",
       "      <td>5</td>\n",
       "      <td>...</td>\n",
       "      <td>0</td>\n",
       "      <td>BB</td>\n",
       "      <td>BEL</td>\n",
       "      <td>A</td>\n",
       "      <td>A</td>\n",
       "      <td>Transient</td>\n",
       "      <td>Check-Out</td>\n",
       "      <td>2017-09-06</td>\n",
       "      <td>0.0</td>\n",
       "      <td>False</td>\n",
       "    </tr>\n",
       "    <tr>\n",
       "      <th>119386</th>\n",
       "      <td>City Hotel</td>\n",
       "      <td>0</td>\n",
       "      <td>102</td>\n",
       "      <td>2017-08-31</td>\n",
       "      <td>2017</td>\n",
       "      <td>August</td>\n",
       "      <td>35</td>\n",
       "      <td>31</td>\n",
       "      <td>2</td>\n",
       "      <td>5</td>\n",
       "      <td>...</td>\n",
       "      <td>0</td>\n",
       "      <td>BB</td>\n",
       "      <td>FRA</td>\n",
       "      <td>E</td>\n",
       "      <td>E</td>\n",
       "      <td>Transient</td>\n",
       "      <td>Check-Out</td>\n",
       "      <td>2017-09-07</td>\n",
       "      <td>0.0</td>\n",
       "      <td>False</td>\n",
       "    </tr>\n",
       "    <tr>\n",
       "      <th>119387</th>\n",
       "      <td>City Hotel</td>\n",
       "      <td>0</td>\n",
       "      <td>34</td>\n",
       "      <td>2017-08-31</td>\n",
       "      <td>2017</td>\n",
       "      <td>August</td>\n",
       "      <td>35</td>\n",
       "      <td>31</td>\n",
       "      <td>2</td>\n",
       "      <td>5</td>\n",
       "      <td>...</td>\n",
       "      <td>0</td>\n",
       "      <td>BB</td>\n",
       "      <td>DEU</td>\n",
       "      <td>D</td>\n",
       "      <td>D</td>\n",
       "      <td>Transient</td>\n",
       "      <td>Check-Out</td>\n",
       "      <td>2017-09-07</td>\n",
       "      <td>0.0</td>\n",
       "      <td>False</td>\n",
       "    </tr>\n",
       "    <tr>\n",
       "      <th>119388</th>\n",
       "      <td>City Hotel</td>\n",
       "      <td>0</td>\n",
       "      <td>109</td>\n",
       "      <td>2017-08-31</td>\n",
       "      <td>2017</td>\n",
       "      <td>August</td>\n",
       "      <td>35</td>\n",
       "      <td>31</td>\n",
       "      <td>2</td>\n",
       "      <td>5</td>\n",
       "      <td>...</td>\n",
       "      <td>0</td>\n",
       "      <td>BB</td>\n",
       "      <td>GBR</td>\n",
       "      <td>A</td>\n",
       "      <td>A</td>\n",
       "      <td>Transient</td>\n",
       "      <td>Check-Out</td>\n",
       "      <td>2017-09-07</td>\n",
       "      <td>0.0</td>\n",
       "      <td>False</td>\n",
       "    </tr>\n",
       "    <tr>\n",
       "      <th>119389</th>\n",
       "      <td>City Hotel</td>\n",
       "      <td>0</td>\n",
       "      <td>205</td>\n",
       "      <td>2017-08-29</td>\n",
       "      <td>2017</td>\n",
       "      <td>August</td>\n",
       "      <td>35</td>\n",
       "      <td>29</td>\n",
       "      <td>2</td>\n",
       "      <td>7</td>\n",
       "      <td>...</td>\n",
       "      <td>0</td>\n",
       "      <td>HB</td>\n",
       "      <td>DEU</td>\n",
       "      <td>A</td>\n",
       "      <td>A</td>\n",
       "      <td>Transient</td>\n",
       "      <td>Check-Out</td>\n",
       "      <td>2017-09-07</td>\n",
       "      <td>0.0</td>\n",
       "      <td>False</td>\n",
       "    </tr>\n",
       "  </tbody>\n",
       "</table>\n",
       "<p>119390 rows × 23 columns</p>\n",
       "</div>"
      ],
      "text/plain": [
       "               hotel  is_canceled  lead_time arrival_full_date  \\\n",
       "0       Resort Hotel            0        342        2015-07-01   \n",
       "1       Resort Hotel            0        737        2015-07-01   \n",
       "2       Resort Hotel            0          7        2015-07-01   \n",
       "3       Resort Hotel            0         13        2015-07-01   \n",
       "4       Resort Hotel            0         14        2015-07-01   \n",
       "...              ...          ...        ...               ...   \n",
       "119385    City Hotel            0         23        2017-08-30   \n",
       "119386    City Hotel            0        102        2017-08-31   \n",
       "119387    City Hotel            0         34        2017-08-31   \n",
       "119388    City Hotel            0        109        2017-08-31   \n",
       "119389    City Hotel            0        205        2017-08-29   \n",
       "\n",
       "        arrival_date_year arrival_date_month  arrival_date_week_number  \\\n",
       "0                    2015               July                        27   \n",
       "1                    2015               July                        27   \n",
       "2                    2015               July                        27   \n",
       "3                    2015               July                        27   \n",
       "4                    2015               July                        27   \n",
       "...                   ...                ...                       ...   \n",
       "119385               2017             August                        35   \n",
       "119386               2017             August                        35   \n",
       "119387               2017             August                        35   \n",
       "119388               2017             August                        35   \n",
       "119389               2017             August                        35   \n",
       "\n",
       "        arrival_date_day_of_month  stays_in_weekend_nights  \\\n",
       "0                               1                        0   \n",
       "1                               1                        0   \n",
       "2                               1                        0   \n",
       "3                               1                        0   \n",
       "4                               1                        0   \n",
       "...                           ...                      ...   \n",
       "119385                         30                        2   \n",
       "119386                         31                        2   \n",
       "119387                         31                        2   \n",
       "119388                         31                        2   \n",
       "119389                         29                        2   \n",
       "\n",
       "        stays_in_week_nights  ...  babies  meal  country  reserved_room_type  \\\n",
       "0                          0  ...       0    BB      PRT                   C   \n",
       "1                          0  ...       0    BB      PRT                   C   \n",
       "2                          1  ...       0    BB      GBR                   A   \n",
       "3                          1  ...       0    BB      GBR                   A   \n",
       "4                          2  ...       0    BB      GBR                   A   \n",
       "...                      ...  ...     ...   ...      ...                 ...   \n",
       "119385                     5  ...       0    BB      BEL                   A   \n",
       "119386                     5  ...       0    BB      FRA                   E   \n",
       "119387                     5  ...       0    BB      DEU                   D   \n",
       "119388                     5  ...       0    BB      GBR                   A   \n",
       "119389                     7  ...       0    HB      DEU                   A   \n",
       "\n",
       "       assigned_room_type customer_type reservation_status  \\\n",
       "0                       C     Transient          Check-Out   \n",
       "1                       C     Transient          Check-Out   \n",
       "2                       C     Transient          Check-Out   \n",
       "3                       A     Transient          Check-Out   \n",
       "4                       A     Transient          Check-Out   \n",
       "...                   ...           ...                ...   \n",
       "119385                  A     Transient          Check-Out   \n",
       "119386                  E     Transient          Check-Out   \n",
       "119387                  D     Transient          Check-Out   \n",
       "119388                  A     Transient          Check-Out   \n",
       "119389                  A     Transient          Check-Out   \n",
       "\n",
       "       reservation_status_date total_kids has_kids  \n",
       "0                   2015-07-01        0.0    False  \n",
       "1                   2015-07-01        0.0    False  \n",
       "2                   2015-07-02        0.0    False  \n",
       "3                   2015-07-02        0.0    False  \n",
       "4                   2015-07-03        0.0    False  \n",
       "...                        ...        ...      ...  \n",
       "119385              2017-09-06        0.0    False  \n",
       "119386              2017-09-07        0.0    False  \n",
       "119387              2017-09-07        0.0    False  \n",
       "119388              2017-09-07        0.0    False  \n",
       "119389              2017-09-07        0.0    False  \n",
       "\n",
       "[119390 rows x 23 columns]"
      ]
     },
     "execution_count": 123,
     "metadata": {},
     "output_type": "execute_result"
    }
   ],
   "source": [
    "bookings['has_kids'] = (bookings['total_kids'] > 0)\n",
    "bookings"
   ]
  },
  {
   "cell_type": "markdown",
   "id": "bd2d2920",
   "metadata": {},
   "source": [
    "В нашем случае Churn Rate - это процент клиентов, которые отменили бронирование. Давайте посмотрим, как эта метрика связана с наличием детей у клиентов!\n",
    "Для этого делим размер (количество строк в датафрейме) где отмены и детей нет, на количество строк в датафрейме, где просто нет детей"
   ]
  },
  {
   "cell_type": "code",
   "execution_count": 129,
   "id": "6459c59f",
   "metadata": {},
   "outputs": [
    {
     "data": {
      "text/plain": [
       "37.221283323338604"
      ]
     },
     "execution_count": 129,
     "metadata": {},
     "output_type": "execute_result"
    }
   ],
   "source": [
    "(bookings.query('is_canceled == 1 and has_kids == False').shape[0] / bookings.query('has_kids == False').shape[0]) * 100"
   ]
  },
  {
   "cell_type": "code",
   "execution_count": 130,
   "id": "9b31452d",
   "metadata": {},
   "outputs": [
    {
     "data": {
      "text/plain": [
       "2.9611659306910902"
      ]
     },
     "execution_count": 130,
     "metadata": {},
     "output_type": "execute_result"
    }
   ],
   "source": [
    "(bookings.query('is_canceled == 1 and has_kids == True').shape[0] / bookings.query('has_kids == False').shape[0]) * 100"
   ]
  },
  {
   "cell_type": "markdown",
   "id": "1733080e",
   "metadata": {},
   "source": [
    "### Урок 3\n",
    "### Продвинутый pandas и знакомство с визуализацией на python"
   ]
  },
  {
   "cell_type": "markdown",
   "id": "ddda5f6c",
   "metadata": {},
   "source": [
    "*Займёмся более подробным решением аналитических задач — с эксплоративным анализом данных, созданием метрик и анализом распределений. Познакомимся с объединением датафрэймов и применением функций к колонкам датафрэйма. Освоим новые методы, посмотрим на пандасовские серии,  научимся создавать анонимные функции и начнём визуализировать данные.*"
   ]
  },
  {
   "cell_type": "markdown",
   "id": "9a387bac",
   "metadata": {},
   "source": [
    "Говорим про анализ пользователей, их поведения, поговорим про лояльность пользователей"
   ]
  },
  {
   "cell_type": "markdown",
   "id": "4d1e9779",
   "metadata": {},
   "source": [
    "**! Снова импортируем библиотеки, снова для сохранени порядк изложения**"
   ]
  },
  {
   "cell_type": "code",
   "execution_count": 4,
   "id": "8737b64f",
   "metadata": {},
   "outputs": [],
   "source": [
    "import pandas as pd\n"
   ]
  },
  {
   "cell_type": "code",
   "execution_count": 24,
   "id": "0f5dd462",
   "metadata": {},
   "outputs": [],
   "source": [
    "df = pd.read_csv('C:/Users/admin/jupyter_notebook/lesson_3_data.csv', encoding='windows-1251')"
   ]
  },
  {
   "cell_type": "code",
   "execution_count": 25,
   "id": "f57f1d40",
   "metadata": {},
   "outputs": [
    {
     "data": {
      "text/html": [
       "<div>\n",
       "<style scoped>\n",
       "    .dataframe tbody tr th:only-of-type {\n",
       "        vertical-align: middle;\n",
       "    }\n",
       "\n",
       "    .dataframe tbody tr th {\n",
       "        vertical-align: top;\n",
       "    }\n",
       "\n",
       "    .dataframe thead th {\n",
       "        text-align: right;\n",
       "    }\n",
       "</style>\n",
       "<table border=\"1\" class=\"dataframe\">\n",
       "  <thead>\n",
       "    <tr style=\"text-align: right;\">\n",
       "      <th></th>\n",
       "      <th>Unnamed: 0</th>\n",
       "      <th>tk</th>\n",
       "      <th>pl</th>\n",
       "      <th>dia</th>\n",
       "      <th>hs</th>\n",
       "      <th>tc</th>\n",
       "      <th>cta</th>\n",
       "      <th>id_art</th>\n",
       "      <th>id_subsubfam</th>\n",
       "      <th>id_subfam</th>\n",
       "      <th>...</th>\n",
       "      <th>id_famn</th>\n",
       "      <th>id_seccion</th>\n",
       "      <th>id_subagr</th>\n",
       "      <th>id_agr</th>\n",
       "      <th>vta</th>\n",
       "      <th>uni</th>\n",
       "      <th>id_artn</th>\n",
       "      <th>art_sp</th>\n",
       "      <th>fam_sp</th>\n",
       "      <th>fam_en</th>\n",
       "    </tr>\n",
       "  </thead>\n",
       "  <tbody>\n",
       "    <tr>\n",
       "      <th>0</th>\n",
       "      <td>1242</td>\n",
       "      <td>120071109002055793</td>\n",
       "      <td>1</td>\n",
       "      <td>2007/11/09</td>\n",
       "      <td>0.505729</td>\n",
       "      <td>110000761</td>\n",
       "      <td>11000076</td>\n",
       "      <td>21895</td>\n",
       "      <td>101070640100</td>\n",
       "      <td>1010706401</td>\n",
       "      <td>...</td>\n",
       "      <td>10107064</td>\n",
       "      <td>10107</td>\n",
       "      <td>101</td>\n",
       "      <td>1</td>\n",
       "      <td>0.68</td>\n",
       "      <td>1.0</td>\n",
       "      <td>21895</td>\n",
       "      <td>MARAVILLA        500 G Store_Brand</td>\n",
       "      <td>PASTA ALIMENTICIA SE</td>\n",
       "      <td>pasta</td>\n",
       "    </tr>\n",
       "    <tr>\n",
       "      <th>1</th>\n",
       "      <td>1243</td>\n",
       "      <td>120070601004053633</td>\n",
       "      <td>1</td>\n",
       "      <td>2007/06/01</td>\n",
       "      <td>0.588519</td>\n",
       "      <td>110000761</td>\n",
       "      <td>11000076</td>\n",
       "      <td>21816</td>\n",
       "      <td>101070640100</td>\n",
       "      <td>1010706401</td>\n",
       "      <td>...</td>\n",
       "      <td>10107064</td>\n",
       "      <td>10107</td>\n",
       "      <td>101</td>\n",
       "      <td>1</td>\n",
       "      <td>0.38</td>\n",
       "      <td>1.0</td>\n",
       "      <td>21816</td>\n",
       "      <td>FIDEO CABELLIN   500 G Store_Brand</td>\n",
       "      <td>PASTA ALIMENTICIA SE</td>\n",
       "      <td>pasta</td>\n",
       "    </tr>\n",
       "    <tr>\n",
       "      <th>2</th>\n",
       "      <td>1244</td>\n",
       "      <td>120070928004076410</td>\n",
       "      <td>1</td>\n",
       "      <td>2007/09/28</td>\n",
       "      <td>0.785498</td>\n",
       "      <td>28491841</td>\n",
       "      <td>2849184</td>\n",
       "      <td>562840</td>\n",
       "      <td>101070640100</td>\n",
       "      <td>1010706401</td>\n",
       "      <td>...</td>\n",
       "      <td>10107064</td>\n",
       "      <td>10107</td>\n",
       "      <td>101</td>\n",
       "      <td>1</td>\n",
       "      <td>1.55</td>\n",
       "      <td>2.0</td>\n",
       "      <td>562840</td>\n",
       "      <td>SPAGUETTI Nє 5 500 G Brand_1</td>\n",
       "      <td>PASTA ALIMENTICIA SE</td>\n",
       "      <td>pasta</td>\n",
       "    </tr>\n",
       "    <tr>\n",
       "      <th>3</th>\n",
       "      <td>1245</td>\n",
       "      <td>120070616003074261</td>\n",
       "      <td>1</td>\n",
       "      <td>2007/06/16</td>\n",
       "      <td>0.550961</td>\n",
       "      <td>95931501</td>\n",
       "      <td>9593150</td>\n",
       "      <td>28914</td>\n",
       "      <td>101070640100</td>\n",
       "      <td>1010706401</td>\n",
       "      <td>...</td>\n",
       "      <td>10107064</td>\n",
       "      <td>10107</td>\n",
       "      <td>101</td>\n",
       "      <td>1</td>\n",
       "      <td>1.03</td>\n",
       "      <td>2.0</td>\n",
       "      <td>28914</td>\n",
       "      <td>FIDEO FIDEUБ      500 Brand_7</td>\n",
       "      <td>PASTA ALIMENTICIA SE</td>\n",
       "      <td>pasta</td>\n",
       "    </tr>\n",
       "    <tr>\n",
       "      <th>4</th>\n",
       "      <td>1246</td>\n",
       "      <td>120070519001018477</td>\n",
       "      <td>1</td>\n",
       "      <td>2007/05/19</td>\n",
       "      <td>0.804954</td>\n",
       "      <td>93265591</td>\n",
       "      <td>9326559</td>\n",
       "      <td>159867</td>\n",
       "      <td>101070640100</td>\n",
       "      <td>1010706401</td>\n",
       "      <td>...</td>\n",
       "      <td>10107064</td>\n",
       "      <td>10107</td>\n",
       "      <td>101</td>\n",
       "      <td>1</td>\n",
       "      <td>1.09</td>\n",
       "      <td>1.0</td>\n",
       "      <td>159867</td>\n",
       "      <td>MACARRONES  GRATINAR 5 Brand_2</td>\n",
       "      <td>PASTA ALIMENTICIA SE</td>\n",
       "      <td>pasta</td>\n",
       "    </tr>\n",
       "  </tbody>\n",
       "</table>\n",
       "<p>5 rows × 21 columns</p>\n",
       "</div>"
      ],
      "text/plain": [
       "   Unnamed: 0                  tk  pl         dia        hs         tc  \\\n",
       "0        1242  120071109002055793   1  2007/11/09  0.505729  110000761   \n",
       "1        1243  120070601004053633   1  2007/06/01  0.588519  110000761   \n",
       "2        1244  120070928004076410   1  2007/09/28  0.785498   28491841   \n",
       "3        1245  120070616003074261   1  2007/06/16  0.550961   95931501   \n",
       "4        1246  120070519001018477   1  2007/05/19  0.804954   93265591   \n",
       "\n",
       "        cta  id_art  id_subsubfam   id_subfam  ...   id_famn  id_seccion  \\\n",
       "0  11000076   21895  101070640100  1010706401  ...  10107064       10107   \n",
       "1  11000076   21816  101070640100  1010706401  ...  10107064       10107   \n",
       "2   2849184  562840  101070640100  1010706401  ...  10107064       10107   \n",
       "3   9593150   28914  101070640100  1010706401  ...  10107064       10107   \n",
       "4   9326559  159867  101070640100  1010706401  ...  10107064       10107   \n",
       "\n",
       "   id_subagr  id_agr   vta  uni  id_artn                              art_sp  \\\n",
       "0        101       1  0.68  1.0    21895  MARAVILLA        500 G Store_Brand   \n",
       "1        101       1  0.38  1.0    21816  FIDEO CABELLIN   500 G Store_Brand   \n",
       "2        101       1  1.55  2.0   562840        SPAGUETTI Nє 5 500 G Brand_1   \n",
       "3        101       1  1.03  2.0    28914       FIDEO FIDEUБ      500 Brand_7   \n",
       "4        101       1  1.09  1.0   159867      MACARRONES  GRATINAR 5 Brand_2   \n",
       "\n",
       "                 fam_sp fam_en  \n",
       "0  PASTA ALIMENTICIA SE  pasta  \n",
       "1  PASTA ALIMENTICIA SE  pasta  \n",
       "2  PASTA ALIMENTICIA SE  pasta  \n",
       "3  PASTA ALIMENTICIA SE  pasta  \n",
       "4  PASTA ALIMENTICIA SE  pasta  \n",
       "\n",
       "[5 rows x 21 columns]"
      ]
     },
     "execution_count": 25,
     "metadata": {},
     "output_type": "execute_result"
    }
   ],
   "source": [
    "df.head()"
   ]
  },
  {
   "cell_type": "markdown",
   "id": "94e0f248",
   "metadata": {},
   "source": [
    "Аналитики могут исследовать продукт, выявить паттерны поведения, понять что есть пользователи проявляющие определенные патерны, на основе этого выдвинуть несколько гипотез, которые помогут продукту увеличить свои метриик"
   ]
  },
  {
   "cell_type": "markdown",
   "id": "beb68f7f",
   "metadata": {},
   "source": [
    "___\n",
    "#### Предподготовка данных\n",
    "\n",
    ">***анализ лояльности пользователей***\n"
   ]
  },
  {
   "cell_type": "code",
   "execution_count": 26,
   "id": "43bcc3cf",
   "metadata": {},
   "outputs": [],
   "source": [
    "user_df = df[['tc', 'art_sp']]"
   ]
  },
  {
   "cell_type": "code",
   "execution_count": 27,
   "id": "03fb182a",
   "metadata": {},
   "outputs": [
    {
     "data": {
      "text/html": [
       "<div>\n",
       "<style scoped>\n",
       "    .dataframe tbody tr th:only-of-type {\n",
       "        vertical-align: middle;\n",
       "    }\n",
       "\n",
       "    .dataframe tbody tr th {\n",
       "        vertical-align: top;\n",
       "    }\n",
       "\n",
       "    .dataframe thead th {\n",
       "        text-align: right;\n",
       "    }\n",
       "</style>\n",
       "<table border=\"1\" class=\"dataframe\">\n",
       "  <thead>\n",
       "    <tr style=\"text-align: right;\">\n",
       "      <th></th>\n",
       "      <th>tc</th>\n",
       "      <th>art_sp</th>\n",
       "    </tr>\n",
       "  </thead>\n",
       "  <tbody>\n",
       "    <tr>\n",
       "      <th>0</th>\n",
       "      <td>110000761</td>\n",
       "      <td>MARAVILLA        500 G Store_Brand</td>\n",
       "    </tr>\n",
       "    <tr>\n",
       "      <th>1</th>\n",
       "      <td>110000761</td>\n",
       "      <td>FIDEO CABELLIN   500 G Store_Brand</td>\n",
       "    </tr>\n",
       "    <tr>\n",
       "      <th>2</th>\n",
       "      <td>28491841</td>\n",
       "      <td>SPAGUETTI Nє 5 500 G Brand_1</td>\n",
       "    </tr>\n",
       "    <tr>\n",
       "      <th>3</th>\n",
       "      <td>95931501</td>\n",
       "      <td>FIDEO FIDEUБ      500 Brand_7</td>\n",
       "    </tr>\n",
       "    <tr>\n",
       "      <th>4</th>\n",
       "      <td>93265591</td>\n",
       "      <td>MACARRONES  GRATINAR 5 Brand_2</td>\n",
       "    </tr>\n",
       "    <tr>\n",
       "      <th>...</th>\n",
       "      <td>...</td>\n",
       "      <td>...</td>\n",
       "    </tr>\n",
       "    <tr>\n",
       "      <th>48124</th>\n",
       "      <td>45518841</td>\n",
       "      <td>FIDEOS 0         500 G Brand_4</td>\n",
       "    </tr>\n",
       "    <tr>\n",
       "      <th>48125</th>\n",
       "      <td>110824211</td>\n",
       "      <td>PLUMAS 3         500 G Brand_4</td>\n",
       "    </tr>\n",
       "    <tr>\n",
       "      <th>48126</th>\n",
       "      <td>1408670389</td>\n",
       "      <td>MACARRONES       500 G Store_Brand</td>\n",
       "    </tr>\n",
       "    <tr>\n",
       "      <th>48127</th>\n",
       "      <td>1408670389</td>\n",
       "      <td>SPAGHETTI        500 G Store_Brand</td>\n",
       "    </tr>\n",
       "    <tr>\n",
       "      <th>48128</th>\n",
       "      <td>48582221</td>\n",
       "      <td>SPAGHETTINI      500 G Store_Brand</td>\n",
       "    </tr>\n",
       "  </tbody>\n",
       "</table>\n",
       "<p>48129 rows × 2 columns</p>\n",
       "</div>"
      ],
      "text/plain": [
       "               tc                              art_sp\n",
       "0       110000761  MARAVILLA        500 G Store_Brand\n",
       "1       110000761  FIDEO CABELLIN   500 G Store_Brand\n",
       "2        28491841        SPAGUETTI Nє 5 500 G Brand_1\n",
       "3        95931501       FIDEO FIDEUБ      500 Brand_7\n",
       "4        93265591      MACARRONES  GRATINAR 5 Brand_2\n",
       "...           ...                                 ...\n",
       "48124    45518841      FIDEOS 0         500 G Brand_4\n",
       "48125   110824211      PLUMAS 3         500 G Brand_4\n",
       "48126  1408670389  MACARRONES       500 G Store_Brand\n",
       "48127  1408670389  SPAGHETTI        500 G Store_Brand\n",
       "48128    48582221  SPAGHETTINI      500 G Store_Brand\n",
       "\n",
       "[48129 rows x 2 columns]"
      ]
     },
     "execution_count": 27,
     "metadata": {},
     "output_type": "execute_result"
    }
   ],
   "source": [
    "user_df"
   ]
  },
  {
   "cell_type": "code",
   "execution_count": 28,
   "id": "6f2647a0",
   "metadata": {},
   "outputs": [
    {
     "data": {
      "text/html": [
       "<div>\n",
       "<style scoped>\n",
       "    .dataframe tbody tr th:only-of-type {\n",
       "        vertical-align: middle;\n",
       "    }\n",
       "\n",
       "    .dataframe tbody tr th {\n",
       "        vertical-align: top;\n",
       "    }\n",
       "\n",
       "    .dataframe thead th {\n",
       "        text-align: right;\n",
       "    }\n",
       "</style>\n",
       "<table border=\"1\" class=\"dataframe\">\n",
       "  <thead>\n",
       "    <tr style=\"text-align: right;\">\n",
       "      <th></th>\n",
       "      <th>user_id</th>\n",
       "      <th>brand_info</th>\n",
       "    </tr>\n",
       "  </thead>\n",
       "  <tbody>\n",
       "    <tr>\n",
       "      <th>0</th>\n",
       "      <td>110000761</td>\n",
       "      <td>MARAVILLA        500 G Store_Brand</td>\n",
       "    </tr>\n",
       "    <tr>\n",
       "      <th>1</th>\n",
       "      <td>110000761</td>\n",
       "      <td>FIDEO CABELLIN   500 G Store_Brand</td>\n",
       "    </tr>\n",
       "    <tr>\n",
       "      <th>2</th>\n",
       "      <td>28491841</td>\n",
       "      <td>SPAGUETTI Nє 5 500 G Brand_1</td>\n",
       "    </tr>\n",
       "    <tr>\n",
       "      <th>3</th>\n",
       "      <td>95931501</td>\n",
       "      <td>FIDEO FIDEUБ      500 Brand_7</td>\n",
       "    </tr>\n",
       "    <tr>\n",
       "      <th>4</th>\n",
       "      <td>93265591</td>\n",
       "      <td>MACARRONES  GRATINAR 5 Brand_2</td>\n",
       "    </tr>\n",
       "    <tr>\n",
       "      <th>...</th>\n",
       "      <td>...</td>\n",
       "      <td>...</td>\n",
       "    </tr>\n",
       "    <tr>\n",
       "      <th>48124</th>\n",
       "      <td>45518841</td>\n",
       "      <td>FIDEOS 0         500 G Brand_4</td>\n",
       "    </tr>\n",
       "    <tr>\n",
       "      <th>48125</th>\n",
       "      <td>110824211</td>\n",
       "      <td>PLUMAS 3         500 G Brand_4</td>\n",
       "    </tr>\n",
       "    <tr>\n",
       "      <th>48126</th>\n",
       "      <td>1408670389</td>\n",
       "      <td>MACARRONES       500 G Store_Brand</td>\n",
       "    </tr>\n",
       "    <tr>\n",
       "      <th>48127</th>\n",
       "      <td>1408670389</td>\n",
       "      <td>SPAGHETTI        500 G Store_Brand</td>\n",
       "    </tr>\n",
       "    <tr>\n",
       "      <th>48128</th>\n",
       "      <td>48582221</td>\n",
       "      <td>SPAGHETTINI      500 G Store_Brand</td>\n",
       "    </tr>\n",
       "  </tbody>\n",
       "</table>\n",
       "<p>48129 rows × 2 columns</p>\n",
       "</div>"
      ],
      "text/plain": [
       "          user_id                          brand_info\n",
       "0       110000761  MARAVILLA        500 G Store_Brand\n",
       "1       110000761  FIDEO CABELLIN   500 G Store_Brand\n",
       "2        28491841        SPAGUETTI Nє 5 500 G Brand_1\n",
       "3        95931501       FIDEO FIDEUБ      500 Brand_7\n",
       "4        93265591      MACARRONES  GRATINAR 5 Brand_2\n",
       "...           ...                                 ...\n",
       "48124    45518841      FIDEOS 0         500 G Brand_4\n",
       "48125   110824211      PLUMAS 3         500 G Brand_4\n",
       "48126  1408670389  MACARRONES       500 G Store_Brand\n",
       "48127  1408670389  SPAGHETTI        500 G Store_Brand\n",
       "48128    48582221  SPAGHETTINI      500 G Store_Brand\n",
       "\n",
       "[48129 rows x 2 columns]"
      ]
     },
     "execution_count": 28,
     "metadata": {},
     "output_type": "execute_result"
    }
   ],
   "source": [
    "user_df = user_df.rename(columns={'tc': 'user_id',\n",
    "                       'art_sp': 'brand_info'})\n",
    "user_df"
   ]
  },
  {
   "cell_type": "markdown",
   "id": "59d47ce8",
   "metadata": {},
   "source": [
    "---\n",
    ">***анализ лояльности пользователей***"
   ]
  },
  {
   "cell_type": "markdown",
   "id": "feaff156",
   "metadata": {},
   "source": [
    "Теперь в наших данных остались только ID клиента и покупка, в которой описан товар, где есть название, вес товара, и бренд, и нам нужен только бренд, т к мы ищем лояльность к бренду и не будем отличать товары одного бренда, нам неважно какой товар, важен имено бренд"
   ]
  },
  {
   "cell_type": "markdown",
   "id": "489fbe33",
   "metadata": {},
   "source": [
    "Посмотрим еще сколько типов товаров есть и сколько вообще разных людей"
   ]
  },
  {
   "cell_type": "code",
   "execution_count": 29,
   "id": "2e4062a5",
   "metadata": {},
   "outputs": [
    {
     "data": {
      "text/plain": [
       "user_id       11764\n",
       "brand_info       59\n",
       "dtype: int64"
      ]
     },
     "execution_count": 29,
     "metadata": {},
     "output_type": "execute_result"
    }
   ],
   "source": [
    "user_df.nunique()"
   ]
  },
  {
   "cell_type": "markdown",
   "id": "925c9605",
   "metadata": {},
   "source": [
    "Нужно вытащить бренд, который хранится в самом конце информации о продукте"
   ]
  },
  {
   "cell_type": "markdown",
   "id": "53bc68e7",
   "metadata": {},
   "source": [
    "Мы рассмотрим низкоуревневый прием вытащить бренд, зато познакомимся с питоновскими штуками\n",
    "\n",
    "Сначала посмотрим на одной строке как это сделать, потом перейдем в DataSeries"
   ]
  },
  {
   "cell_type": "code",
   "execution_count": 14,
   "id": "6196b9f7",
   "metadata": {},
   "outputs": [
    {
     "data": {
      "text/plain": [
       "str"
      ]
     },
     "execution_count": 14,
     "metadata": {},
     "output_type": "execute_result"
    }
   ],
   "source": [
    "brand_name = 'FIDEO CABELLIN 500 G Store_Brand'\n",
    "type(brand_name)"
   ]
  },
  {
   "cell_type": "markdown",
   "id": "f22cbf5b",
   "metadata": {},
   "source": [
    "Нам нужно получить только самый конец строки, вспомним методы строк, которые например можно поизучать [здесь](https://stepik.org/lesson/296416/step/1?unit=278136)"
   ]
  },
  {
   "cell_type": "code",
   "execution_count": 16,
   "id": "c55fa20f",
   "metadata": {},
   "outputs": [
    {
     "data": {
      "text/plain": [
       "['FIDEO', 'CABELLIN', '500', 'G', 'Store_Brand']"
      ]
     },
     "execution_count": 16,
     "metadata": {},
     "output_type": "execute_result"
    }
   ],
   "source": [
    "brand_name.split() #превратит нашу строку в список с разделителем пробел, разделитель можно менять, указав в скобках"
   ]
  },
  {
   "cell_type": "code",
   "execution_count": 17,
   "id": "02559597",
   "metadata": {},
   "outputs": [
    {
     "data": {
      "text/plain": [
       "'Store_Brand'"
      ]
     },
     "execution_count": 17,
     "metadata": {},
     "output_type": "execute_result"
    }
   ],
   "source": [
    "brand_name.split()[-1] #теперь возьмем последний элемент из этого списка, т к количество элементов разное в строках нашего DataFrame? то просто -1 элемент, т е первый с конца"
   ]
  },
  {
   "cell_type": "markdown",
   "id": "4197c810",
   "metadata": {},
   "source": [
    "Вот и мы вытащили бренд для одной записи, теперь надо это сделать ко всему столбцу\n",
    "\n",
    "Возможно захочется нписать через цикл, но лучше использовать встроенную функцию\n",
    "\n",
    "***! Вообще когда работаем в pandas и нам хочется применить цикл for, нужно искать встроенную функцию, скорее всего такие методы уже есть***"
   ]
  },
  {
   "cell_type": "code",
   "execution_count": 35,
   "id": "e95c982e",
   "metadata": {},
   "outputs": [],
   "source": [
    "def split_brand(brand_name):\n",
    "    return brand_name.split()[-1]"
   ]
  },
  {
   "cell_type": "markdown",
   "id": "c0b4c886",
   "metadata": {},
   "source": [
    "Проверим что функция работает"
   ]
  },
  {
   "cell_type": "code",
   "execution_count": 36,
   "id": "7264a298",
   "metadata": {},
   "outputs": [
    {
     "data": {
      "text/plain": [
       "'Store_Brand'"
      ]
     },
     "execution_count": 36,
     "metadata": {},
     "output_type": "execute_result"
    }
   ],
   "source": [
    "split_brand('FIDEO CABELLIN 500 G Store_Brand')"
   ]
  },
  {
   "cell_type": "markdown",
   "id": "c6333fbe",
   "metadata": {},
   "source": [
    "Функция работает, применим ее для всей колонки"
   ]
  },
  {
   "cell_type": "code",
   "execution_count": 37,
   "id": "b6d6b27b",
   "metadata": {},
   "outputs": [
    {
     "data": {
      "text/plain": [
       "0        Store_Brand\n",
       "1        Store_Brand\n",
       "2            Brand_1\n",
       "3            Brand_7\n",
       "4            Brand_2\n",
       "            ...     \n",
       "48124        Brand_4\n",
       "48125        Brand_4\n",
       "48126    Store_Brand\n",
       "48127    Store_Brand\n",
       "48128    Store_Brand\n",
       "Name: brand_info, Length: 48129, dtype: object"
      ]
     },
     "execution_count": 37,
     "metadata": {},
     "output_type": "execute_result"
    }
   ],
   "source": [
    "user_df.brand_info.apply(split_brand)"
   ]
  },
  {
   "cell_type": "markdown",
   "id": "6a2e9a86",
   "metadata": {},
   "source": [
    "Мы берем, отбираем только нужную колонку, дальше говорим: примени к ней функцию split_brand"
   ]
  },
  {
   "cell_type": "code",
   "execution_count": 38,
   "id": "8a5c267c",
   "metadata": {},
   "outputs": [],
   "source": [
    "user_df['brand_name'] = user_df.brand_info.apply(split_brand)"
   ]
  },
  {
   "cell_type": "markdown",
   "id": "d086004b",
   "metadata": {},
   "source": [
    "Убедимся что все сделалось и добавилось"
   ]
  },
  {
   "cell_type": "code",
   "execution_count": 39,
   "id": "99deb7ef",
   "metadata": {},
   "outputs": [
    {
     "data": {
      "text/html": [
       "<div>\n",
       "<style scoped>\n",
       "    .dataframe tbody tr th:only-of-type {\n",
       "        vertical-align: middle;\n",
       "    }\n",
       "\n",
       "    .dataframe tbody tr th {\n",
       "        vertical-align: top;\n",
       "    }\n",
       "\n",
       "    .dataframe thead th {\n",
       "        text-align: right;\n",
       "    }\n",
       "</style>\n",
       "<table border=\"1\" class=\"dataframe\">\n",
       "  <thead>\n",
       "    <tr style=\"text-align: right;\">\n",
       "      <th></th>\n",
       "      <th>user_id</th>\n",
       "      <th>brand_info</th>\n",
       "      <th>brand_name</th>\n",
       "    </tr>\n",
       "  </thead>\n",
       "  <tbody>\n",
       "    <tr>\n",
       "      <th>0</th>\n",
       "      <td>110000761</td>\n",
       "      <td>MARAVILLA        500 G Store_Brand</td>\n",
       "      <td>Store_Brand</td>\n",
       "    </tr>\n",
       "    <tr>\n",
       "      <th>1</th>\n",
       "      <td>110000761</td>\n",
       "      <td>FIDEO CABELLIN   500 G Store_Brand</td>\n",
       "      <td>Store_Brand</td>\n",
       "    </tr>\n",
       "    <tr>\n",
       "      <th>2</th>\n",
       "      <td>28491841</td>\n",
       "      <td>SPAGUETTI Nє 5 500 G Brand_1</td>\n",
       "      <td>Brand_1</td>\n",
       "    </tr>\n",
       "    <tr>\n",
       "      <th>3</th>\n",
       "      <td>95931501</td>\n",
       "      <td>FIDEO FIDEUБ      500 Brand_7</td>\n",
       "      <td>Brand_7</td>\n",
       "    </tr>\n",
       "    <tr>\n",
       "      <th>4</th>\n",
       "      <td>93265591</td>\n",
       "      <td>MACARRONES  GRATINAR 5 Brand_2</td>\n",
       "      <td>Brand_2</td>\n",
       "    </tr>\n",
       "    <tr>\n",
       "      <th>...</th>\n",
       "      <td>...</td>\n",
       "      <td>...</td>\n",
       "      <td>...</td>\n",
       "    </tr>\n",
       "    <tr>\n",
       "      <th>48124</th>\n",
       "      <td>45518841</td>\n",
       "      <td>FIDEOS 0         500 G Brand_4</td>\n",
       "      <td>Brand_4</td>\n",
       "    </tr>\n",
       "    <tr>\n",
       "      <th>48125</th>\n",
       "      <td>110824211</td>\n",
       "      <td>PLUMAS 3         500 G Brand_4</td>\n",
       "      <td>Brand_4</td>\n",
       "    </tr>\n",
       "    <tr>\n",
       "      <th>48126</th>\n",
       "      <td>1408670389</td>\n",
       "      <td>MACARRONES       500 G Store_Brand</td>\n",
       "      <td>Store_Brand</td>\n",
       "    </tr>\n",
       "    <tr>\n",
       "      <th>48127</th>\n",
       "      <td>1408670389</td>\n",
       "      <td>SPAGHETTI        500 G Store_Brand</td>\n",
       "      <td>Store_Brand</td>\n",
       "    </tr>\n",
       "    <tr>\n",
       "      <th>48128</th>\n",
       "      <td>48582221</td>\n",
       "      <td>SPAGHETTINI      500 G Store_Brand</td>\n",
       "      <td>Store_Brand</td>\n",
       "    </tr>\n",
       "  </tbody>\n",
       "</table>\n",
       "<p>48129 rows × 3 columns</p>\n",
       "</div>"
      ],
      "text/plain": [
       "          user_id                          brand_info   brand_name\n",
       "0       110000761  MARAVILLA        500 G Store_Brand  Store_Brand\n",
       "1       110000761  FIDEO CABELLIN   500 G Store_Brand  Store_Brand\n",
       "2        28491841        SPAGUETTI Nє 5 500 G Brand_1      Brand_1\n",
       "3        95931501       FIDEO FIDEUБ      500 Brand_7      Brand_7\n",
       "4        93265591      MACARRONES  GRATINAR 5 Brand_2      Brand_2\n",
       "...           ...                                 ...          ...\n",
       "48124    45518841      FIDEOS 0         500 G Brand_4      Brand_4\n",
       "48125   110824211      PLUMAS 3         500 G Brand_4      Brand_4\n",
       "48126  1408670389  MACARRONES       500 G Store_Brand  Store_Brand\n",
       "48127  1408670389  SPAGHETTI        500 G Store_Brand  Store_Brand\n",
       "48128    48582221  SPAGHETTINI      500 G Store_Brand  Store_Brand\n",
       "\n",
       "[48129 rows x 3 columns]"
      ]
     },
     "execution_count": 39,
     "metadata": {},
     "output_type": "execute_result"
    }
   ],
   "source": [
    "user_df"
   ]
  },
  {
   "cell_type": "markdown",
   "id": "ea7e2b8d",
   "metadata": {},
   "source": [
    "---\n",
    ">***lambda функции для быстрых вычислений***"
   ]
  },
  {
   "cell_type": "markdown",
   "id": "4364aabe",
   "metadata": {},
   "source": [
    "Для маленькой команды, которая делает такую работу в одну строчку, писать отдельно функцию def как то слишком затратно, поэтому можно в этой строке прям сразу прописать лямбда функцию, это избыточно, все таки новые функции надо заводить для сложных вычислений или если мы ее часто используем"
   ]
  },
  {
   "cell_type": "code",
   "execution_count": 42,
   "id": "5a614059",
   "metadata": {},
   "outputs": [
    {
     "data": {
      "text/html": [
       "<div>\n",
       "<style scoped>\n",
       "    .dataframe tbody tr th:only-of-type {\n",
       "        vertical-align: middle;\n",
       "    }\n",
       "\n",
       "    .dataframe tbody tr th {\n",
       "        vertical-align: top;\n",
       "    }\n",
       "\n",
       "    .dataframe thead th {\n",
       "        text-align: right;\n",
       "    }\n",
       "</style>\n",
       "<table border=\"1\" class=\"dataframe\">\n",
       "  <thead>\n",
       "    <tr style=\"text-align: right;\">\n",
       "      <th></th>\n",
       "      <th>user_id</th>\n",
       "      <th>brand_info</th>\n",
       "      <th>brand_name</th>\n",
       "      <th>brand_name2</th>\n",
       "    </tr>\n",
       "  </thead>\n",
       "  <tbody>\n",
       "    <tr>\n",
       "      <th>0</th>\n",
       "      <td>110000761</td>\n",
       "      <td>MARAVILLA        500 G Store_Brand</td>\n",
       "      <td>Store_Brand</td>\n",
       "      <td>Store_Brand</td>\n",
       "    </tr>\n",
       "    <tr>\n",
       "      <th>1</th>\n",
       "      <td>110000761</td>\n",
       "      <td>FIDEO CABELLIN   500 G Store_Brand</td>\n",
       "      <td>Store_Brand</td>\n",
       "      <td>Store_Brand</td>\n",
       "    </tr>\n",
       "    <tr>\n",
       "      <th>2</th>\n",
       "      <td>28491841</td>\n",
       "      <td>SPAGUETTI Nє 5 500 G Brand_1</td>\n",
       "      <td>Brand_1</td>\n",
       "      <td>Brand_1</td>\n",
       "    </tr>\n",
       "    <tr>\n",
       "      <th>3</th>\n",
       "      <td>95931501</td>\n",
       "      <td>FIDEO FIDEUБ      500 Brand_7</td>\n",
       "      <td>Brand_7</td>\n",
       "      <td>Brand_7</td>\n",
       "    </tr>\n",
       "    <tr>\n",
       "      <th>4</th>\n",
       "      <td>93265591</td>\n",
       "      <td>MACARRONES  GRATINAR 5 Brand_2</td>\n",
       "      <td>Brand_2</td>\n",
       "      <td>Brand_2</td>\n",
       "    </tr>\n",
       "    <tr>\n",
       "      <th>...</th>\n",
       "      <td>...</td>\n",
       "      <td>...</td>\n",
       "      <td>...</td>\n",
       "      <td>...</td>\n",
       "    </tr>\n",
       "    <tr>\n",
       "      <th>48124</th>\n",
       "      <td>45518841</td>\n",
       "      <td>FIDEOS 0         500 G Brand_4</td>\n",
       "      <td>Brand_4</td>\n",
       "      <td>Brand_4</td>\n",
       "    </tr>\n",
       "    <tr>\n",
       "      <th>48125</th>\n",
       "      <td>110824211</td>\n",
       "      <td>PLUMAS 3         500 G Brand_4</td>\n",
       "      <td>Brand_4</td>\n",
       "      <td>Brand_4</td>\n",
       "    </tr>\n",
       "    <tr>\n",
       "      <th>48126</th>\n",
       "      <td>1408670389</td>\n",
       "      <td>MACARRONES       500 G Store_Brand</td>\n",
       "      <td>Store_Brand</td>\n",
       "      <td>Store_Brand</td>\n",
       "    </tr>\n",
       "    <tr>\n",
       "      <th>48127</th>\n",
       "      <td>1408670389</td>\n",
       "      <td>SPAGHETTI        500 G Store_Brand</td>\n",
       "      <td>Store_Brand</td>\n",
       "      <td>Store_Brand</td>\n",
       "    </tr>\n",
       "    <tr>\n",
       "      <th>48128</th>\n",
       "      <td>48582221</td>\n",
       "      <td>SPAGHETTINI      500 G Store_Brand</td>\n",
       "      <td>Store_Brand</td>\n",
       "      <td>Store_Brand</td>\n",
       "    </tr>\n",
       "  </tbody>\n",
       "</table>\n",
       "<p>48129 rows × 4 columns</p>\n",
       "</div>"
      ],
      "text/plain": [
       "          user_id                          brand_info   brand_name  \\\n",
       "0       110000761  MARAVILLA        500 G Store_Brand  Store_Brand   \n",
       "1       110000761  FIDEO CABELLIN   500 G Store_Brand  Store_Brand   \n",
       "2        28491841        SPAGUETTI Nє 5 500 G Brand_1      Brand_1   \n",
       "3        95931501       FIDEO FIDEUБ      500 Brand_7      Brand_7   \n",
       "4        93265591      MACARRONES  GRATINAR 5 Brand_2      Brand_2   \n",
       "...           ...                                 ...          ...   \n",
       "48124    45518841      FIDEOS 0         500 G Brand_4      Brand_4   \n",
       "48125   110824211      PLUMAS 3         500 G Brand_4      Brand_4   \n",
       "48126  1408670389  MACARRONES       500 G Store_Brand  Store_Brand   \n",
       "48127  1408670389  SPAGHETTI        500 G Store_Brand  Store_Brand   \n",
       "48128    48582221  SPAGHETTINI      500 G Store_Brand  Store_Brand   \n",
       "\n",
       "       brand_name2  \n",
       "0      Store_Brand  \n",
       "1      Store_Brand  \n",
       "2          Brand_1  \n",
       "3          Brand_7  \n",
       "4          Brand_2  \n",
       "...            ...  \n",
       "48124      Brand_4  \n",
       "48125      Brand_4  \n",
       "48126  Store_Brand  \n",
       "48127  Store_Brand  \n",
       "48128  Store_Brand  \n",
       "\n",
       "[48129 rows x 4 columns]"
      ]
     },
     "execution_count": 42,
     "metadata": {},
     "output_type": "execute_result"
    }
   ],
   "source": [
    "user_df['brand_name2'] = user_df.brand_info.apply(lambda x: x.split()[-1])\n",
    "user_df"
   ]
  },
  {
   "cell_type": "markdown",
   "id": "1c48801e",
   "metadata": {},
   "source": [
    "Получилось то же самое, но уберем лишний столбец, он нам не нужен"
   ]
  },
  {
   "cell_type": "code",
   "execution_count": 47,
   "id": "bb451fcf",
   "metadata": {},
   "outputs": [
    {
     "data": {
      "text/html": [
       "<div>\n",
       "<style scoped>\n",
       "    .dataframe tbody tr th:only-of-type {\n",
       "        vertical-align: middle;\n",
       "    }\n",
       "\n",
       "    .dataframe tbody tr th {\n",
       "        vertical-align: top;\n",
       "    }\n",
       "\n",
       "    .dataframe thead th {\n",
       "        text-align: right;\n",
       "    }\n",
       "</style>\n",
       "<table border=\"1\" class=\"dataframe\">\n",
       "  <thead>\n",
       "    <tr style=\"text-align: right;\">\n",
       "      <th></th>\n",
       "      <th>user_id</th>\n",
       "      <th>brand_info</th>\n",
       "      <th>brand_name</th>\n",
       "    </tr>\n",
       "  </thead>\n",
       "  <tbody>\n",
       "    <tr>\n",
       "      <th>0</th>\n",
       "      <td>110000761</td>\n",
       "      <td>MARAVILLA        500 G Store_Brand</td>\n",
       "      <td>Store_Brand</td>\n",
       "    </tr>\n",
       "    <tr>\n",
       "      <th>1</th>\n",
       "      <td>110000761</td>\n",
       "      <td>FIDEO CABELLIN   500 G Store_Brand</td>\n",
       "      <td>Store_Brand</td>\n",
       "    </tr>\n",
       "    <tr>\n",
       "      <th>2</th>\n",
       "      <td>28491841</td>\n",
       "      <td>SPAGUETTI Nє 5 500 G Brand_1</td>\n",
       "      <td>Brand_1</td>\n",
       "    </tr>\n",
       "    <tr>\n",
       "      <th>3</th>\n",
       "      <td>95931501</td>\n",
       "      <td>FIDEO FIDEUБ      500 Brand_7</td>\n",
       "      <td>Brand_7</td>\n",
       "    </tr>\n",
       "    <tr>\n",
       "      <th>4</th>\n",
       "      <td>93265591</td>\n",
       "      <td>MACARRONES  GRATINAR 5 Brand_2</td>\n",
       "      <td>Brand_2</td>\n",
       "    </tr>\n",
       "    <tr>\n",
       "      <th>...</th>\n",
       "      <td>...</td>\n",
       "      <td>...</td>\n",
       "      <td>...</td>\n",
       "    </tr>\n",
       "    <tr>\n",
       "      <th>48124</th>\n",
       "      <td>45518841</td>\n",
       "      <td>FIDEOS 0         500 G Brand_4</td>\n",
       "      <td>Brand_4</td>\n",
       "    </tr>\n",
       "    <tr>\n",
       "      <th>48125</th>\n",
       "      <td>110824211</td>\n",
       "      <td>PLUMAS 3         500 G Brand_4</td>\n",
       "      <td>Brand_4</td>\n",
       "    </tr>\n",
       "    <tr>\n",
       "      <th>48126</th>\n",
       "      <td>1408670389</td>\n",
       "      <td>MACARRONES       500 G Store_Brand</td>\n",
       "      <td>Store_Brand</td>\n",
       "    </tr>\n",
       "    <tr>\n",
       "      <th>48127</th>\n",
       "      <td>1408670389</td>\n",
       "      <td>SPAGHETTI        500 G Store_Brand</td>\n",
       "      <td>Store_Brand</td>\n",
       "    </tr>\n",
       "    <tr>\n",
       "      <th>48128</th>\n",
       "      <td>48582221</td>\n",
       "      <td>SPAGHETTINI      500 G Store_Brand</td>\n",
       "      <td>Store_Brand</td>\n",
       "    </tr>\n",
       "  </tbody>\n",
       "</table>\n",
       "<p>48129 rows × 3 columns</p>\n",
       "</div>"
      ],
      "text/plain": [
       "          user_id                          brand_info   brand_name\n",
       "0       110000761  MARAVILLA        500 G Store_Brand  Store_Brand\n",
       "1       110000761  FIDEO CABELLIN   500 G Store_Brand  Store_Brand\n",
       "2        28491841        SPAGUETTI Nє 5 500 G Brand_1      Brand_1\n",
       "3        95931501       FIDEO FIDEUБ      500 Brand_7      Brand_7\n",
       "4        93265591      MACARRONES  GRATINAR 5 Brand_2      Brand_2\n",
       "...           ...                                 ...          ...\n",
       "48124    45518841      FIDEOS 0         500 G Brand_4      Brand_4\n",
       "48125   110824211      PLUMAS 3         500 G Brand_4      Brand_4\n",
       "48126  1408670389  MACARRONES       500 G Store_Brand  Store_Brand\n",
       "48127  1408670389  SPAGHETTI        500 G Store_Brand  Store_Brand\n",
       "48128    48582221  SPAGHETTINI      500 G Store_Brand  Store_Brand\n",
       "\n",
       "[48129 rows x 3 columns]"
      ]
     },
     "execution_count": 47,
     "metadata": {},
     "output_type": "execute_result"
    }
   ],
   "source": [
    "user_df = user_df[['user_id', 'brand_info', 'brand_name']]\n",
    "user_df"
   ]
  },
  {
   "cell_type": "markdown",
   "id": "dd692d31",
   "metadata": {},
   "source": [
    "---\n",
    "**Вот эти две записи равносильны**\n",
    "\n",
    "```\n",
    "lambda x: x.split()[-1]\n",
    "```\n",
    "\n",
    "**и** \n",
    "\n",
    "```\n",
    "def f(x):\n",
    "    return x.split()[-1]\n",
    "```\n",
    "---"
   ]
  },
  {
   "cell_type": "markdown",
   "id": "2db065e2",
   "metadata": {},
   "source": [
    "Можно приступать к более интересной аналитике, искать лояльных клиентов"
   ]
  },
  {
   "cell_type": "markdown",
   "id": "a0a28f35",
   "metadata": {},
   "source": [
    ">  ***Хотим проверить гипотезу что в наших данных о покупках, есть такие пользователи, которых мы можем назвать лояльными к определенным брендам***"
   ]
  },
  {
   "cell_type": "markdown",
   "id": "2975986a",
   "metadata": {},
   "source": [
    "стадия аналитики - сгруппируем по user_id"
   ]
  },
  {
   "cell_type": "code",
   "execution_count": 50,
   "id": "c5ddce4e",
   "metadata": {},
   "outputs": [],
   "source": [
    "users_purchases = user_df.groupby('user_id', as_index=False) \\\n",
    "    .agg({'brand_name': 'count'})"
   ]
  },
  {
   "cell_type": "markdown",
   "id": "29d2e74f",
   "metadata": {},
   "source": [
    "сгруппировали по user_id, посчитали сколько покупок в кждом бренде"
   ]
  },
  {
   "cell_type": "code",
   "execution_count": 51,
   "id": "0ece0fd4",
   "metadata": {},
   "outputs": [
    {
     "data": {
      "text/html": [
       "<div>\n",
       "<style scoped>\n",
       "    .dataframe tbody tr th:only-of-type {\n",
       "        vertical-align: middle;\n",
       "    }\n",
       "\n",
       "    .dataframe tbody tr th {\n",
       "        vertical-align: top;\n",
       "    }\n",
       "\n",
       "    .dataframe thead th {\n",
       "        text-align: right;\n",
       "    }\n",
       "</style>\n",
       "<table border=\"1\" class=\"dataframe\">\n",
       "  <thead>\n",
       "    <tr style=\"text-align: right;\">\n",
       "      <th></th>\n",
       "      <th>user_id</th>\n",
       "      <th>brand_name</th>\n",
       "    </tr>\n",
       "  </thead>\n",
       "  <tbody>\n",
       "    <tr>\n",
       "      <th>0</th>\n",
       "      <td>-1236394515</td>\n",
       "      <td>1</td>\n",
       "    </tr>\n",
       "    <tr>\n",
       "      <th>1</th>\n",
       "      <td>1031</td>\n",
       "      <td>6</td>\n",
       "    </tr>\n",
       "    <tr>\n",
       "      <th>2</th>\n",
       "      <td>4241</td>\n",
       "      <td>5</td>\n",
       "    </tr>\n",
       "    <tr>\n",
       "      <th>3</th>\n",
       "      <td>17311</td>\n",
       "      <td>2</td>\n",
       "    </tr>\n",
       "    <tr>\n",
       "      <th>4</th>\n",
       "      <td>17312</td>\n",
       "      <td>2</td>\n",
       "    </tr>\n",
       "    <tr>\n",
       "      <th>...</th>\n",
       "      <td>...</td>\n",
       "      <td>...</td>\n",
       "    </tr>\n",
       "    <tr>\n",
       "      <th>11759</th>\n",
       "      <td>1408817589</td>\n",
       "      <td>3</td>\n",
       "    </tr>\n",
       "    <tr>\n",
       "      <th>11760</th>\n",
       "      <td>1408825059</td>\n",
       "      <td>1</td>\n",
       "    </tr>\n",
       "    <tr>\n",
       "      <th>11761</th>\n",
       "      <td>1408832719</td>\n",
       "      <td>3</td>\n",
       "    </tr>\n",
       "    <tr>\n",
       "      <th>11762</th>\n",
       "      <td>1408840919</td>\n",
       "      <td>1</td>\n",
       "    </tr>\n",
       "    <tr>\n",
       "      <th>11763</th>\n",
       "      <td>1408849249</td>\n",
       "      <td>1</td>\n",
       "    </tr>\n",
       "  </tbody>\n",
       "</table>\n",
       "<p>11764 rows × 2 columns</p>\n",
       "</div>"
      ],
      "text/plain": [
       "          user_id  brand_name\n",
       "0     -1236394515           1\n",
       "1            1031           6\n",
       "2            4241           5\n",
       "3           17311           2\n",
       "4           17312           2\n",
       "...           ...         ...\n",
       "11759  1408817589           3\n",
       "11760  1408825059           1\n",
       "11761  1408832719           3\n",
       "11762  1408840919           1\n",
       "11763  1408849249           1\n",
       "\n",
       "[11764 rows x 2 columns]"
      ]
     },
     "execution_count": 51,
     "metadata": {},
     "output_type": "execute_result"
    }
   ],
   "source": [
    "users_purchases"
   ]
  },
  {
   "cell_type": "markdown",
   "id": "5dc532b5",
   "metadata": {},
   "source": [
    "т к теперь колонку brand_name отвечает за то скольео человек совершил покупок, то нужно его переименовать в группированных данных, это можно сделать сразу, но мы перепишем для последовательности изложения"
   ]
  },
  {
   "cell_type": "code",
   "execution_count": 52,
   "id": "bd6adcd7",
   "metadata": {},
   "outputs": [
    {
     "data": {
      "text/html": [
       "<div>\n",
       "<style scoped>\n",
       "    .dataframe tbody tr th:only-of-type {\n",
       "        vertical-align: middle;\n",
       "    }\n",
       "\n",
       "    .dataframe tbody tr th {\n",
       "        vertical-align: top;\n",
       "    }\n",
       "\n",
       "    .dataframe thead th {\n",
       "        text-align: right;\n",
       "    }\n",
       "</style>\n",
       "<table border=\"1\" class=\"dataframe\">\n",
       "  <thead>\n",
       "    <tr style=\"text-align: right;\">\n",
       "      <th></th>\n",
       "      <th>user_id</th>\n",
       "      <th>purchases</th>\n",
       "    </tr>\n",
       "  </thead>\n",
       "  <tbody>\n",
       "    <tr>\n",
       "      <th>0</th>\n",
       "      <td>-1236394515</td>\n",
       "      <td>1</td>\n",
       "    </tr>\n",
       "    <tr>\n",
       "      <th>1</th>\n",
       "      <td>1031</td>\n",
       "      <td>6</td>\n",
       "    </tr>\n",
       "    <tr>\n",
       "      <th>2</th>\n",
       "      <td>4241</td>\n",
       "      <td>5</td>\n",
       "    </tr>\n",
       "    <tr>\n",
       "      <th>3</th>\n",
       "      <td>17311</td>\n",
       "      <td>2</td>\n",
       "    </tr>\n",
       "    <tr>\n",
       "      <th>4</th>\n",
       "      <td>17312</td>\n",
       "      <td>2</td>\n",
       "    </tr>\n",
       "    <tr>\n",
       "      <th>...</th>\n",
       "      <td>...</td>\n",
       "      <td>...</td>\n",
       "    </tr>\n",
       "    <tr>\n",
       "      <th>11759</th>\n",
       "      <td>1408817589</td>\n",
       "      <td>3</td>\n",
       "    </tr>\n",
       "    <tr>\n",
       "      <th>11760</th>\n",
       "      <td>1408825059</td>\n",
       "      <td>1</td>\n",
       "    </tr>\n",
       "    <tr>\n",
       "      <th>11761</th>\n",
       "      <td>1408832719</td>\n",
       "      <td>3</td>\n",
       "    </tr>\n",
       "    <tr>\n",
       "      <th>11762</th>\n",
       "      <td>1408840919</td>\n",
       "      <td>1</td>\n",
       "    </tr>\n",
       "    <tr>\n",
       "      <th>11763</th>\n",
       "      <td>1408849249</td>\n",
       "      <td>1</td>\n",
       "    </tr>\n",
       "  </tbody>\n",
       "</table>\n",
       "<p>11764 rows × 2 columns</p>\n",
       "</div>"
      ],
      "text/plain": [
       "          user_id  purchases\n",
       "0     -1236394515          1\n",
       "1            1031          6\n",
       "2            4241          5\n",
       "3           17311          2\n",
       "4           17312          2\n",
       "...           ...        ...\n",
       "11759  1408817589          3\n",
       "11760  1408825059          1\n",
       "11761  1408832719          3\n",
       "11762  1408840919          1\n",
       "11763  1408849249          1\n",
       "\n",
       "[11764 rows x 2 columns]"
      ]
     },
     "execution_count": 52,
     "metadata": {},
     "output_type": "execute_result"
    }
   ],
   "source": [
    "users_purchases = user_df.groupby('user_id', as_index=False) \\\n",
    "    .agg({'brand_name': 'count'}) \\\n",
    "    .rename(columns={'brand_name': 'purchases'})\n",
    "\n",
    "users_purchases"
   ]
  },
  {
   "cell_type": "markdown",
   "id": "c9c354ec",
   "metadata": {},
   "source": [
    "пользователи с малым числом покупок это ненадежный источник информации, лучше смотреть только тех кто покупает много"
   ]
  },
  {
   "cell_type": "markdown",
   "id": "fd9a2b1c",
   "metadata": {},
   "source": [
    "поисследуем наших покупателей"
   ]
  },
  {
   "cell_type": "code",
   "execution_count": 53,
   "id": "a24e2ef7",
   "metadata": {},
   "outputs": [
    {
     "data": {
      "text/plain": [
       "2.0"
      ]
     },
     "execution_count": 53,
     "metadata": {},
     "output_type": "execute_result"
    }
   ],
   "source": [
    "users_purchases.purchases.median()"
   ]
  },
  {
   "cell_type": "markdown",
   "id": "66761c0b",
   "metadata": {},
   "source": [
    "Количество уникальных покупателей"
   ]
  },
  {
   "cell_type": "code",
   "execution_count": 55,
   "id": "c1855862",
   "metadata": {},
   "outputs": [
    {
     "data": {
      "text/plain": [
       "11764"
      ]
     },
     "execution_count": 55,
     "metadata": {},
     "output_type": "execute_result"
    }
   ],
   "source": [
    "users_purchases.shape[0] "
   ]
  },
  {
   "cell_type": "code",
   "execution_count": 56,
   "id": "174569c6",
   "metadata": {},
   "outputs": [
    {
     "data": {
      "text/plain": [
       "count    11764.000000\n",
       "mean         4.091210\n",
       "std          4.573143\n",
       "min          1.000000\n",
       "25%          1.000000\n",
       "50%          2.000000\n",
       "75%          5.000000\n",
       "max         60.000000\n",
       "Name: purchases, dtype: float64"
      ]
     },
     "execution_count": 56,
     "metadata": {},
     "output_type": "execute_result"
    }
   ],
   "source": [
    "users_purchases.purchases.describe()"
   ]
  },
  {
   "cell_type": "markdown",
   "id": "fef7b5c6",
   "metadata": {},
   "source": [
    "Мы видим что третья квартиль (75%) равна 5, т е есть 25% покупателей, которые совершили более 5 покупок\n",
    "И мы принимаем на себя ответственность что ожем срезать по третьей квартили и рассматривать только тех, кто совершил больше 5 покупок (наши выводы всегда вероятносны, мы никогда не уверены на 100%)"
   ]
  },
  {
   "cell_type": "markdown",
   "id": "eacdd52f",
   "metadata": {},
   "source": [
    "Отберем только тех покупателей, кто совершил больше 5 покупок"
   ]
  },
  {
   "cell_type": "code",
   "execution_count": 57,
   "id": "2458412a",
   "metadata": {},
   "outputs": [
    {
     "data": {
      "text/html": [
       "<div>\n",
       "<style scoped>\n",
       "    .dataframe tbody tr th:only-of-type {\n",
       "        vertical-align: middle;\n",
       "    }\n",
       "\n",
       "    .dataframe tbody tr th {\n",
       "        vertical-align: top;\n",
       "    }\n",
       "\n",
       "    .dataframe thead th {\n",
       "        text-align: right;\n",
       "    }\n",
       "</style>\n",
       "<table border=\"1\" class=\"dataframe\">\n",
       "  <thead>\n",
       "    <tr style=\"text-align: right;\">\n",
       "      <th></th>\n",
       "      <th>user_id</th>\n",
       "      <th>purchases</th>\n",
       "    </tr>\n",
       "  </thead>\n",
       "  <tbody>\n",
       "    <tr>\n",
       "      <th>1</th>\n",
       "      <td>1031</td>\n",
       "      <td>6</td>\n",
       "    </tr>\n",
       "    <tr>\n",
       "      <th>11</th>\n",
       "      <td>25971</td>\n",
       "      <td>7</td>\n",
       "    </tr>\n",
       "    <tr>\n",
       "      <th>14</th>\n",
       "      <td>40911</td>\n",
       "      <td>27</td>\n",
       "    </tr>\n",
       "    <tr>\n",
       "      <th>21</th>\n",
       "      <td>63001</td>\n",
       "      <td>8</td>\n",
       "    </tr>\n",
       "    <tr>\n",
       "      <th>22</th>\n",
       "      <td>63441</td>\n",
       "      <td>6</td>\n",
       "    </tr>\n",
       "    <tr>\n",
       "      <th>...</th>\n",
       "      <td>...</td>\n",
       "      <td>...</td>\n",
       "    </tr>\n",
       "    <tr>\n",
       "      <th>11679</th>\n",
       "      <td>1010245999</td>\n",
       "      <td>12</td>\n",
       "    </tr>\n",
       "    <tr>\n",
       "      <th>11750</th>\n",
       "      <td>1408783189</td>\n",
       "      <td>10</td>\n",
       "    </tr>\n",
       "    <tr>\n",
       "      <th>11751</th>\n",
       "      <td>1408783379</td>\n",
       "      <td>6</td>\n",
       "    </tr>\n",
       "    <tr>\n",
       "      <th>11754</th>\n",
       "      <td>1408798879</td>\n",
       "      <td>8</td>\n",
       "    </tr>\n",
       "    <tr>\n",
       "      <th>11757</th>\n",
       "      <td>1408810219</td>\n",
       "      <td>9</td>\n",
       "    </tr>\n",
       "  </tbody>\n",
       "</table>\n",
       "<p>2619 rows × 2 columns</p>\n",
       "</div>"
      ],
      "text/plain": [
       "          user_id  purchases\n",
       "1            1031          6\n",
       "11          25971          7\n",
       "14          40911         27\n",
       "21          63001          8\n",
       "22          63441          6\n",
       "...           ...        ...\n",
       "11679  1010245999         12\n",
       "11750  1408783189         10\n",
       "11751  1408783379          6\n",
       "11754  1408798879          8\n",
       "11757  1408810219          9\n",
       "\n",
       "[2619 rows x 2 columns]"
      ]
     },
     "execution_count": 57,
     "metadata": {},
     "output_type": "execute_result"
    }
   ],
   "source": [
    "users_purchases = user_df.groupby('user_id', as_index=False) \\\n",
    "    .agg({'brand_name': 'count'}) \\\n",
    "    .rename(columns={'brand_name': 'purchases'}) \\\n",
    "    .query('purchases > 5')\n",
    "\n",
    "users_purchases"
   ]
  },
  {
   "cell_type": "code",
   "execution_count": 58,
   "id": "9e5d8d69",
   "metadata": {},
   "outputs": [
    {
     "data": {
      "text/plain": [
       "count    2619.000000\n",
       "mean       10.580374\n",
       "std         5.815860\n",
       "min         6.000000\n",
       "25%         7.000000\n",
       "50%         9.000000\n",
       "75%        12.000000\n",
       "max        60.000000\n",
       "Name: purchases, dtype: float64"
      ]
     },
     "execution_count": 58,
     "metadata": {},
     "output_type": "execute_result"
    }
   ],
   "source": [
    "users_purchases.purchases.describe()"
   ]
  },
  {
   "cell_type": "code",
   "execution_count": null,
   "id": "0fa4c669",
   "metadata": {},
   "outputs": [],
   "source": []
  },
  {
   "cell_type": "code",
   "execution_count": null,
   "id": "19ce6b54",
   "metadata": {},
   "outputs": [],
   "source": []
  },
  {
   "cell_type": "code",
   "execution_count": null,
   "id": "d8ae4a80",
   "metadata": {},
   "outputs": [],
   "source": []
  },
  {
   "cell_type": "code",
   "execution_count": null,
   "id": "f212df80",
   "metadata": {},
   "outputs": [],
   "source": []
  },
  {
   "cell_type": "code",
   "execution_count": null,
   "id": "ee17941b",
   "metadata": {},
   "outputs": [],
   "source": []
  },
  {
   "cell_type": "code",
   "execution_count": null,
   "id": "9d617e00",
   "metadata": {},
   "outputs": [],
   "source": []
  }
 ],
 "metadata": {
  "kernelspec": {
   "display_name": "Python 3 (ipykernel)",
   "language": "python",
   "name": "python3"
  },
  "language_info": {
   "codemirror_mode": {
    "name": "ipython",
    "version": 3
   },
   "file_extension": ".py",
   "mimetype": "text/x-python",
   "name": "python",
   "nbconvert_exporter": "python",
   "pygments_lexer": "ipython3",
   "version": "3.9.7"
  }
 },
 "nbformat": 4,
 "nbformat_minor": 5
}
