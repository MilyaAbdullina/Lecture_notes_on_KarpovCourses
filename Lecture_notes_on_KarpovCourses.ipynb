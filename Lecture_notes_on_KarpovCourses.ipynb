{
 "cells": [
  {
   "cell_type": "markdown",
   "id": "d249b6fb",
   "metadata": {},
   "source": [
    "#### Лекции из  курса \n",
    "\n",
    "## \"Аналитик Данных\"\n",
    "от ***Анатолия Карпова***"
   ]
  },
  {
   "cell_type": "markdown",
   "id": "4b352d32",
   "metadata": {},
   "source": [
    "### Урок 1\n",
    "### Введение в Python и интерфейс Jupyter-Notebook"
   ]
  },
  {
   "cell_type": "markdown",
   "id": "de3d266e",
   "metadata": {},
   "source": [
    "<a name=\"abcde\">\n",
    "    \n",
    "___\n",
    "[Общий TUTORIAL](https://docs.python.org/3/contents.html) \n",
    "\n",
    "_я пользуюсь Ctrl + F_\n"
   ]
  },
  {
   "cell_type": "code",
   "execution_count": 1,
   "id": "bc35790d",
   "metadata": {},
   "outputs": [],
   "source": [
    "analysts = ['A', 'O', 'B'] # лучше не перезаписывать определеннную переменную, т е не сюда  вписывать четвертого члена, \n",
    "# а использовать команды append"
   ]
  },
  {
   "cell_type": "code",
   "execution_count": 2,
   "id": "1ce19197",
   "metadata": {},
   "outputs": [],
   "source": [
    "years = [2, 3, 4]"
   ]
  },
  {
   "cell_type": "code",
   "execution_count": 3,
   "id": "58db6de5",
   "metadata": {},
   "outputs": [],
   "source": [
    "analysts.append('M') # метод append"
   ]
  },
  {
   "cell_type": "code",
   "execution_count": 4,
   "id": "8805f74f",
   "metadata": {},
   "outputs": [
    {
     "data": {
      "text/plain": [
       "['A', 'O', 'B', 'M']"
      ]
     },
     "execution_count": 4,
     "metadata": {},
     "output_type": "execute_result"
    }
   ],
   "source": [
    "analysts"
   ]
  },
  {
   "cell_type": "code",
   "execution_count": 5,
   "id": "ca8ce431",
   "metadata": {},
   "outputs": [
    {
     "data": {
      "text/plain": [
       "4"
      ]
     },
     "execution_count": 5,
     "metadata": {},
     "output_type": "execute_result"
    }
   ],
   "source": [
    "len(analysts) # узнаем длину списка"
   ]
  },
  {
   "cell_type": "code",
   "execution_count": 6,
   "id": "0b15960e",
   "metadata": {},
   "outputs": [
    {
     "data": {
      "text/plain": [
       "'M'"
      ]
     },
     "execution_count": 6,
     "metadata": {},
     "output_type": "execute_result"
    }
   ],
   "source": [
    "analysts.pop(3) # метод pop - убираем третий элемент из списка, третий с учетом того что начинается с 0"
   ]
  },
  {
   "cell_type": "code",
   "execution_count": 7,
   "id": "f7d3325d",
   "metadata": {},
   "outputs": [
    {
     "data": {
      "text/plain": [
       "['A', 'O', 'B']"
      ]
     },
     "execution_count": 7,
     "metadata": {},
     "output_type": "execute_result"
    }
   ],
   "source": [
    "analysts"
   ]
  },
  {
   "cell_type": "markdown",
   "id": "1bb2e15a",
   "metadata": {},
   "source": [
    "___\n",
    "#### Конструкция \n",
    "\n",
    ">***IF:***\n",
    "\n",
    ">***ELSE:***\n",
    "\n",
    "[Tutorial](https://www.tutorialspoint.com/python/python_basic_syntax.htm)"
   ]
  },
  {
   "cell_type": "markdown",
   "id": "a74eb878",
   "metadata": {},
   "source": [
    "_Переменные логического типа **TRUE** и **FALSE** (bool)_ нам потребуются"
   ]
  },
  {
   "cell_type": "code",
   "execution_count": 8,
   "id": "f60ebffa",
   "metadata": {},
   "outputs": [],
   "source": [
    "has_job = False\n"
   ]
  },
  {
   "cell_type": "code",
   "execution_count": 9,
   "id": "da11c4b9",
   "metadata": {},
   "outputs": [
    {
     "name": "stdout",
     "output_type": "stream",
     "text": [
      "Anatoly is sad!\n"
     ]
    }
   ],
   "source": [
    "if has_job:\n",
    "    print('Anatoly is happy!')\n",
    "else:\n",
    "    print('Anatoly is sad!')"
   ]
  },
  {
   "cell_type": "code",
   "execution_count": 10,
   "id": "f6c76dc6",
   "metadata": {},
   "outputs": [
    {
     "data": {
      "text/plain": [
       "False"
      ]
     },
     "execution_count": 10,
     "metadata": {},
     "output_type": "execute_result"
    }
   ],
   "source": [
    "False == True"
   ]
  },
  {
   "cell_type": "markdown",
   "id": "4ffbd048",
   "metadata": {},
   "source": [
    "#### !!!Код должен быть максимально понятен всем читающим, и он должен быть максимально короток!"
   ]
  },
  {
   "cell_type": "code",
   "execution_count": 11,
   "id": "d0e7632e",
   "metadata": {},
   "outputs": [
    {
     "name": "stdout",
     "output_type": "stream",
     "text": [
      "Anatoly is sad!\n"
     ]
    }
   ],
   "source": [
    "if has_job:\n",
    "    message = 'Anatoly is happy!'\n",
    "else:\n",
    "    message = 'Anatoly is sad!'\n",
    "print(message)"
   ]
  },
  {
   "cell_type": "markdown",
   "id": "3a95df55",
   "metadata": {},
   "source": [
    "_Условия не всегда бинарные, если у нас более двух исходов, то используем нижеследующую конструкцию_"
   ]
  },
  {
   "cell_type": "code",
   "execution_count": 12,
   "id": "12627434",
   "metadata": {},
   "outputs": [],
   "source": [
    "job_years = 5"
   ]
  },
  {
   "cell_type": "code",
   "execution_count": 13,
   "id": "95d9d6f4",
   "metadata": {},
   "outputs": [],
   "source": [
    "salary = 200000"
   ]
  },
  {
   "cell_type": "code",
   "execution_count": 14,
   "id": "e28adfbb",
   "metadata": {},
   "outputs": [
    {
     "name": "stdout",
     "output_type": "stream",
     "text": [
      "0.4 addition\n",
      "280000.0\n"
     ]
    }
   ],
   "source": [
    "if job_years < 1:\n",
    "    print('No addition money')\n",
    "    new_salary = salary + salary * 0\n",
    "elif job_years >= 1 and job_years <=2:\n",
    "    print('0.2 addition')\n",
    "    new_salary = salary + salary * 0.2\n",
    "else:\n",
    "    print('0.4 addition')\n",
    "    new_salary = salary + salary * 0.4\n",
    "    \n",
    "print(new_salary)"
   ]
  },
  {
   "cell_type": "markdown",
   "id": "f75bd3ea",
   "metadata": {},
   "source": [
    "___\n",
    "#### Метод строк Format\n",
    "\n",
    ">***FORMAT***\n",
    "\n",
    "_Попробуем усовершенствовать код написанный выше_\n",
    "\n",
    "[Метод format пояснения на русском](https://pythonworld.ru/osnovy/formatirovanie-strok-metod-format.html)"
   ]
  },
  {
   "cell_type": "code",
   "execution_count": 15,
   "id": "11dc1cdc",
   "metadata": {},
   "outputs": [],
   "source": [
    "message = 'Addition is equal ' # заведем заготовку сообщения"
   ]
  },
  {
   "cell_type": "code",
   "execution_count": 16,
   "id": "8864a865",
   "metadata": {},
   "outputs": [
    {
     "name": "stdout",
     "output_type": "stream",
     "text": [
      "Addition is equal 0.4\n",
      "280000.0\n"
     ]
    }
   ],
   "source": [
    "if job_years < 1:\n",
    "    coef = 0\n",
    "elif job_years >= 1 and job_years <=2:\n",
    "    coef = 0.2\n",
    "else:\n",
    "    coef = 0.4\n",
    "    \n",
    "new_salary = salary + salary * coef \n",
    "\n",
    "print(message + str(coef)) # конкетинрование строк (сложение) через + не самое лучшее решение\n",
    "print(new_salary)"
   ]
  },
  {
   "cell_type": "markdown",
   "id": "2c7b9ff0",
   "metadata": {},
   "source": [
    "_Есть специальный FORMAT для такого случая_"
   ]
  },
  {
   "cell_type": "code",
   "execution_count": 17,
   "id": "91ea9342",
   "metadata": {},
   "outputs": [],
   "source": [
    "message = 'Addition is equal {}'.format(coef) # "
   ]
  },
  {
   "cell_type": "code",
   "execution_count": 18,
   "id": "8ea43bd2",
   "metadata": {},
   "outputs": [
    {
     "data": {
      "text/plain": [
       "'Addition is equal 0.4'"
      ]
     },
     "execution_count": 18,
     "metadata": {},
     "output_type": "execute_result"
    }
   ],
   "source": [
    "message"
   ]
  },
  {
   "cell_type": "markdown",
   "id": "2ec72efe",
   "metadata": {},
   "source": [
    "_Но если заранее не известна эта переменная, то лучше делать FORMAT после определения коэффициента_"
   ]
  },
  {
   "cell_type": "code",
   "execution_count": 19,
   "id": "9470a0d8",
   "metadata": {},
   "outputs": [],
   "source": [
    "message = 'Addition is equal {}. New salary is {}.'"
   ]
  },
  {
   "cell_type": "code",
   "execution_count": 20,
   "id": "b827b1c1",
   "metadata": {},
   "outputs": [
    {
     "name": "stdout",
     "output_type": "stream",
     "text": [
      "Addition is equal 0.4. New salary is 280000.0.\n"
     ]
    }
   ],
   "source": [
    "if job_years < 1:\n",
    "    coef = 0\n",
    "elif job_years >= 1 and job_years <=2:\n",
    "    coef = 0.2\n",
    "else:\n",
    "    coef = 0.4\n",
    "    \n",
    "new_salary = salary + salary * coef \n",
    "\n",
    "print(message.format(coef, new_salary)) # через FORMAT\n"
   ]
  },
  {
   "cell_type": "markdown",
   "id": "604b845b",
   "metadata": {},
   "source": [
    "___\n",
    "#### Конструкция \n",
    "\n",
    ">***FOR***\n",
    "\n"
   ]
  },
  {
   "cell_type": "code",
   "execution_count": 21,
   "id": "e122d7a7",
   "metadata": {},
   "outputs": [],
   "source": [
    "analysts = ['Anatoly', 'Olga', 'Beslan'] # так переменную (список) лучше не перезаписывать, лучше обращаться к существующему\n",
    "#списку, мы скопировали, чтоб вспомнить  в рамках лекции"
   ]
  },
  {
   "cell_type": "code",
   "execution_count": 22,
   "id": "d211295b",
   "metadata": {},
   "outputs": [
    {
     "name": "stdout",
     "output_type": "stream",
     "text": [
      "Anatoly\n",
      "Olga\n",
      "Beslan\n"
     ]
    }
   ],
   "source": [
    "for analyst in analysts: # переменную можно называть по любому, но лучше чтоб было понятно, не просто i\n",
    "    print(analyst)"
   ]
  },
  {
   "cell_type": "code",
   "execution_count": 23,
   "id": "fd5e937c",
   "metadata": {},
   "outputs": [
    {
     "name": "stdout",
     "output_type": "stream",
     "text": [
      "Anatoly\n",
      "Olga\n",
      "Beslan\n"
     ]
    }
   ],
   "source": [
    "for _ in analysts: # также допускается прочерк вместо переменной, если мы ее потом не используем нигде\n",
    "    print(_)"
   ]
  },
  {
   "cell_type": "code",
   "execution_count": 24,
   "id": "afbede69",
   "metadata": {},
   "outputs": [
    {
     "name": "stdout",
     "output_type": "stream",
     "text": [
      "Analyst namу is Anatoly\n",
      "Analyst namу is Olga\n",
      "Analyst namу is Beslan\n"
     ]
    }
   ],
   "source": [
    "for _ in analysts: # также допускается прочерк вместо переменной, даже в формате\n",
    "    print('Analyst namу is {}'.format(_))"
   ]
  },
  {
   "cell_type": "markdown",
   "id": "56f20bac",
   "metadata": {},
   "source": [
    "_Цикл for может пробежаться по каждому элементу массива (список, табличные данные, словари)_"
   ]
  },
  {
   "cell_type": "markdown",
   "id": "3606e4b1",
   "metadata": {},
   "source": [
    "___\n",
    "#### Словари\n",
    "\n",
    ">***DICTIONARY***\n",
    "\n",
    "[Tutorial](https://www.tutorialspoint.com/python/python_dictionary.htm)\n",
    "\n",
    "_С использованием ключа_\n",
    "\n",
    "Синтаксис элементов в словаре – ```{key: value}```"
   ]
  },
  {
   "cell_type": "markdown",
   "id": "1aea417d",
   "metadata": {},
   "source": [
    "_Анатолий_ советует тренироваться на Python дома, чтоб набить руку, подойдет [leetcode](https://leetcode.com/)"
   ]
  },
  {
   "cell_type": "code",
   "execution_count": 25,
   "id": "543eeb36",
   "metadata": {},
   "outputs": [],
   "source": [
    "analyst_data = {'Anatoly': 2, 'Olga': 3, 'Beslan': 4} # особенность словаря, что есть ключ (имя в нашем случае) \n",
    "# и значение (опыт работы в нашем случае)"
   ]
  },
  {
   "cell_type": "code",
   "execution_count": 26,
   "id": "e860f3cf",
   "metadata": {},
   "outputs": [
    {
     "data": {
      "text/plain": [
       "4"
      ]
     },
     "execution_count": 26,
     "metadata": {},
     "output_type": "execute_result"
    }
   ],
   "source": [
    "analyst_data['Beslan'] # к значению уже обращаемся не по индексу, а по ключу"
   ]
  },
  {
   "cell_type": "code",
   "execution_count": 27,
   "id": "6f628867",
   "metadata": {},
   "outputs": [],
   "source": [
    "analyst_data['Michael'] = 10 # добавляем аналогично элемент, но уже по ключу"
   ]
  },
  {
   "cell_type": "code",
   "execution_count": 28,
   "id": "3aa87794",
   "metadata": {},
   "outputs": [
    {
     "data": {
      "text/plain": [
       "{'Anatoly': 2, 'Olga': 3, 'Beslan': 4, 'Michael': 10}"
      ]
     },
     "execution_count": 28,
     "metadata": {},
     "output_type": "execute_result"
    }
   ],
   "source": [
    "analyst_data"
   ]
  },
  {
   "cell_type": "code",
   "execution_count": 30,
   "id": "bc903703",
   "metadata": {},
   "outputs": [],
   "source": [
    "# analyst_data[0] # получим ошибку, т к по индексу к словарю обращаться нельзя"
   ]
  },
  {
   "attachments": {
    "%D0%B8%D0%B7%D0%BE%D0%B1%D1%80%D0%B0%D0%B6%D0%B5%D0%BD%D0%B8%D0%B5.png": {
     "image/png": "[encoded data removed]"
    }
   },
   "cell_type": "markdown",
   "id": "98683f0b",
   "metadata": {},
   "source": [
    "![%D0%B8%D0%B7%D0%BE%D0%B1%D1%80%D0%B0%D0%B6%D0%B5%D0%BD%D0%B8%D0%B5.png](attachment:%D0%B8%D0%B7%D0%BE%D0%B1%D1%80%D0%B0%D0%B6%D0%B5%D0%BD%D0%B8%D0%B5.png)"
   ]
  },
  {
   "cell_type": "markdown",
   "id": "f8971e37",
   "metadata": {},
   "source": [
    "_Словарь удобен для хранения связки информации_"
   ]
  },
  {
   "cell_type": "code",
   "execution_count": null,
   "id": "dd114182",
   "metadata": {},
   "outputs": [],
   "source": [
    "analyst_data = {'Anatoly': [2, 10000], 'Olga': [3, 20000], 'Beslan': [4, 30000]} # можем добавлять list в качестве значения"
   ]
  },
  {
   "cell_type": "code",
   "execution_count": null,
   "id": "228a3796",
   "metadata": {},
   "outputs": [],
   "source": [
    "message_data = 'Analyst name is {}, experience is {}, salary is {}.'\n",
    "for i in analyst_data:\n",
    "    name = i\n",
    "    experience = analyst_data[i][0]\n",
    "    salary = analyst_data[i][1]\n",
    "    print(message_data.format(name, experience, salary)) # цикл для печати текста о каждом аналитике"
   ]
  },
  {
   "cell_type": "markdown",
   "id": "f8e1cda5",
   "metadata": {},
   "source": [
    "_Можно внутри цикла накручивать логические операции_"
   ]
  },
  {
   "cell_type": "code",
   "execution_count": null,
   "id": "19dc4db8",
   "metadata": {},
   "outputs": [],
   "source": [
    "print('C опытом больше или равно 3 года в компании:')\n",
    "for i in analyst_data:\n",
    "    if analyst_data[i][0] >= 3:\n",
    "        print(i, analyst_data[i][0])"
   ]
  },
  {
   "cell_type": "markdown",
   "id": "0666580e",
   "metadata": {},
   "source": [
    "### _ДЗ на [Stepic](https://stepik.org/lesson/375661/step/2?unit=363411)_"
   ]
  },
  {
   "cell_type": "markdown",
   "id": "e701c107",
   "metadata": {},
   "source": [
    "Начнём с простого: сохраните в переменную age произвольный возраст, выраженный целым числом, а в переменную name – какое-нибудь имя в виде строки."
   ]
  },
  {
   "cell_type": "code",
   "execution_count": null,
   "id": "e6b4e92e",
   "metadata": {},
   "outputs": [],
   "source": [
    "age = 15\n",
    "name = 'Sasha'"
   ]
  },
  {
   "cell_type": "markdown",
   "id": "95bca700",
   "metadata": {},
   "source": [
    "Создайте список user_info, содержащий 4 элемента:\n",
    "\n",
    "    - 2 строки (имя и фамилия пользователя)\n",
    "    - 1 дробное число (зарплата)\n",
    "    - 1 целое число (стаж)\n"
   ]
  },
  {
   "cell_type": "code",
   "execution_count": null,
   "id": "d29d2bbd",
   "metadata": {},
   "outputs": [],
   "source": [
    "user_info = ['Alex', 'Mak', 252525.50, 5]"
   ]
  },
  {
   "cell_type": "markdown",
   "id": "a699955c",
   "metadata": {},
   "source": [
    "Поместите в переменную **firs**t первый (т.е. нулевой) элемент из списка **salaries**. Сам список создавать не нужно, он уже находится в переменной **salaries**."
   ]
  },
  {
   "cell_type": "code",
   "execution_count": null,
   "id": "a1fac42b",
   "metadata": {},
   "outputs": [],
   "source": [
    "salaries = (252525.50, 252525.50) # в степике не нужно это создавать\n",
    "first = salaries[0]"
   ]
  },
  {
   "cell_type": "markdown",
   "id": "b6448390",
   "metadata": {},
   "source": [
    "Добавьте в уже созданный список users элементы _'Voronov'_ и _42_."
   ]
  },
  {
   "cell_type": "code",
   "execution_count": null,
   "id": "a6602f0c",
   "metadata": {},
   "outputs": [],
   "source": [
    "users = list() # в степике не нужно это создавать\n",
    "users.append('Voronov')\n",
    "users.append(42)\n"
   ]
  },
  {
   "cell_type": "markdown",
   "id": "b6f87b00",
   "metadata": {},
   "source": [
    "В переменной **user_ages** содержится список возрастов клиентов. Напишите цикл, выводящий на печать элементы больше 18.\n",
    "\n",
    "Пример данных, которые могут быть в user_ages:\n",
    "\n",
    "```\n",
    "user_ages = [10, 18, 21, 35, 42, 27, 12, 16]\n",
    "```\n",
    "\n",
    "Note: в этом задании эти числа нужно печатать."
   ]
  },
  {
   "cell_type": "code",
   "execution_count": null,
   "id": "f1e73a06",
   "metadata": {},
   "outputs": [],
   "source": [
    "user_ages = [10, 18, 21, 35, 42, 27, 12, 16] # эта строчка в степике не нужна\n",
    "for i in user_ages:\n",
    "    if i > 18:\n",
    "        print(i)"
   ]
  },
  {
   "cell_type": "markdown",
   "id": "12521f42",
   "metadata": {},
   "source": [
    "Напишите программу, проверяющую стаж работы сотрудника. В переменной **worker** содержится список, содержащий значения как во 2-м задании (имя, фамилия, зарплата, стаж). Поместите в переменную **status** следующую строку:\n",
    "\n",
    "```\n",
    "user_name user_family is position\n",
    "```\n",
    "\n",
    "где **user_name** и **user_family** — имя и фамилия сотрудника, а **position** — одно из следующих значений:\n",
    "\n",
    "    'junior' — стаж меньше 2 лет\n",
    "    'middle' — стаж больше либо равен 2 лет\n",
    "    'senior' — стаж больше 5 лет \n",
    "\n",
    "Пример данных, которые могут быть в worker:\n",
    "\n",
    "```\n",
    "worker = ['Olya', 'Silyutina', 350000, 3]\n",
    "```\n",
    "\n",
    "Hint: печатать результат не нужно, просто запишите его в переменную status."
   ]
  },
  {
   "cell_type": "code",
   "execution_count": null,
   "id": "61a200eb",
   "metadata": {},
   "outputs": [],
   "source": [
    "worker = ['Olya', 'Silyutina', 350000, 3] # эта строчка в степике не нужна\n",
    "if worker[3] < 2:\n",
    "    position = 'junior'\n",
    "elif 2 <= worker[3] <= 5:\n",
    "    position = 'middle'\n",
    "else:\n",
    "    position = 'senior'\n",
    "\n",
    "\n",
    "status = worker[0] + ' ' + worker[1] + ' ' + 'is' + ' ' + position # сделали без format, но лучше так не делать!\n",
    "status"
   ]
  },
  {
   "cell_type": "markdown",
   "id": "4cfa2138",
   "metadata": {},
   "source": [
    "В списке **values** содержатся числовые значения. Создайте список **tens** и добавьте в него все числа из **values**, которые делятся на 10 нацело.\n",
    "\n",
    "Пример данных, которые могут быть в values:\n",
    "\n",
    "```\n",
    "values = [12, 134, 10, 47, 100, 20, 50, 160, 210]\n",
    "```"
   ]
  },
  {
   "cell_type": "code",
   "execution_count": null,
   "id": "40d99755",
   "metadata": {},
   "outputs": [],
   "source": [
    "values = [12, 134, 10, 47, 100, 20, 50, 160, 210] # в степике эта строчка не нужна\n",
    "tens = []\n",
    "for i in values:\n",
    "    if i % 10 == 0:\n",
    "        tens.append(i)\n",
    "tens # в степике выводить не нужно, здесь для просмотра "
   ]
  },
  {
   "cell_type": "markdown",
   "id": "04c4ed53",
   "metadata": {},
   "source": [
    "⭐️Задание со звёздочкой!⭐️\n",
    "\n",
    "Реализуйте цикл, который пробегается по уже созданному списку **workers** со значениями как в 2-м и 6-м заданиях и выводит для каждого сотрудника следующую строку (то есть печатает её для каждого элемента списка):\n",
    "\n",
    "```\n",
    "user_name user_family is position\n",
    "```\n",
    "\n",
    "где **user_name** и **user_family** — имя и фамилия сотрудника, а **position** — одна из следующих строк:\n",
    "\n",
    "    'junior' — стаж меньше 2 лет\n",
    "    'middle' — стаж больше либо равен 2\n",
    "    'senior' — стаж строго больше 5 лет \n",
    "\n",
    "Пример данных, которые могут быть в workers:\n",
    "\n",
    "```\n",
    "workers = [['Ivan', 'Ivanov', 100000, 2], ['Petr', 'Petrov', 150000, 2], ['Sidor', 'Sidorov', 200000, 3]]\n",
    "```\n",
    "\n",
    "Note: в этом задании эти строки нужно печатать."
   ]
  },
  {
   "cell_type": "code",
   "execution_count": null,
   "id": "24b05261",
   "metadata": {},
   "outputs": [],
   "source": [
    "workers = [['Ivan', 'Ivanov', 100000, 2], ['Petr', 'Petrov', 150000, 2], ['Sidor', 'Sidorov', 200000, 3]] # в степике эта строка не нужна\n",
    "def text (worker):\n",
    "    if worker[3] > 5:\n",
    "        position ='senior'\n",
    "    elif worker[3] < 2:\n",
    "        position ='junior'\n",
    "    else:\n",
    "        position ='middle'\n",
    "    status = '{} {} is {}'.format(worker[0],worker[1],position)\n",
    "    return status\n",
    "\n",
    "for i in workers:\n",
    "    print(text(i))"
   ]
  },
  {
   "cell_type": "markdown",
   "id": "d12d6621",
   "metadata": {},
   "source": [
    "___\n",
    "___\n",
    "___"
   ]
  },
  {
   "cell_type": "markdown",
   "id": "b0d9cdd3",
   "metadata": {},
   "source": [
    "### Урок 2\n",
    "### Введение в библиотеку pandas"
   ]
  },
  {
   "cell_type": "markdown",
   "id": "77ed6fac",
   "metadata": {},
   "source": [
    "Всегда ```import``` нужно делать в самой первой строке, в начале кода (_здесь мы отклоняемся от этого правила, для сохранения порядка конспекта лекции_)\n",
    "\n",
    "В идеале все ```import```  должны быть [здесь](#abcde)\n",
    "\n",
    "[Общий TUTORIAL](https://pandas.pydata.org/pandas-docs/stable/user_guide/10min.html?highlight=method)"
   ]
  },
  {
   "cell_type": "code",
   "execution_count": 3,
   "id": "c18985c5",
   "metadata": {},
   "outputs": [],
   "source": [
    "import pandas as pd # импортировали библиотеку pandas как pd? далее будем обращаться к библиотеке по сокращению pd"
   ]
  },
  {
   "cell_type": "markdown",
   "id": "610143be",
   "metadata": {},
   "source": [
    "***! После начала набора можем нажать на Tab чтобы выпал список операций***\n",
    "\n",
    "Также стоит обратить внимание, что если наш файл с данными лежит в той же папке, где и наш _jupyter notebook_, то можно к нему обращаться без указания адреса, но если указать полный адрес, будет то же самое, т е оба приведенных варианта работают в нашем случае"
   ]
  },
  {
   "cell_type": "code",
   "execution_count": 4,
   "id": "00599191",
   "metadata": {},
   "outputs": [],
   "source": [
    "df = pd.read_csv('lesson_1_data.csv', encoding = 'windows-1251', sep = ';')"
   ]
  },
  {
   "cell_type": "code",
   "execution_count": null,
   "id": "dc236869",
   "metadata": {},
   "outputs": [],
   "source": [
    "df = pd.read_csv('/Users/admin/jupyter_notebook/lesson_1_data.csv', encoding = 'windows-1251', sep = ';')"
   ]
  },
  {
   "cell_type": "markdown",
   "id": "a882610c",
   "metadata": {},
   "source": [
    "***!!! Всю информацию по библиотеке pandas берем [тут](https://pandas.pydata.org/pandas-docs/stable/index.html)***"
   ]
  },
  {
   "cell_type": "code",
   "execution_count": null,
   "id": "d8220302",
   "metadata": {},
   "outputs": [],
   "source": [
    "df\n"
   ]
  },
  {
   "cell_type": "markdown",
   "id": "523ed0b1",
   "metadata": {},
   "source": [
    "___\n",
    "#### Методы и атрибуты DataFrame\n",
    "\n",
    ">***DataFrame***\n",
    "\n",
    ">***Rename***\n",
    "\n"
   ]
  },
  {
   "cell_type": "code",
   "execution_count": null,
   "id": "575aec79",
   "metadata": {},
   "outputs": [],
   "source": [
    "df.head() # первые 5 наблюдений (можно менять число 5)"
   ]
  },
  {
   "cell_type": "code",
   "execution_count": null,
   "id": "ed5bf169",
   "metadata": {},
   "outputs": [],
   "source": [
    "df.tail() # последние 5 наблюдений (можно менять атрибут 5)"
   ]
  },
  {
   "cell_type": "code",
   "execution_count": null,
   "id": "bd8d51db",
   "metadata": {},
   "outputs": [],
   "source": [
    "df.shape # покажет размеры массива"
   ]
  },
  {
   "cell_type": "markdown",
   "id": "a00baa05",
   "metadata": {},
   "source": [
    "```tail(), head()``` со скобочками - это функции, которые применяются к *DataFrame*\n",
    "\n",
    "```shape``` без скобочек - это методы, которые также могут применяться к *DataFrame*\n",
    "\n",
    "___\n",
    "Вся аналитиака в *Python* это применение различных функций, методов к нашим данным"
   ]
  },
  {
   "cell_type": "code",
   "execution_count": null,
   "id": "4abf3d28",
   "metadata": {},
   "outputs": [],
   "source": [
    "df.dtypes"
   ]
  },
  {
   "cell_type": "code",
   "execution_count": null,
   "id": "83549e76",
   "metadata": {},
   "outputs": [],
   "source": [
    "df.describe() # describe будет отличаться если указать со скобками и без"
   ]
  },
  {
   "cell_type": "markdown",
   "id": "12b09644",
   "metadata": {},
   "source": [
    "___! У DataFrame есть набор атрибутов, и набор методов, комбинируя которые мы производим анализ данных___"
   ]
  },
  {
   "cell_type": "markdown",
   "id": "fb35f11f",
   "metadata": {},
   "source": [
    "__Названия колонок с пробелами, кириллицей надо менять, т к иначе мы не сможем обращаться  ним по типу__   ```df.title```"
   ]
  },
  {
   "cell_type": "markdown",
   "id": "9ad0b37c",
   "metadata": {},
   "source": [
    "Переименуем колонки (см [здесь](https://pandas.pydata.org/pandas-docs/stable/reference/api/pandas.DataFrame.rename.html?highlight=rename#pandas.DataFrame.rename) )\n",
    "\n",
    "Это важная часть предобработки данных!"
   ]
  },
  {
   "cell_type": "code",
   "execution_count": null,
   "id": "2f260823",
   "metadata": {},
   "outputs": [],
   "source": [
    "df.columns #выдаст колонки, которые сейчас есть в нашем DataFrame"
   ]
  },
  {
   "cell_type": "code",
   "execution_count": 6,
   "id": "09f6cbda",
   "metadata": {},
   "outputs": [],
   "source": [
    "df = df.rename(columns={\"Номер\": \"number\", \n",
    "                   \"Дата создания\": \"create_date\", \n",
    "                   \"Дата оплаты\": \"payment_date\", \n",
    "                   \"Title\": \"title\", \n",
    "                   \"Статус\": \"status\", \n",
    "                   \"Заработано\": \"money\", \n",
    "                   \"Город\": \"city\",\n",
    "                  \"Платежная система\": \"payment_system\"}) # внутри вызова функции можно спокойно переносить"
   ]
  },
  {
   "cell_type": "code",
   "execution_count": null,
   "id": "1d05999b",
   "metadata": {},
   "outputs": [],
   "source": [
    "df"
   ]
  },
  {
   "cell_type": "markdown",
   "id": "94432d1c",
   "metadata": {},
   "source": [
    "_Удобно обращаться к определенной колонке через точку, когда нет пробелов и русских букв_\n",
    "\n",
    "Если хотим несколько колонок отобрать, то должны писать их в квадратных скобках и в качестве списка, т е 2 пары квадратных скобок получается"
   ]
  },
  {
   "cell_type": "code",
   "execution_count": null,
   "id": "9bc48fa0",
   "metadata": {},
   "outputs": [],
   "source": [
    "df[['title', 'status']].head(7)"
   ]
  },
  {
   "cell_type": "code",
   "execution_count": 7,
   "id": "74acd918",
   "metadata": {},
   "outputs": [
    {
     "data": {
      "text/plain": [
       "0      Завершен\n",
       "1      Завершен\n",
       "2       Отменен\n",
       "3       Отменен\n",
       "4       Отменен\n",
       "         ...   \n",
       "287    Завершен\n",
       "288     Отменен\n",
       "289    Завершен\n",
       "290    Завершен\n",
       "291    Завершен\n",
       "Name: status, Length: 292, dtype: object"
      ]
     },
     "execution_count": 7,
     "metadata": {},
     "output_type": "execute_result"
    }
   ],
   "source": [
    "df.status"
   ]
  },
  {
   "cell_type": "markdown",
   "id": "63b1e95a",
   "metadata": {},
   "source": [
    "___\n",
    "#### Группировка, агрегация, сортировка\n",
    "\n",
    ">***groupby***\n",
    "\n",
    ">***agg***\n",
    "\n",
    ">***sort_values***\n"
   ]
  },
  {
   "cell_type": "markdown",
   "id": "e7fd4d62",
   "metadata": {},
   "source": [
    "Нужно сделать Отчет по тому какие курсы нам принесли как можно больше денег и разбить по городам"
   ]
  },
  {
   "cell_type": "markdown",
   "id": "fed82442",
   "metadata": {},
   "source": [
    "_Важно делать проверки кода, например, до всех изменений в данных сохранить сумму денег, а после группировок и другого,посмотреть выполняется ли равенство суммы_"
   ]
  },
  {
   "cell_type": "code",
   "execution_count": 11,
   "id": "f397052f",
   "metadata": {},
   "outputs": [
    {
     "data": {
      "text/plain": [
       "992103.59"
      ]
     },
     "execution_count": 11,
     "metadata": {},
     "output_type": "execute_result"
    }
   ],
   "source": [
    "all_money = df.money.sum().round(2) #просуммироали все значения в колонке money\n",
    "all_money"
   ]
  },
  {
   "cell_type": "markdown",
   "id": "dcc97237",
   "metadata": {},
   "source": [
    "**!Метод агрегации можно записывать в виде ```agg``` или ```aggregate```**\n",
    "\n",
    "*Внутри agg мы задаем словарь(в фигурных скобках), в качестве ключа название столбца (т е ключ столбца), в качестве значения задаем функцию, например ```sum```, ```mean```, ```median``` и тд, функцию заключаем в кавычки*"
   ]
  },
  {
   "cell_type": "code",
   "execution_count": 13,
   "id": "5f4c70b9",
   "metadata": {},
   "outputs": [
    {
     "data": {
      "text/html": [
       "<div>\n",
       "<style scoped>\n",
       "    .dataframe tbody tr th:only-of-type {\n",
       "        vertical-align: middle;\n",
       "    }\n",
       "\n",
       "    .dataframe tbody tr th {\n",
       "        vertical-align: top;\n",
       "    }\n",
       "\n",
       "    .dataframe thead th {\n",
       "        text-align: right;\n",
       "    }\n",
       "</style>\n",
       "<table border=\"1\" class=\"dataframe\">\n",
       "  <thead>\n",
       "    <tr style=\"text-align: right;\">\n",
       "      <th></th>\n",
       "      <th>money</th>\n",
       "    </tr>\n",
       "    <tr>\n",
       "      <th>title</th>\n",
       "      <th></th>\n",
       "    </tr>\n",
       "  </thead>\n",
       "  <tbody>\n",
       "    <tr>\n",
       "      <th>Курс обучения «Консультант»</th>\n",
       "      <td>208163.49</td>\n",
       "    </tr>\n",
       "    <tr>\n",
       "      <th>Курс обучения «Специалист»</th>\n",
       "      <td>160862.64</td>\n",
       "    </tr>\n",
       "    <tr>\n",
       "      <th>Курс обучения «Эксперт»</th>\n",
       "      <td>148992.80</td>\n",
       "    </tr>\n",
       "    <tr>\n",
       "      <th>Курс от Школы Диетологов. Бизнес</th>\n",
       "      <td>18752.54</td>\n",
       "    </tr>\n",
       "    <tr>\n",
       "      <th>Курс от Школы Диетологов. Повышение квалификации.</th>\n",
       "      <td>88384.92</td>\n",
       "    </tr>\n",
       "    <tr>\n",
       "      <th>Подписка «ОНЛАЙН ДИЕТОЛОГ» с ежемесячным автосписанием</th>\n",
       "      <td>366947.20</td>\n",
       "    </tr>\n",
       "  </tbody>\n",
       "</table>\n",
       "</div>"
      ],
      "text/plain": [
       "                                                        money\n",
       "title                                                        \n",
       "Курс обучения «Консультант»                         208163.49\n",
       "Курс обучения «Специалист»                          160862.64\n",
       "Курс обучения «Эксперт»                             148992.80\n",
       "Курс от Школы Диетологов. Бизнес                     18752.54\n",
       "Курс от Школы Диетологов. Повышение квалификации.    88384.92\n",
       "Подписка «ОНЛАЙН ДИЕТОЛОГ» с ежемесячным автосп...  366947.20"
      ]
     },
     "execution_count": 13,
     "metadata": {},
     "output_type": "execute_result"
    }
   ],
   "source": [
    "df.groupby('title').agg({'money': 'sum'})"
   ]
  },
  {
   "cell_type": "markdown",
   "id": "97e979e6",
   "metadata": {},
   "source": [
    "*Теперь ```title``` уехал вниз, т к стал индексом DataFrame, чтобы это изменить нужно внутри ```groupby``` указать ```as_index=False```*"
   ]
  },
  {
   "cell_type": "code",
   "execution_count": 15,
   "id": "3e63af30",
   "metadata": {},
   "outputs": [
    {
     "data": {
      "text/html": [
       "<div>\n",
       "<style scoped>\n",
       "    .dataframe tbody tr th:only-of-type {\n",
       "        vertical-align: middle;\n",
       "    }\n",
       "\n",
       "    .dataframe tbody tr th {\n",
       "        vertical-align: top;\n",
       "    }\n",
       "\n",
       "    .dataframe thead th {\n",
       "        text-align: right;\n",
       "    }\n",
       "</style>\n",
       "<table border=\"1\" class=\"dataframe\">\n",
       "  <thead>\n",
       "    <tr style=\"text-align: right;\">\n",
       "      <th></th>\n",
       "      <th>title</th>\n",
       "      <th>money</th>\n",
       "    </tr>\n",
       "  </thead>\n",
       "  <tbody>\n",
       "    <tr>\n",
       "      <th>3</th>\n",
       "      <td>Курс от Школы Диетологов. Бизнес</td>\n",
       "      <td>18752.54</td>\n",
       "    </tr>\n",
       "    <tr>\n",
       "      <th>4</th>\n",
       "      <td>Курс от Школы Диетологов. Повышение квалификац...</td>\n",
       "      <td>88384.92</td>\n",
       "    </tr>\n",
       "    <tr>\n",
       "      <th>2</th>\n",
       "      <td>Курс обучения «Эксперт»</td>\n",
       "      <td>148992.80</td>\n",
       "    </tr>\n",
       "    <tr>\n",
       "      <th>1</th>\n",
       "      <td>Курс обучения «Специалист»</td>\n",
       "      <td>160862.64</td>\n",
       "    </tr>\n",
       "    <tr>\n",
       "      <th>0</th>\n",
       "      <td>Курс обучения «Консультант»</td>\n",
       "      <td>208163.49</td>\n",
       "    </tr>\n",
       "    <tr>\n",
       "      <th>5</th>\n",
       "      <td>Подписка «ОНЛАЙН ДИЕТОЛОГ» с ежемесячным автос...</td>\n",
       "      <td>366947.20</td>\n",
       "    </tr>\n",
       "  </tbody>\n",
       "</table>\n",
       "</div>"
      ],
      "text/plain": [
       "                                               title      money\n",
       "3                   Курс от Школы Диетологов. Бизнес   18752.54\n",
       "4  Курс от Школы Диетологов. Повышение квалификац...   88384.92\n",
       "2                            Курс обучения «Эксперт»  148992.80\n",
       "1                         Курс обучения «Специалист»  160862.64\n",
       "0                        Курс обучения «Консультант»  208163.49\n",
       "5  Подписка «ОНЛАЙН ДИЕТОЛОГ» с ежемесячным автос...  366947.20"
      ]
     },
     "execution_count": 15,
     "metadata": {},
     "output_type": "execute_result"
    }
   ],
   "source": [
    "df.groupby('title', as_index=False).agg({'money': 'sum'}).sort_values('money')"
   ]
  },
  {
   "cell_type": "markdown",
   "id": "65f465b6",
   "metadata": {},
   "source": [
    "*Сейчас мы отсортировали, получили значения от наименьшего к наибольшему, если хотим в обратном порядке, то должны в метод ```sort_values``` добавить аргумент ```ascending=False```*"
   ]
  },
  {
   "cell_type": "code",
   "execution_count": 16,
   "id": "13ea337b",
   "metadata": {},
   "outputs": [
    {
     "data": {
      "text/html": [
       "<div>\n",
       "<style scoped>\n",
       "    .dataframe tbody tr th:only-of-type {\n",
       "        vertical-align: middle;\n",
       "    }\n",
       "\n",
       "    .dataframe tbody tr th {\n",
       "        vertical-align: top;\n",
       "    }\n",
       "\n",
       "    .dataframe thead th {\n",
       "        text-align: right;\n",
       "    }\n",
       "</style>\n",
       "<table border=\"1\" class=\"dataframe\">\n",
       "  <thead>\n",
       "    <tr style=\"text-align: right;\">\n",
       "      <th></th>\n",
       "      <th>title</th>\n",
       "      <th>money</th>\n",
       "    </tr>\n",
       "  </thead>\n",
       "  <tbody>\n",
       "    <tr>\n",
       "      <th>5</th>\n",
       "      <td>Подписка «ОНЛАЙН ДИЕТОЛОГ» с ежемесячным автос...</td>\n",
       "      <td>366947.20</td>\n",
       "    </tr>\n",
       "    <tr>\n",
       "      <th>0</th>\n",
       "      <td>Курс обучения «Консультант»</td>\n",
       "      <td>208163.49</td>\n",
       "    </tr>\n",
       "    <tr>\n",
       "      <th>1</th>\n",
       "      <td>Курс обучения «Специалист»</td>\n",
       "      <td>160862.64</td>\n",
       "    </tr>\n",
       "    <tr>\n",
       "      <th>2</th>\n",
       "      <td>Курс обучения «Эксперт»</td>\n",
       "      <td>148992.80</td>\n",
       "    </tr>\n",
       "    <tr>\n",
       "      <th>4</th>\n",
       "      <td>Курс от Школы Диетологов. Повышение квалификац...</td>\n",
       "      <td>88384.92</td>\n",
       "    </tr>\n",
       "    <tr>\n",
       "      <th>3</th>\n",
       "      <td>Курс от Школы Диетологов. Бизнес</td>\n",
       "      <td>18752.54</td>\n",
       "    </tr>\n",
       "  </tbody>\n",
       "</table>\n",
       "</div>"
      ],
      "text/plain": [
       "                                               title      money\n",
       "5  Подписка «ОНЛАЙН ДИЕТОЛОГ» с ежемесячным автос...  366947.20\n",
       "0                        Курс обучения «Консультант»  208163.49\n",
       "1                         Курс обучения «Специалист»  160862.64\n",
       "2                            Курс обучения «Эксперт»  148992.80\n",
       "4  Курс от Школы Диетологов. Повышение квалификац...   88384.92\n",
       "3                   Курс от Школы Диетологов. Бизнес   18752.54"
      ]
     },
     "execution_count": 16,
     "metadata": {},
     "output_type": "execute_result"
    }
   ],
   "source": [
    "df.groupby('title', as_index=False).agg({'money': 'sum'}).sort_values('money', ascending=False)"
   ]
  },
  {
   "cell_type": "markdown",
   "id": "81b58a76",
   "metadata": {},
   "source": [
    "*У нас получился такой аналитический запрос - мы взяли данные, сгруппировали по какой то переменой, применяем агррегацию, и отсортировали по убыванию*"
   ]
  },
  {
   "cell_type": "markdown",
   "id": "dc97fff1",
   "metadata": {},
   "source": [
    "***! Для читабельности кода лучше переносить каждый метод на новую строку следующим образом:***"
   ]
  },
  {
   "cell_type": "code",
   "execution_count": 17,
   "id": "d15a052f",
   "metadata": {},
   "outputs": [
    {
     "data": {
      "text/html": [
       "<div>\n",
       "<style scoped>\n",
       "    .dataframe tbody tr th:only-of-type {\n",
       "        vertical-align: middle;\n",
       "    }\n",
       "\n",
       "    .dataframe tbody tr th {\n",
       "        vertical-align: top;\n",
       "    }\n",
       "\n",
       "    .dataframe thead th {\n",
       "        text-align: right;\n",
       "    }\n",
       "</style>\n",
       "<table border=\"1\" class=\"dataframe\">\n",
       "  <thead>\n",
       "    <tr style=\"text-align: right;\">\n",
       "      <th></th>\n",
       "      <th>title</th>\n",
       "      <th>money</th>\n",
       "    </tr>\n",
       "  </thead>\n",
       "  <tbody>\n",
       "    <tr>\n",
       "      <th>5</th>\n",
       "      <td>Подписка «ОНЛАЙН ДИЕТОЛОГ» с ежемесячным автос...</td>\n",
       "      <td>366947.20</td>\n",
       "    </tr>\n",
       "    <tr>\n",
       "      <th>0</th>\n",
       "      <td>Курс обучения «Консультант»</td>\n",
       "      <td>208163.49</td>\n",
       "    </tr>\n",
       "    <tr>\n",
       "      <th>1</th>\n",
       "      <td>Курс обучения «Специалист»</td>\n",
       "      <td>160862.64</td>\n",
       "    </tr>\n",
       "    <tr>\n",
       "      <th>2</th>\n",
       "      <td>Курс обучения «Эксперт»</td>\n",
       "      <td>148992.80</td>\n",
       "    </tr>\n",
       "    <tr>\n",
       "      <th>4</th>\n",
       "      <td>Курс от Школы Диетологов. Повышение квалификац...</td>\n",
       "      <td>88384.92</td>\n",
       "    </tr>\n",
       "    <tr>\n",
       "      <th>3</th>\n",
       "      <td>Курс от Школы Диетологов. Бизнес</td>\n",
       "      <td>18752.54</td>\n",
       "    </tr>\n",
       "  </tbody>\n",
       "</table>\n",
       "</div>"
      ],
      "text/plain": [
       "                                               title      money\n",
       "5  Подписка «ОНЛАЙН ДИЕТОЛОГ» с ежемесячным автос...  366947.20\n",
       "0                        Курс обучения «Консультант»  208163.49\n",
       "1                         Курс обучения «Специалист»  160862.64\n",
       "2                            Курс обучения «Эксперт»  148992.80\n",
       "4  Курс от Школы Диетологов. Повышение квалификац...   88384.92\n",
       "3                   Курс от Школы Диетологов. Бизнес   18752.54"
      ]
     },
     "execution_count": 17,
     "metadata": {},
     "output_type": "execute_result"
    }
   ],
   "source": [
    "df.groupby('title', as_index=False) \\\n",
    "    .agg({'money': 'sum'}) \\\n",
    "    .sort_values('money', ascending=False)"
   ]
  },
  {
   "cell_type": "markdown",
   "id": "437ad042",
   "metadata": {},
   "source": [
    "Добавим город в качестве группировки добавим город, но при использовании двух колонок при группировке их надо написать в виде списка"
   ]
  },
  {
   "cell_type": "code",
   "execution_count": 21,
   "id": "5ddea78c",
   "metadata": {},
   "outputs": [
    {
     "data": {
      "text/html": [
       "<div>\n",
       "<style scoped>\n",
       "    .dataframe tbody tr th:only-of-type {\n",
       "        vertical-align: middle;\n",
       "    }\n",
       "\n",
       "    .dataframe tbody tr th {\n",
       "        vertical-align: top;\n",
       "    }\n",
       "\n",
       "    .dataframe thead th {\n",
       "        text-align: right;\n",
       "    }\n",
       "</style>\n",
       "<table border=\"1\" class=\"dataframe\">\n",
       "  <thead>\n",
       "    <tr style=\"text-align: right;\">\n",
       "      <th></th>\n",
       "      <th>title</th>\n",
       "      <th>city</th>\n",
       "      <th>money</th>\n",
       "    </tr>\n",
       "  </thead>\n",
       "  <tbody>\n",
       "    <tr>\n",
       "      <th>51</th>\n",
       "      <td>Курс обучения «Эксперт»</td>\n",
       "      <td>г.Санкт-Петербург и Ленинградская область</td>\n",
       "      <td>59195.00</td>\n",
       "    </tr>\n",
       "    <tr>\n",
       "      <th>156</th>\n",
       "      <td>Подписка «ОНЛАЙН ДИЕТОЛОГ» с ежемесячным автос...</td>\n",
       "      <td>г.Москва и Московская область</td>\n",
       "      <td>46967.04</td>\n",
       "    </tr>\n",
       "    <tr>\n",
       "      <th>39</th>\n",
       "      <td>Курс обучения «Эксперт»</td>\n",
       "      <td>Балхаш</td>\n",
       "      <td>42750.00</td>\n",
       "    </tr>\n",
       "    <tr>\n",
       "      <th>95</th>\n",
       "      <td>Подписка «ОНЛАЙН ДИЕТОЛОГ» с ежемесячным автос...</td>\n",
       "      <td>Краснодарский край</td>\n",
       "      <td>38169.78</td>\n",
       "    </tr>\n",
       "    <tr>\n",
       "      <th>30</th>\n",
       "      <td>Курс обучения «Специалист»</td>\n",
       "      <td>Краснодар</td>\n",
       "      <td>29695.70</td>\n",
       "    </tr>\n",
       "    <tr>\n",
       "      <th>...</th>\n",
       "      <td>...</td>\n",
       "      <td>...</td>\n",
       "      <td>...</td>\n",
       "    </tr>\n",
       "    <tr>\n",
       "      <th>63</th>\n",
       "      <td>Курс от Школы Диетологов. Повышение квалификац...</td>\n",
       "      <td>Кемерово</td>\n",
       "      <td>0.00</td>\n",
       "    </tr>\n",
       "    <tr>\n",
       "      <th>61</th>\n",
       "      <td>Курс от Школы Диетологов. Повышение квалификац...</td>\n",
       "      <td>Екатеринбург</td>\n",
       "      <td>0.00</td>\n",
       "    </tr>\n",
       "    <tr>\n",
       "      <th>55</th>\n",
       "      <td>Курс от Школы Диетологов. Бизнес</td>\n",
       "      <td>Крым Советский</td>\n",
       "      <td>0.00</td>\n",
       "    </tr>\n",
       "    <tr>\n",
       "      <th>54</th>\n",
       "      <td>Курс от Школы Диетологов. Бизнес</td>\n",
       "      <td>Киев</td>\n",
       "      <td>0.00</td>\n",
       "    </tr>\n",
       "    <tr>\n",
       "      <th>158</th>\n",
       "      <td>Подписка «ОНЛАЙН ДИЕТОЛОГ» с ежемесячным автос...</td>\n",
       "      <td>нижний Новгород</td>\n",
       "      <td>0.00</td>\n",
       "    </tr>\n",
       "  </tbody>\n",
       "</table>\n",
       "<p>159 rows × 3 columns</p>\n",
       "</div>"
      ],
      "text/plain": [
       "                                                 title  \\\n",
       "51                             Курс обучения «Эксперт»   \n",
       "156  Подписка «ОНЛАЙН ДИЕТОЛОГ» с ежемесячным автос...   \n",
       "39                             Курс обучения «Эксперт»   \n",
       "95   Подписка «ОНЛАЙН ДИЕТОЛОГ» с ежемесячным автос...   \n",
       "30                          Курс обучения «Специалист»   \n",
       "..                                                 ...   \n",
       "63   Курс от Школы Диетологов. Повышение квалификац...   \n",
       "61   Курс от Школы Диетологов. Повышение квалификац...   \n",
       "55                    Курс от Школы Диетологов. Бизнес   \n",
       "54                    Курс от Школы Диетологов. Бизнес   \n",
       "158  Подписка «ОНЛАЙН ДИЕТОЛОГ» с ежемесячным автос...   \n",
       "\n",
       "                                          city     money  \n",
       "51   г.Санкт-Петербург и Ленинградская область  59195.00  \n",
       "156              г.Москва и Московская область  46967.04  \n",
       "39                                      Балхаш  42750.00  \n",
       "95                          Краснодарский край  38169.78  \n",
       "30                                   Краснодар  29695.70  \n",
       "..                                         ...       ...  \n",
       "63                                    Кемерово      0.00  \n",
       "61                               Екатеринбург       0.00  \n",
       "55                              Крым Советский      0.00  \n",
       "54                                        Киев      0.00  \n",
       "158                            нижний Новгород      0.00  \n",
       "\n",
       "[159 rows x 3 columns]"
      ]
     },
     "execution_count": 21,
     "metadata": {},
     "output_type": "execute_result"
    }
   ],
   "source": [
    "df.groupby(['title', 'city'], as_index=False) \\\n",
    "    .agg({'money': 'sum'}) \\\n",
    "    .sort_values('money', ascending=False)"
   ]
  },
  {
   "cell_type": "markdown",
   "id": "faff55fe",
   "metadata": {},
   "source": [
    "Уберем значения, где money = 0, те не принесли денег"
   ]
  },
  {
   "cell_type": "code",
   "execution_count": 22,
   "id": "d8ffb02e",
   "metadata": {},
   "outputs": [
    {
     "data": {
      "text/html": [
       "<div>\n",
       "<style scoped>\n",
       "    .dataframe tbody tr th:only-of-type {\n",
       "        vertical-align: middle;\n",
       "    }\n",
       "\n",
       "    .dataframe tbody tr th {\n",
       "        vertical-align: top;\n",
       "    }\n",
       "\n",
       "    .dataframe thead th {\n",
       "        text-align: right;\n",
       "    }\n",
       "</style>\n",
       "<table border=\"1\" class=\"dataframe\">\n",
       "  <thead>\n",
       "    <tr style=\"text-align: right;\">\n",
       "      <th></th>\n",
       "      <th>title</th>\n",
       "      <th>city</th>\n",
       "      <th>money</th>\n",
       "    </tr>\n",
       "  </thead>\n",
       "  <tbody>\n",
       "    <tr>\n",
       "      <th>51</th>\n",
       "      <td>Курс обучения «Эксперт»</td>\n",
       "      <td>г.Санкт-Петербург и Ленинградская область</td>\n",
       "      <td>59195.00</td>\n",
       "    </tr>\n",
       "    <tr>\n",
       "      <th>156</th>\n",
       "      <td>Подписка «ОНЛАЙН ДИЕТОЛОГ» с ежемесячным автос...</td>\n",
       "      <td>г.Москва и Московская область</td>\n",
       "      <td>46967.04</td>\n",
       "    </tr>\n",
       "    <tr>\n",
       "      <th>39</th>\n",
       "      <td>Курс обучения «Эксперт»</td>\n",
       "      <td>Балхаш</td>\n",
       "      <td>42750.00</td>\n",
       "    </tr>\n",
       "    <tr>\n",
       "      <th>95</th>\n",
       "      <td>Подписка «ОНЛАЙН ДИЕТОЛОГ» с ежемесячным автос...</td>\n",
       "      <td>Краснодарский край</td>\n",
       "      <td>38169.78</td>\n",
       "    </tr>\n",
       "    <tr>\n",
       "      <th>30</th>\n",
       "      <td>Курс обучения «Специалист»</td>\n",
       "      <td>Краснодар</td>\n",
       "      <td>29695.70</td>\n",
       "    </tr>\n",
       "    <tr>\n",
       "      <th>...</th>\n",
       "      <td>...</td>\n",
       "      <td>...</td>\n",
       "      <td>...</td>\n",
       "    </tr>\n",
       "    <tr>\n",
       "      <th>74</th>\n",
       "      <td>Подписка «ОНЛАЙН ДИЕТОЛОГ» с ежемесячным автос...</td>\n",
       "      <td>Алматы</td>\n",
       "      <td>2914.30</td>\n",
       "    </tr>\n",
       "    <tr>\n",
       "      <th>12</th>\n",
       "      <td>Курс обучения «Консультант»</td>\n",
       "      <td>Москва</td>\n",
       "      <td>2.00</td>\n",
       "    </tr>\n",
       "    <tr>\n",
       "      <th>11</th>\n",
       "      <td>Курс обучения «Консультант»</td>\n",
       "      <td>Люберцы</td>\n",
       "      <td>1.00</td>\n",
       "    </tr>\n",
       "    <tr>\n",
       "      <th>21</th>\n",
       "      <td>Курс обучения «Консультант»</td>\n",
       "      <td>София</td>\n",
       "      <td>1.00</td>\n",
       "    </tr>\n",
       "    <tr>\n",
       "      <th>29</th>\n",
       "      <td>Курс обучения «Консультант»</td>\n",
       "      <td>москва</td>\n",
       "      <td>1.00</td>\n",
       "    </tr>\n",
       "  </tbody>\n",
       "</table>\n",
       "<p>109 rows × 3 columns</p>\n",
       "</div>"
      ],
      "text/plain": [
       "                                                 title  \\\n",
       "51                             Курс обучения «Эксперт»   \n",
       "156  Подписка «ОНЛАЙН ДИЕТОЛОГ» с ежемесячным автос...   \n",
       "39                             Курс обучения «Эксперт»   \n",
       "95   Подписка «ОНЛАЙН ДИЕТОЛОГ» с ежемесячным автос...   \n",
       "30                          Курс обучения «Специалист»   \n",
       "..                                                 ...   \n",
       "74   Подписка «ОНЛАЙН ДИЕТОЛОГ» с ежемесячным автос...   \n",
       "12                         Курс обучения «Консультант»   \n",
       "11                         Курс обучения «Консультант»   \n",
       "21                         Курс обучения «Консультант»   \n",
       "29                         Курс обучения «Консультант»   \n",
       "\n",
       "                                          city     money  \n",
       "51   г.Санкт-Петербург и Ленинградская область  59195.00  \n",
       "156              г.Москва и Московская область  46967.04  \n",
       "39                                      Балхаш  42750.00  \n",
       "95                          Краснодарский край  38169.78  \n",
       "30                                   Краснодар  29695.70  \n",
       "..                                         ...       ...  \n",
       "74                                      Алматы   2914.30  \n",
       "12                                      Москва      2.00  \n",
       "11                                     Люберцы      1.00  \n",
       "21                                       София      1.00  \n",
       "29                                      москва      1.00  \n",
       "\n",
       "[109 rows x 3 columns]"
      ]
     },
     "execution_count": 22,
     "metadata": {},
     "output_type": "execute_result"
    }
   ],
   "source": [
    "df.groupby(['title', 'city'], as_index=False) \\\n",
    "    .agg({'money': 'sum'}) \\\n",
    "    .sort_values('money', ascending=False) \\\n",
    "    .query('money != 0')"
   ]
  },
  {
   "cell_type": "markdown",
   "id": "45f1e470",
   "metadata": {},
   "source": [
    "Можем полученный результат сохранить в новой переменной чтоб вернуть данные исходному заказчику"
   ]
  },
  {
   "cell_type": "code",
   "execution_count": 27,
   "id": "ee22bf88",
   "metadata": {},
   "outputs": [],
   "source": [
    "money_by_city = df.groupby(['title', 'city'], as_index=False) \\\n",
    "    .agg({'money': 'sum'}) \\\n",
    "    .sort_values('money', ascending=False) \\\n",
    "    .query('money != 0')"
   ]
  },
  {
   "cell_type": "markdown",
   "id": "c4e0a443",
   "metadata": {},
   "source": [
    "Проверяем не потеряли ли деньги и сохраняем обратно в формат ```csv```"
   ]
  },
  {
   "cell_type": "code",
   "execution_count": 28,
   "id": "4729f391",
   "metadata": {},
   "outputs": [
    {
     "data": {
      "text/plain": [
       "969329.87"
      ]
     },
     "execution_count": 28,
     "metadata": {},
     "output_type": "execute_result"
    }
   ],
   "source": [
    "money_by_city.money.sum().round(2)"
   ]
  },
  {
   "cell_type": "markdown",
   "id": "2a42a4aa",
   "metadata": {},
   "source": [
    "Чтоб csv файл не включал номер (нулевой столбец), можно ```index=False```"
   ]
  },
  {
   "cell_type": "code",
   "execution_count": 29,
   "id": "e938d2cb",
   "metadata": {},
   "outputs": [],
   "source": [
    "money_by_city.to_csv('money_by_city.csv', index=False)"
   ]
  },
  {
   "cell_type": "markdown",
   "id": "35a83cc9",
   "metadata": {},
   "source": [
    "Посчитаем количество заказов для каждого из курсов"
   ]
  },
  {
   "cell_type": "code",
   "execution_count": 32,
   "id": "22f600cf",
   "metadata": {},
   "outputs": [
    {
     "data": {
      "text/html": [
       "<div>\n",
       "<style scoped>\n",
       "    .dataframe tbody tr th:only-of-type {\n",
       "        vertical-align: middle;\n",
       "    }\n",
       "\n",
       "    .dataframe tbody tr th {\n",
       "        vertical-align: top;\n",
       "    }\n",
       "\n",
       "    .dataframe thead th {\n",
       "        text-align: right;\n",
       "    }\n",
       "</style>\n",
       "<table border=\"1\" class=\"dataframe\">\n",
       "  <thead>\n",
       "    <tr style=\"text-align: right;\">\n",
       "      <th></th>\n",
       "      <th>title</th>\n",
       "      <th>money</th>\n",
       "      <th>number</th>\n",
       "    </tr>\n",
       "  </thead>\n",
       "  <tbody>\n",
       "    <tr>\n",
       "      <th>5</th>\n",
       "      <td>Подписка «ОНЛАЙН ДИЕТОЛОГ» с ежемесячным автос...</td>\n",
       "      <td>366947.20</td>\n",
       "      <td>182</td>\n",
       "    </tr>\n",
       "    <tr>\n",
       "      <th>0</th>\n",
       "      <td>Курс обучения «Консультант»</td>\n",
       "      <td>208163.49</td>\n",
       "      <td>52</td>\n",
       "    </tr>\n",
       "    <tr>\n",
       "      <th>1</th>\n",
       "      <td>Курс обучения «Специалист»</td>\n",
       "      <td>160862.64</td>\n",
       "      <td>12</td>\n",
       "    </tr>\n",
       "    <tr>\n",
       "      <th>2</th>\n",
       "      <td>Курс обучения «Эксперт»</td>\n",
       "      <td>148992.80</td>\n",
       "      <td>22</td>\n",
       "    </tr>\n",
       "    <tr>\n",
       "      <th>4</th>\n",
       "      <td>Курс от Школы Диетологов. Повышение квалификац...</td>\n",
       "      <td>88384.92</td>\n",
       "      <td>15</td>\n",
       "    </tr>\n",
       "    <tr>\n",
       "      <th>3</th>\n",
       "      <td>Курс от Школы Диетологов. Бизнес</td>\n",
       "      <td>18752.54</td>\n",
       "      <td>9</td>\n",
       "    </tr>\n",
       "  </tbody>\n",
       "</table>\n",
       "</div>"
      ],
      "text/plain": [
       "                                               title      money  number\n",
       "5  Подписка «ОНЛАЙН ДИЕТОЛОГ» с ежемесячным автос...  366947.20     182\n",
       "0                        Курс обучения «Консультант»  208163.49      52\n",
       "1                         Курс обучения «Специалист»  160862.64      12\n",
       "2                            Курс обучения «Эксперт»  148992.80      22\n",
       "4  Курс от Школы Диетологов. Повышение квалификац...   88384.92      15\n",
       "3                   Курс от Школы Диетологов. Бизнес   18752.54       9"
      ]
     },
     "execution_count": 32,
     "metadata": {},
     "output_type": "execute_result"
    }
   ],
   "source": [
    "df.groupby('title', as_index=False) \\\n",
    "    .agg({'money': 'sum', 'number': 'count'}) \\\n",
    "    .sort_values('money', ascending=False)"
   ]
  },
  {
   "cell_type": "code",
   "execution_count": null,
   "id": "1c79416e",
   "metadata": {},
   "outputs": [],
   "source": []
  },
  {
   "cell_type": "code",
   "execution_count": null,
   "id": "a4e0df2d",
   "metadata": {},
   "outputs": [],
   "source": []
  },
  {
   "cell_type": "code",
   "execution_count": null,
   "id": "edaf0173",
   "metadata": {},
   "outputs": [],
   "source": []
  }
 ],
 "metadata": {
  "kernelspec": {
   "display_name": "Python 3",
   "language": "python",
   "name": "python3"
  },
  "language_info": {
   "codemirror_mode": {
    "name": "ipython",
    "version": 3
   },
   "file_extension": ".py",
   "mimetype": "text/x-python",
   "name": "python",
   "nbconvert_exporter": "python",
   "pygments_lexer": "ipython3",
   "version": "3.8.8"
  }
 },
 "nbformat": 4,
 "nbformat_minor": 5
}
